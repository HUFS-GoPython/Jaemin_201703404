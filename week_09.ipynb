{
 "cells": [
  {
   "cell_type": "markdown",
   "id": "bb3c1c6a-6d00-4364-a0b5-a415528bea06",
   "metadata": {},
   "source": [
    "## Dictionary\n",
    "- 영어 사전\n",
    "    - 단어: 뜻\n",
    "    - 키: 값\n",
    "    - 순서가 없음\n",
    "    - \"키로 값을 찾음\"\n",
    "        - 키는 중복되지 않는 고유한 값\n",
    "    - 가변 타입이며 수정, 삭제, 추가 가능\n",
    "    - 타입: dict\n",
    "    - 형 변환: 'dict()'\n",
    "    - 중괄호 사용 {}, 콤마로 구분\n",
    "    - 값에 다양한 자료구조가 올 수 있음\n",
    "        - a: 1, a: [1, 2, 3, 4]"
   ]
  },
  {
   "cell_type": "code",
   "execution_count": 1,
   "id": "f62ea138-baaa-447b-97f9-bb7a68f328f3",
   "metadata": {},
   "outputs": [
    {
     "data": {
      "text/plain": [
       "1"
      ]
     },
     "execution_count": 1,
     "metadata": {},
     "output_type": "execute_result"
    }
   ],
   "source": [
    "# 인덱싱 불가능\n",
    "a = [1, 2, 3]\n",
    "a[0]"
   ]
  },
  {
   "cell_type": "code",
   "execution_count": 2,
   "id": "9704c4eb-8f78-4096-94a5-d52aecc3f422",
   "metadata": {},
   "outputs": [
    {
     "name": "stdout",
     "output_type": "stream",
     "text": [
      "<class 'dict'>\n",
      "<class 'set'>\n"
     ]
    }
   ],
   "source": [
    "# 빈 딕셔너리 선언\n",
    "empty = dict()\n",
    "empty_dict = {}\n",
    "print(type(empty_dict))\n",
    "\n",
    "# set {}\n",
    "empty = {} # dict type\n",
    "empty_set = set()\n",
    "print(type(empty_set))"
   ]
  },
  {
   "cell_type": "code",
   "execution_count": 3,
   "id": "d854d4a7-2477-4e18-9148-b0b2f2707a2d",
   "metadata": {},
   "outputs": [
    {
     "data": {
      "text/plain": [
       "({1, 2, 3}, {1: 'apple', 2: 'banana', 3: 'kiwi'})"
      ]
     },
     "execution_count": 3,
     "metadata": {},
     "output_type": "execute_result"
    }
   ],
   "source": [
    "a = {1, 2, 3} # set 타입으로 초기화\n",
    "b = {1: 'apple', 2: 'banana', 3: 'kiwi'} # dict 타입으로 초기화\n",
    "a, b"
   ]
  },
  {
   "cell_type": "code",
   "execution_count": 4,
   "id": "6a66435b-4764-43b7-a0c6-4980bbd4f65a",
   "metadata": {},
   "outputs": [
    {
     "data": {
      "text/plain": [
       "{'apple': 'a', 'banana': 'b', 'kiwi': 'c'}"
      ]
     },
     "execution_count": 4,
     "metadata": {},
     "output_type": "execute_result"
    }
   ],
   "source": [
    "# 아래 방법으로도 딕셔너리 초기화 가능\n",
    "b = {'': '', '': '', '': ''}\n",
    "b = dict(apple = 'a', banana = 'b', kiwi = 'c')\n",
    "b"
   ]
  },
  {
   "cell_type": "code",
   "execution_count": 5,
   "id": "9bc9382e-c2f7-4a2b-8b4b-4ca3414a4427",
   "metadata": {},
   "outputs": [
    {
     "data": {
      "text/plain": [
       "{202201: ['james', '경제학과'],\n",
       " 202202: ['louis', '컴공과'],\n",
       " 202203: ['laura', '스페인어과']}"
      ]
     },
     "execution_count": 5,
     "metadata": {},
     "output_type": "execute_result"
    }
   ],
   "source": [
    "# 출석부로 딕셔너리 만들기\n",
    "\"\"\"\n",
    "이름, 학번, 학과\n",
    "james 202201 경제학과\n",
    "laura 202203 스페인어과\n",
    "louis 202202 컴공과\n",
    "\"\"\"\n",
    "\n",
    "# 중복 없는 값을 기준으로 키 값 설정\n",
    "attendance = {202201: ['james', '경제학과'], 202202: ['louis', '컴공과'], 202203: ['laura', '스페인어과']}\n",
    "attendance"
   ]
  },
  {
   "cell_type": "markdown",
   "id": "a6317794-2dc1-40b7-9452-0a8586356245",
   "metadata": {},
   "source": [
    "### 형 변환"
   ]
  },
  {
   "cell_type": "code",
   "execution_count": 6,
   "id": "f6b632ae-ce9d-4333-8f3f-718b439c5b20",
   "metadata": {},
   "outputs": [
    {
     "data": {
      "text/plain": [
       "{1: 2, 2: 3, 3: 4}"
      ]
     },
     "execution_count": 6,
     "metadata": {},
     "output_type": "execute_result"
    }
   ],
   "source": [
    "# key, value 값이 쌍으로 존재할 경우\n",
    "ex1 = [[1, 2], [2, 3], [3, 4]]\n",
    "dict(ex1)"
   ]
  },
  {
   "cell_type": "code",
   "execution_count": 7,
   "id": "cddd4c9a-ecbd-4fb5-bb64-b73aac68f915",
   "metadata": {},
   "outputs": [
    {
     "data": {
      "text/plain": [
       "{1: 3, 2: 3}"
      ]
     },
     "execution_count": 7,
     "metadata": {},
     "output_type": "execute_result"
    }
   ],
   "source": [
    "# 같은 키 값이 존재할 경우 마지막 값을 기준으로\n",
    "ex2 = [[1, 2], [2, 3], [1, 3]]\n",
    "dict(ex2)"
   ]
  },
  {
   "cell_type": "code",
   "execution_count": 8,
   "id": "80ff1c29-c345-4860-9270-27a8d28483c2",
   "metadata": {},
   "outputs": [
    {
     "data": {
      "text/plain": [
       "{'a': 'b', 'b': 'c', 'c': 'd'}"
      ]
     },
     "execution_count": 8,
     "metadata": {},
     "output_type": "execute_result"
    }
   ],
   "source": [
    "# 키 값으로 문자열은 두 자리까지만 가능\n",
    "ex3 = ['ab', 'bc', 'cd']\n",
    "dict(ex3)"
   ]
  },
  {
   "cell_type": "code",
   "execution_count": 9,
   "id": "daf000ab-2e79-485c-a883-dfc0493dc633",
   "metadata": {},
   "outputs": [
    {
     "data": {
      "text/plain": [
       "'Eric'"
      ]
     },
     "execution_count": 9,
     "metadata": {},
     "output_type": "execute_result"
    }
   ],
   "source": [
    "# 딕셔너리 가변 예시\n",
    "pythons = {\n",
    "    'Chapman': 'Graham', \n",
    "    'Cleese': 'John', \n",
    "    'Idle': 'Eric', \n",
    "    'Jones': 'Terry',\n",
    "    'Palin': 'Michael'\n",
    "}\n",
    "\n",
    "pythons['Idle']"
   ]
  },
  {
   "cell_type": "code",
   "execution_count": 10,
   "id": "ea3b957b-bf4c-4d71-9f3c-10f01b7546e0",
   "metadata": {},
   "outputs": [],
   "source": [
    "# 추가\n",
    "pythons['Hwa'] = 'Chloe'"
   ]
  },
  {
   "cell_type": "code",
   "execution_count": 11,
   "id": "a53a6ce7-501e-435d-9ca2-03fe13bdaa15",
   "metadata": {},
   "outputs": [],
   "source": [
    "# 변경\n",
    "pythons['Idle'] = 'James'"
   ]
  },
  {
   "cell_type": "code",
   "execution_count": 12,
   "id": "8f49d38f-1816-4af1-9c02-c75d4f75e4a2",
   "metadata": {},
   "outputs": [
    {
     "data": {
      "text/plain": [
       "{'Chapman': 'Graham',\n",
       " 'Cleese': 'John',\n",
       " 'Idle': 'James',\n",
       " 'Jones': 'Terry',\n",
       " 'Palin': 'Michael',\n",
       " 'Hwa': 'Chloe'}"
      ]
     },
     "execution_count": 12,
     "metadata": {},
     "output_type": "execute_result"
    }
   ],
   "source": [
    "# 추가, 변경 사항 확인\n",
    "pythons"
   ]
  },
  {
   "cell_type": "markdown",
   "id": "bb4a7c57-fee7-49ad-8ba3-72c9fbfcb45f",
   "metadata": {},
   "source": [
    "#### 예외없이 처리하는 방법(오류x)"
   ]
  },
  {
   "cell_type": "code",
   "execution_count": 13,
   "id": "6895af4f-1147-4205-ac98-672b51c0052a",
   "metadata": {},
   "outputs": [
    {
     "data": {
      "text/plain": [
       "True"
      ]
     },
     "execution_count": 13,
     "metadata": {},
     "output_type": "execute_result"
    }
   ],
   "source": [
    "# 값이 있는지 없는지 확인\n",
    "'Hwa' in pythons"
   ]
  },
  {
   "cell_type": "code",
   "execution_count": 14,
   "id": "921e8cbf-827e-4ae6-99b7-859c7ed85508",
   "metadata": {},
   "outputs": [
    {
     "name": "stdout",
     "output_type": "stream",
     "text": [
      "None\n"
     ]
    }
   ],
   "source": [
    "# get()\n",
    "print(pythons.get('Lee')) # 없는 키는 None 반환"
   ]
  },
  {
   "cell_type": "code",
   "execution_count": 15,
   "id": "0ddb8d8c-6f4e-4264-89e9-629a84854437",
   "metadata": {},
   "outputs": [
    {
     "name": "stdout",
     "output_type": "stream",
     "text": [
      "0\n"
     ]
    }
   ],
   "source": [
    "# get( , )\n",
    "print(pythons.get('Lee', 0)) # 없는 키는 0 반환"
   ]
  },
  {
   "cell_type": "markdown",
   "id": "31f0a759-f688-47ee-a0a8-b8f69dc3fd61",
   "metadata": {},
   "source": [
    "### 전체 조회\n",
    "- keys()\n",
    "- values()\n",
    "- items()"
   ]
  },
  {
   "cell_type": "code",
   "execution_count": 16,
   "id": "ea0d1c28-b102-472a-a953-b0e30c565354",
   "metadata": {},
   "outputs": [
    {
     "data": {
      "text/plain": [
       "['Chapman', 'Cleese', 'Idle', 'Jones', 'Palin', 'Hwa']"
      ]
     },
     "execution_count": 16,
     "metadata": {},
     "output_type": "execute_result"
    }
   ],
   "source": [
    "# key 값을 리스트로 반환\n",
    "list(pythons.keys())"
   ]
  },
  {
   "cell_type": "code",
   "execution_count": 17,
   "id": "8f22ce4b-c95f-4430-af1c-25c95a52a12e",
   "metadata": {},
   "outputs": [
    {
     "data": {
      "text/plain": [
       "dict_values(['Graham', 'John', 'James', 'Terry', 'Michael', 'Chloe'])"
      ]
     },
     "execution_count": 17,
     "metadata": {},
     "output_type": "execute_result"
    }
   ],
   "source": [
    "# value 값을 반환\n",
    "pythons.values()"
   ]
  },
  {
   "cell_type": "code",
   "execution_count": 18,
   "id": "e3f396fc-2f63-4dfd-a434-6f288f722930",
   "metadata": {},
   "outputs": [
    {
     "data": {
      "text/plain": [
       "dict_items([('Chapman', 'Graham'), ('Cleese', 'John'), ('Idle', 'James'), ('Jones', 'Terry'), ('Palin', 'Michael'), ('Hwa', 'Chloe')])"
      ]
     },
     "execution_count": 18,
     "metadata": {},
     "output_type": "execute_result"
    }
   ],
   "source": [
    "# (키, 값) 튜플 형태로 반환\n",
    "pythons.items() # 순회할때 많이 사용"
   ]
  },
  {
   "cell_type": "code",
   "execution_count": 19,
   "id": "7bc91b10-8c28-4093-97be-452f17432ef0",
   "metadata": {},
   "outputs": [
    {
     "name": "stdout",
     "output_type": "stream",
     "text": [
      "Chapman = Graham\n",
      "Cleese = John\n",
      "Idle = James\n",
      "Jones = Terry\n",
      "Palin = Michael\n",
      "Hwa = Chloe\n"
     ]
    }
   ],
   "source": [
    "# for문 item 순회\n",
    "for k, v in pythons.items():\n",
    "    print(f'{k} = {v}')"
   ]
  },
  {
   "cell_type": "code",
   "execution_count": 20,
   "id": "f2c1867e-1557-4a47-9830-9a8109f835ff",
   "metadata": {},
   "outputs": [
    {
     "data": {
      "text/plain": [
       "[('Chapman', 'Graham'),\n",
       " ('Cleese', 'John'),\n",
       " ('Idle', 'James'),\n",
       " ('Jones', 'Terry'),\n",
       " ('Palin', 'Michael'),\n",
       " ('Hwa', 'Chloe')]"
      ]
     },
     "execution_count": 20,
     "metadata": {},
     "output_type": "execute_result"
    }
   ],
   "source": [
    "# 리스트 컴프리헨션\n",
    "[(k, v) for k, v in pythons.items()]"
   ]
  },
  {
   "cell_type": "code",
   "execution_count": 21,
   "id": "7b473ad9-3229-410c-b76f-af4eb24fbd87",
   "metadata": {},
   "outputs": [
    {
     "data": {
      "text/plain": [
       "['Chapman', 'Cleese', 'Idle', 'Jones', 'Palin', 'Hwa']"
      ]
     },
     "execution_count": 21,
     "metadata": {},
     "output_type": "execute_result"
    }
   ],
   "source": [
    "# items()는 튜플 형태이기 때문에 인덱스로 접근 가능\n",
    "[k[0] for k in pythons.items()] # 0 = key, 1 = value"
   ]
  },
  {
   "cell_type": "code",
   "execution_count": 22,
   "id": "960080ab-2953-466c-9de7-4d3caffab4c9",
   "metadata": {},
   "outputs": [
    {
     "data": {
      "text/plain": [
       "['Chapman', 'Cleese', 'Idle', 'Jones', 'Palin', 'Hwa']"
      ]
     },
     "execution_count": 22,
     "metadata": {},
     "output_type": "execute_result"
    }
   ],
   "source": [
    "# key 값 순회\n",
    "[k for k in pythons] # keys"
   ]
  },
  {
   "cell_type": "markdown",
   "id": "74eaae0e-36c6-47f0-a169-280e8d1f570b",
   "metadata": {},
   "source": [
    "#### Q. animal_legs"
   ]
  },
  {
   "cell_type": "code",
   "execution_count": 23,
   "id": "f0db8765-c888-425a-b631-34531529ae00",
   "metadata": {},
   "outputs": [],
   "source": [
    "animal = 'cat snake money ant spider'.split()\n",
    "legs = 4, 0, 2, 4, 8"
   ]
  },
  {
   "cell_type": "code",
   "execution_count": 24,
   "id": "e658bd8b-29d2-430b-bfc4-9c7d0113c674",
   "metadata": {},
   "outputs": [
    {
     "data": {
      "text/plain": [
       "{'cat': 4, 'snake': 0, 'money': 2, 'ant': 4, 'spider': 8}"
      ]
     },
     "execution_count": 24,
     "metadata": {},
     "output_type": "execute_result"
    }
   ],
   "source": [
    "# 딕셔너리 컴프리헨션\n",
    "{k: v for k, v in zip(animal, legs)}"
   ]
  },
  {
   "cell_type": "code",
   "execution_count": 25,
   "id": "fb4dfbf4-2d38-4b5d-b52d-289c42a41967",
   "metadata": {},
   "outputs": [
    {
     "data": {
      "text/plain": [
       "{'cat': 4, 'snake': 0, 'money': 2, 'ant': 4, 'spider': 8}"
      ]
     },
     "execution_count": 25,
     "metadata": {},
     "output_type": "execute_result"
    }
   ],
   "source": [
    "# 리스트 컴프리헨션\n",
    "dict([(k, v) for k, v in zip(animal, legs)])"
   ]
  },
  {
   "cell_type": "code",
   "execution_count": 26,
   "id": "94284db0-bd6e-49c2-a904-489fd216a631",
   "metadata": {},
   "outputs": [
    {
     "name": "stdout",
     "output_type": "stream",
     "text": [
      "{'cat': 4, 'snake': 0, 'money': 2, 'ant': 4, 'spider': 8}\n"
     ]
    }
   ],
   "source": [
    "# for문\n",
    "num_legs = {}\n",
    "for k, v in zip(animal, legs):\n",
    "    num_legs[k] = v\n",
    "print(num_legs)"
   ]
  },
  {
   "cell_type": "markdown",
   "id": "08ae5f24-c6f9-4953-90a4-1d0dbe9ab1fd",
   "metadata": {},
   "source": [
    "#### Q. pythons에서 성: 이름, 성 첫글자만, 이름은 글자 개수로 이뤄진 튜플(성, 이름) 리스트로 반환"
   ]
  },
  {
   "cell_type": "code",
   "execution_count": 27,
   "id": "da8fc219-1f00-449d-92b5-db23a61ba85a",
   "metadata": {},
   "outputs": [
    {
     "data": {
      "text/plain": [
       "[('C', 6), ('C', 4), ('I', 5), ('J', 5), ('P', 7), ('H', 5)]"
      ]
     },
     "execution_count": 27,
     "metadata": {},
     "output_type": "execute_result"
    }
   ],
   "source": [
    "[(k[0], len(v)) for k, v in pythons.items()]"
   ]
  },
  {
   "cell_type": "code",
   "execution_count": 28,
   "id": "12a1645f-2abc-4478-8b58-3094ee07a435",
   "metadata": {},
   "outputs": [
    {
     "data": {
      "text/plain": [
       "[('C', 6), ('C', 4), ('I', 5), ('J', 5), ('P', 7), ('H', 5)]"
      ]
     },
     "execution_count": 28,
     "metadata": {},
     "output_type": "execute_result"
    }
   ],
   "source": [
    "# key, value를 인덱스로 접근\n",
    "[(k[0][0], len(k[1])) for k in pythons.items()]"
   ]
  },
  {
   "cell_type": "code",
   "execution_count": 29,
   "id": "046e8512-11b6-42ca-ad3e-1bc12bec44b7",
   "metadata": {},
   "outputs": [
    {
     "data": {
      "text/plain": [
       "{'Marx': 'Groucho', 'Howard': 'Moe'}"
      ]
     },
     "execution_count": 29,
     "metadata": {},
     "output_type": "execute_result"
    }
   ],
   "source": [
    "others = {\n",
    "    'Marx': 'Groucho',\n",
    "    'Howard': 'Moe'\n",
    "}\n",
    "\n",
    "others"
   ]
  },
  {
   "cell_type": "code",
   "execution_count": 30,
   "id": "3a27d04d-30d6-41fc-8ff0-e9e4e0e92eb1",
   "metadata": {},
   "outputs": [],
   "source": [
    "# update()\n",
    "pythons.update(others) # 여러개를 추가하는 경우"
   ]
  },
  {
   "cell_type": "code",
   "execution_count": 31,
   "id": "b36cdbd2-e128-44e2-8789-f21136ea8a13",
   "metadata": {},
   "outputs": [
    {
     "data": {
      "text/plain": [
       "{'Marx': 'Groucho',\n",
       " 'Howard': 'Moe',\n",
       " 'Chapman': 'Graham',\n",
       " 'Cleese': 'John',\n",
       " 'Idle': 'James',\n",
       " 'Jones': 'Terry',\n",
       " 'Palin': 'Michael',\n",
       " 'Hwa': 'Chloe'}"
      ]
     },
     "execution_count": 31,
     "metadata": {},
     "output_type": "execute_result"
    }
   ],
   "source": [
    "# python 3에서만 가능한 기능\n",
    "{**others, **pythons}"
   ]
  },
  {
   "cell_type": "code",
   "execution_count": 32,
   "id": "c45c06f3-5d93-4404-920d-4146b0079e2b",
   "metadata": {},
   "outputs": [
    {
     "data": {
      "text/plain": [
       "{'Chapman': 'Graham',\n",
       " 'Cleese': 'John',\n",
       " 'Idle': 'James',\n",
       " 'Jones': 'Terry',\n",
       " 'Palin': 'Michael',\n",
       " 'Marx': 'Groucho',\n",
       " 'Howard': 'Moe'}"
      ]
     },
     "execution_count": 32,
     "metadata": {},
     "output_type": "execute_result"
    }
   ],
   "source": [
    "# 삭제\n",
    "del pythons['Hwa']\n",
    "\n",
    "pythons"
   ]
  },
  {
   "cell_type": "code",
   "execution_count": 33,
   "id": "ce889a7d-bf33-4030-8a31-76c5e290f745",
   "metadata": {},
   "outputs": [
    {
     "ename": "KeyError",
     "evalue": "'Lee'",
     "output_type": "error",
     "traceback": [
      "\u001b[0;31m---------------------------------------------------------------------------\u001b[0m",
      "\u001b[0;31mKeyError\u001b[0m                                  Traceback (most recent call last)",
      "\u001b[0;32m/var/folders/qv/869nctd5709b62173q7l0mxh0000gn/T/ipykernel_25069/160102287.py\u001b[0m in \u001b[0;36m<module>\u001b[0;34m\u001b[0m\n\u001b[1;32m      1\u001b[0m \u001b[0;31m# 없는 값을 삭제할 경우 오류 발생\u001b[0m\u001b[0;34m\u001b[0m\u001b[0;34m\u001b[0m\u001b[0m\n\u001b[0;32m----> 2\u001b[0;31m \u001b[0;32mdel\u001b[0m \u001b[0mpythons\u001b[0m\u001b[0;34m[\u001b[0m\u001b[0;34m'Lee'\u001b[0m\u001b[0;34m]\u001b[0m\u001b[0;34m\u001b[0m\u001b[0;34m\u001b[0m\u001b[0m\n\u001b[0m",
      "\u001b[0;31mKeyError\u001b[0m: 'Lee'"
     ]
    }
   ],
   "source": [
    "# 없는 값을 삭제할 경우 오류 발생\n",
    "del pythons['Lee']"
   ]
  },
  {
   "cell_type": "code",
   "execution_count": 34,
   "id": "fbe45c67-8e88-45cc-9a5a-abd669fbe766",
   "metadata": {},
   "outputs": [
    {
     "data": {
      "text/plain": [
       "'Groucho'"
      ]
     },
     "execution_count": 34,
     "metadata": {},
     "output_type": "execute_result"
    }
   ],
   "source": [
    "# 값을 반환한 뒤 삭제\n",
    "pythons.pop('Marx')"
   ]
  },
  {
   "cell_type": "code",
   "execution_count": 35,
   "id": "80a31e3b-92a2-4729-ba2e-6d374637180c",
   "metadata": {},
   "outputs": [
    {
     "data": {
      "text/plain": [
       "0"
      ]
     },
     "execution_count": 35,
     "metadata": {},
     "output_type": "execute_result"
    }
   ],
   "source": [
    "# 삭제시 예외처리 설정\n",
    "pythons.pop('Lee', 0) # 없으면 예외는 나지만, 예외 시 출력 값을 지정할 수 있음"
   ]
  },
  {
   "cell_type": "code",
   "execution_count": 36,
   "id": "40c4e22d-86ae-499c-967e-dac202e823fe",
   "metadata": {},
   "outputs": [
    {
     "data": {
      "text/plain": [
       "{}"
      ]
     },
     "execution_count": 36,
     "metadata": {},
     "output_type": "execute_result"
    }
   ],
   "source": [
    "# 전체 삭제\n",
    "pythons.clear()\n",
    "pythons = {}\n",
    "\n",
    "pythons"
   ]
  },
  {
   "cell_type": "markdown",
   "id": "e6d73c30-b8ac-4b2f-b94e-3900e891da64",
   "metadata": {},
   "source": [
    "### 복제 (리스트와 같은 방식)\n",
    "- 할당\n",
    "- 얕은 복사\n",
    "- 깊은 복사"
   ]
  },
  {
   "cell_type": "code",
   "execution_count": 37,
   "id": "a519883e-1090-49ca-bf84-79c2c499e5ef",
   "metadata": {},
   "outputs": [
    {
     "data": {
      "text/plain": [
       "({1: 45, 2: 2, 3: 3}, {1: 45, 2: 2, 3: 3})"
      ]
     },
     "execution_count": 37,
     "metadata": {},
     "output_type": "execute_result"
    }
   ],
   "source": [
    "# 할당\n",
    "a = {1: 1, 2: 2, 3: 3}\n",
    "b = a\n",
    "a[1] = 45\n",
    "a, b"
   ]
  },
  {
   "cell_type": "code",
   "execution_count": 38,
   "id": "10b52a2a-dd4c-41f8-a77b-370de6ae355b",
   "metadata": {},
   "outputs": [
    {
     "data": {
      "text/plain": [
       "({1: 45, 2: 22, 3: 3}, {1: 45, 2: 2, 3: 3})"
      ]
     },
     "execution_count": 38,
     "metadata": {},
     "output_type": "execute_result"
    }
   ],
   "source": [
    "# 얕은 복사\n",
    "c = a.copy()\n",
    "a[2] = 22\n",
    "a, c"
   ]
  },
  {
   "cell_type": "code",
   "execution_count": 39,
   "id": "a523843a-4d9d-48db-94b0-c1c763398e78",
   "metadata": {},
   "outputs": [
    {
     "data": {
      "text/plain": [
       "({1: [100, 2, 3], 2: [2, 3, 4]}, {1: [100, 2, 3], 2: [2, 3, 4]})"
      ]
     },
     "execution_count": 39,
     "metadata": {},
     "output_type": "execute_result"
    }
   ],
   "source": [
    "# 얕은 복사 문제점\n",
    "a = {1: [1, 2, 3], 2: [2, 3, 4]}\n",
    "d = a.copy()\n",
    "a[1][0] = 100\n",
    "a, d"
   ]
  },
  {
   "cell_type": "code",
   "execution_count": 40,
   "id": "5e420751-ba63-42cf-b4bf-ad0890bb9fde",
   "metadata": {},
   "outputs": [
    {
     "data": {
      "text/plain": [
       "({1: [100, 999, 3], 2: [2, 3, 4]}, {1: [100, 2, 3], 2: [2, 3, 4]})"
      ]
     },
     "execution_count": 40,
     "metadata": {},
     "output_type": "execute_result"
    }
   ],
   "source": [
    "# 깊은 복사\n",
    "import copy\n",
    "e = copy.deepcopy(a)\n",
    "a[1][1] = 999\n",
    "a, e"
   ]
  },
  {
   "cell_type": "markdown",
   "id": "425f2e5c-b89c-4ddc-b01a-2bcc7cecf08f",
   "metadata": {},
   "source": [
    "### 비교\n",
    "- 같다, 다르다 만 가능\n",
    "- 크기 비교는 불가능"
   ]
  },
  {
   "cell_type": "code",
   "execution_count": 41,
   "id": "2e3538d5-b2aa-40ee-ab68-e9bf3d2016a9",
   "metadata": {},
   "outputs": [
    {
     "data": {
      "text/plain": [
       "True"
      ]
     },
     "execution_count": 41,
     "metadata": {},
     "output_type": "execute_result"
    }
   ],
   "source": [
    "a != b"
   ]
  },
  {
   "cell_type": "markdown",
   "id": "d3c9c9be-9924-441a-81b4-abd3c29e501a",
   "metadata": {},
   "source": [
    "### Ex\n",
    "1. 두 리스트로 하나의 딕셔너리 생성\n",
    "2. 명왕성 = pluto 추가\n",
    "3. '성'으로 끝나지 않는 키 삭제 del dict1['태양'] (x)\n",
    "4. sorted 이용해서 값 정렬 i) key, ii) value"
   ]
  },
  {
   "cell_type": "code",
   "execution_count": 42,
   "id": "050d5339-504c-4bfd-ba5b-57a1fcda8f50",
   "metadata": {},
   "outputs": [],
   "source": [
    "solar_kor = '태양 수성 금성 지구 화성 목성 토성 천왕성 해왕성'.split()\n",
    "solar_eng = 'sun mercury venus earth mars jupiter saturn uranus neptune'.split()"
   ]
  },
  {
   "cell_type": "code",
   "execution_count": 43,
   "id": "a7f4d331-d1b1-467f-888f-69c17eaafb9f",
   "metadata": {},
   "outputs": [
    {
     "data": {
      "text/plain": [
       "{'수성': 'mercury',\n",
       " '금성': 'venus',\n",
       " '화성': 'mars',\n",
       " '목성': 'jupiter',\n",
       " '토성': 'saturn',\n",
       " '천왕성': 'uranus',\n",
       " '해왕성': 'neptune',\n",
       " '명왕성': 'pluto'}"
      ]
     },
     "execution_count": 43,
     "metadata": {},
     "output_type": "execute_result"
    }
   ],
   "source": [
    "# 딕셔너리 컴프리헨션\n",
    "new_dict = {key : value for key, value in zip(solar_kor, solar_eng)}\n",
    "new_dict['명왕성'] = 'pluto'\n",
    "new_dict = {k: v for k, v in new_dict.items() if k.endswith('성')}\n",
    "new_dict"
   ]
  },
  {
   "cell_type": "code",
   "execution_count": 44,
   "id": "00fb273e-fa53-4542-9556-30a2c963dd1b",
   "metadata": {},
   "outputs": [
    {
     "data": {
      "text/plain": [
       "{'수성': 'mercury',\n",
       " '금성': 'venus',\n",
       " '화성': 'mars',\n",
       " '목성': 'jupiter',\n",
       " '토성': 'saturn',\n",
       " '천왕성': 'uranus',\n",
       " '해왕성': 'neptune',\n",
       " '명왕성': 'pluto'}"
      ]
     },
     "execution_count": 44,
     "metadata": {},
     "output_type": "execute_result"
    }
   ],
   "source": [
    "# for문 사용\n",
    "system = {}\n",
    "for k, v in zip(solar_kor, solar_eng):\n",
    "    system[k] = v\n",
    "    \n",
    "system['명왕성'] = 'pluto'\n",
    "\n",
    "for k in list(system):\n",
    "    if not k.endswith('성'):\n",
    "        del system[k]\n",
    "    \n",
    "system"
   ]
  },
  {
   "cell_type": "markdown",
   "id": "7c42a478-e384-462f-b7f6-9f1c4606cdce",
   "metadata": {},
   "source": [
    "### 딕셔너리 컴프리헨션"
   ]
  },
  {
   "cell_type": "code",
   "execution_count": 45,
   "id": "976ea785-4ea7-4ece-9b00-da75f6f880f0",
   "metadata": {},
   "outputs": [
    {
     "data": {
      "text/plain": [
       "{'a': 1, 'p': 2, 'l': 1, 'e': 1}"
      ]
     },
     "execution_count": 45,
     "metadata": {},
     "output_type": "execute_result"
    }
   ],
   "source": [
    "letter = 'apple'\n",
    "\n",
    "# a: 1, p: 2, ...\n",
    "{ch: letter.count(ch) for ch in letter}"
   ]
  },
  {
   "cell_type": "code",
   "execution_count": 46,
   "id": "ba32cc62-2ab1-4661-bcb7-49508a325228",
   "metadata": {},
   "outputs": [],
   "source": [
    "# 단어의 모음세기\n",
    "vowels = 'aeiou'\n",
    "word = 'onomatopoeia'"
   ]
  },
  {
   "cell_type": "code",
   "execution_count": 47,
   "id": "e6134ecb-7206-4acd-adb7-9a4ad6b0d3f7",
   "metadata": {},
   "outputs": [
    {
     "data": {
      "text/plain": [
       "{'a': 2, 'e': 1, 'i': 1, 'o': 4}"
      ]
     },
     "execution_count": 47,
     "metadata": {},
     "output_type": "execute_result"
    }
   ],
   "source": [
    "# word 순회\n",
    "# vowels 순회\n",
    "{v: word.count(v) for v in vowels if v in word}"
   ]
  },
  {
   "cell_type": "markdown",
   "id": "ec8d2f12-784a-41e7-8346-a7d97cc2ec07",
   "metadata": {},
   "source": [
    "### sorting"
   ]
  },
  {
   "cell_type": "code",
   "execution_count": 48,
   "id": "6ebb7600-3ecf-4efa-a64a-4de73183f4e4",
   "metadata": {},
   "outputs": [
    {
     "data": {
      "text/plain": [
       "['금성', '명왕성', '목성', '수성', '천왕성', '토성', '해왕성', '화성']"
      ]
     },
     "execution_count": 48,
     "metadata": {},
     "output_type": "execute_result"
    }
   ],
   "source": [
    "# key 값만 반환\n",
    "sorted(system)"
   ]
  },
  {
   "cell_type": "code",
   "execution_count": 49,
   "id": "631ada07-542b-4dc0-8c81-06bd25fdd191",
   "metadata": {},
   "outputs": [
    {
     "data": {
      "text/plain": [
       "[('목성', 'jupiter'),\n",
       " ('화성', 'mars'),\n",
       " ('수성', 'mercury'),\n",
       " ('해왕성', 'neptune'),\n",
       " ('명왕성', 'pluto'),\n",
       " ('토성', 'saturn'),\n",
       " ('천왕성', 'uranus'),\n",
       " ('금성', 'venus')]"
      ]
     },
     "execution_count": 49,
     "metadata": {},
     "output_type": "execute_result"
    }
   ],
   "source": [
    "# 함수 만들어서 정렬\n",
    "def fx(x):\n",
    "    return x[1] # 0은 key 기준, 1은 value 기준\n",
    "\n",
    "sorted(system.items(), key = fx)"
   ]
  },
  {
   "cell_type": "code",
   "execution_count": 50,
   "id": "86b41cb8-7274-4314-873e-282e2e58f541",
   "metadata": {},
   "outputs": [
    {
     "data": {
      "text/plain": [
       "[('목성', 'jupiter'),\n",
       " ('화성', 'mars'),\n",
       " ('수성', 'mercury'),\n",
       " ('해왕성', 'neptune'),\n",
       " ('명왕성', 'pluto'),\n",
       " ('토성', 'saturn'),\n",
       " ('천왕성', 'uranus'),\n",
       " ('금성', 'venus')]"
      ]
     },
     "execution_count": 50,
     "metadata": {},
     "output_type": "execute_result"
    }
   ],
   "source": [
    "# 람다식 이용(함수 구현 안해도 가능)\n",
    "sorted(system.items(), key = lambda x: x[1])"
   ]
  },
  {
   "cell_type": "markdown",
   "id": "0700a3fd-98ba-4a3d-b596-17d7400aeed0",
   "metadata": {},
   "source": [
    "### Set\n",
    "- \"중복이 없다\"\n",
    "- 집합 >> 교집합, 합집합, 차집합, ...\n",
    "- bag, 인덱싱도 없음"
   ]
  },
  {
   "cell_type": "code",
   "execution_count": 51,
   "id": "23d3ea38-0b68-48f0-935a-4e225b3dd5b6",
   "metadata": {},
   "outputs": [
    {
     "data": {
      "text/plain": [
       "set()"
      ]
     },
     "execution_count": 51,
     "metadata": {},
     "output_type": "execute_result"
    }
   ],
   "source": [
    "# set()\n",
    "empty = set()\n",
    "empty"
   ]
  },
  {
   "cell_type": "code",
   "execution_count": 52,
   "id": "db647bd9-606d-46db-b0b6-ffacaff81b7c",
   "metadata": {},
   "outputs": [
    {
     "data": {
      "text/plain": [
       "{1, 2, 3}"
      ]
     },
     "execution_count": 52,
     "metadata": {},
     "output_type": "execute_result"
    }
   ],
   "source": [
    "# 초기화\n",
    "a = {1, 2, 3}\n",
    "a"
   ]
  },
  {
   "cell_type": "code",
   "execution_count": 53,
   "id": "3329f7fc-55e2-4eb9-93a2-501979deab09",
   "metadata": {},
   "outputs": [
    {
     "data": {
      "text/plain": [
       "{1, 2, 3}"
      ]
     },
     "execution_count": 53,
     "metadata": {},
     "output_type": "execute_result"
    }
   ],
   "source": [
    "# 선언, 형 변환\n",
    "a = set((1, 2, 3))\n",
    "a"
   ]
  },
  {
   "cell_type": "code",
   "execution_count": 54,
   "id": "22ceef9a-44ca-4989-8dbd-5e20501c4958",
   "metadata": {},
   "outputs": [
    {
     "data": {
      "text/plain": [
       "{1, 2, 3, 4}"
      ]
     },
     "execution_count": 54,
     "metadata": {},
     "output_type": "execute_result"
    }
   ],
   "source": [
    "# 추가\n",
    "a.add(4)\n",
    "a"
   ]
  },
  {
   "cell_type": "code",
   "execution_count": 55,
   "id": "d6914b9d-6fa2-451e-aaaa-2a83a11f9a8e",
   "metadata": {},
   "outputs": [
    {
     "data": {
      "text/plain": [
       "{1, 2, 3}"
      ]
     },
     "execution_count": 55,
     "metadata": {},
     "output_type": "execute_result"
    }
   ],
   "source": [
    "# 삭제\n",
    "a.remove(4)\n",
    "a"
   ]
  },
  {
   "cell_type": "code",
   "execution_count": 56,
   "id": "a553f422-080e-41e2-a37b-754a3c52305b",
   "metadata": {},
   "outputs": [],
   "source": [
    "drinks = {\n",
    "    'martini': {'vodka', 'vermouth'},\n",
    "    'black russian': {'vodka', 'kahlua'},\n",
    "    'white russian': {'cream', 'kahlua', 'vodka'},\n",
    "    'manhattan': {'rye', 'vermouth', 'bitters'},\n",
    "    'screwdriver': {'orange juice', 'vodka'}\n",
    "}"
   ]
  },
  {
   "cell_type": "code",
   "execution_count": 57,
   "id": "e5ea96b0-4a5c-41ee-9cb7-1e36e568a8b2",
   "metadata": {},
   "outputs": [
    {
     "name": "stdout",
     "output_type": "stream",
     "text": [
      "martini\n",
      "black russian\n",
      "white russian\n",
      "screwdriver\n"
     ]
    }
   ],
   "source": [
    "# vodka가 포함된 술 출력\n",
    "for k, v in drinks.items():\n",
    "    if 'vodka' in v:\n",
    "        print(k)"
   ]
  },
  {
   "cell_type": "code",
   "execution_count": 58,
   "id": "0c07001b-89a1-4cca-a540-81f264ce2d19",
   "metadata": {},
   "outputs": [
    {
     "name": "stdout",
     "output_type": "stream",
     "text": [
      "black russian\n",
      "screwdriver\n"
     ]
    }
   ],
   "source": [
    "# vodka는 있지만 cream, vermouth 없는 술 출력\n",
    "for k, v in drinks.items():\n",
    "    if 'vodka' in v and not ('cream' in v or 'vermouth' in v):\n",
    "        print(k)"
   ]
  },
  {
   "cell_type": "code",
   "execution_count": 59,
   "id": "f9612e44-eabe-49e4-a659-9ef229559bd5",
   "metadata": {},
   "outputs": [
    {
     "name": "stdout",
     "output_type": "stream",
     "text": [
      "black russian\n",
      "screwdriver\n"
     ]
    }
   ],
   "source": [
    "# set 활용\n",
    "for k, v in drinks.items():\n",
    "    if v.intersection({'vodka'}) and not v.intersection({'cream', 'vermouth'}):\n",
    "        print(k)"
   ]
  },
  {
   "cell_type": "markdown",
   "id": "3c244838-f68e-4e6d-b651-946ef6daeb4d",
   "metadata": {},
   "source": [
    "### set 활용"
   ]
  },
  {
   "cell_type": "code",
   "execution_count": 60,
   "id": "9680561f-a8f3-4873-9b38-dcac493768e6",
   "metadata": {},
   "outputs": [
    {
     "data": {
      "text/plain": [
       "({1}, {4})"
      ]
     },
     "execution_count": 60,
     "metadata": {},
     "output_type": "execute_result"
    }
   ],
   "source": [
    "a = {1, 2, 3}\n",
    "b = {2, 3, 4}\n",
    "\n",
    "# 교집합 | intersection\n",
    "a.intersection(b)\n",
    "a & b\n",
    "\n",
    "# 합집합 | union\n",
    "a.union(b)\n",
    "a | b\n",
    "\n",
    "# 차집합 | difference\n",
    "a.difference(b), b.difference(a)\n",
    "a - b, b - a"
   ]
  },
  {
   "cell_type": "code",
   "execution_count": 61,
   "id": "abc25f0c-f049-442c-b6e2-fe29d0e89ec0",
   "metadata": {},
   "outputs": [
    {
     "data": {
      "text/plain": [
       "{0, 1, 2, 3, 4}"
      ]
     },
     "execution_count": 61,
     "metadata": {},
     "output_type": "execute_result"
    }
   ],
   "source": [
    "# issubset\n",
    "{s for s in range(5)}"
   ]
  },
  {
   "cell_type": "code",
   "execution_count": 62,
   "id": "58cb49f5-21a6-4c07-9507-7792801c1140",
   "metadata": {},
   "outputs": [
    {
     "data": {
      "text/plain": [
       "frozenset({1, 2})"
      ]
     },
     "execution_count": 62,
     "metadata": {},
     "output_type": "execute_result"
    }
   ],
   "source": [
    "# frozenset\n",
    "set([1, 2])\n",
    "frozenset([1, 2])"
   ]
  },
  {
   "cell_type": "markdown",
   "id": "e899d236-3320-4206-affe-22136fcdecc1",
   "metadata": {},
   "source": [
    "### Project\n",
    "- 태스크 해결\n",
    "- 수업 30분 랜덤 코드 설명\n",
    "- 제출: 수요일 자정"
   ]
  },
  {
   "cell_type": "code",
   "execution_count": 63,
   "id": "6e3ea179-5287-4670-95c0-e9d53794eb65",
   "metadata": {},
   "outputs": [
    {
     "name": "stdout",
     "output_type": "stream",
     "text": [
      "Requirement already satisfied: pylint in /Users/violet/opt/anaconda3/lib/python3.9/site-packages (2.9.6)\n",
      "Requirement already satisfied: astroid<2.7,>=2.6.5 in /Users/violet/opt/anaconda3/lib/python3.9/site-packages (from pylint) (2.6.6)\n",
      "Requirement already satisfied: isort<6,>=4.2.5 in /Users/violet/opt/anaconda3/lib/python3.9/site-packages (from pylint) (5.9.3)\n",
      "Requirement already satisfied: mccabe<0.7,>=0.6 in /Users/violet/opt/anaconda3/lib/python3.9/site-packages (from pylint) (0.6.1)\n",
      "Requirement already satisfied: toml>=0.7.1 in /Users/violet/opt/anaconda3/lib/python3.9/site-packages (from pylint) (0.10.2)\n",
      "Requirement already satisfied: setuptools>=20.0 in /Users/violet/opt/anaconda3/lib/python3.9/site-packages (from astroid<2.7,>=2.6.5->pylint) (58.0.4)\n",
      "Requirement already satisfied: lazy-object-proxy>=1.4.0 in /Users/violet/opt/anaconda3/lib/python3.9/site-packages (from astroid<2.7,>=2.6.5->pylint) (1.6.0)\n",
      "Requirement already satisfied: wrapt<1.13,>=1.11 in /Users/violet/opt/anaconda3/lib/python3.9/site-packages (from astroid<2.7,>=2.6.5->pylint) (1.12.1)\n",
      "************* Module example.py\n",
      "example.py:1:0: F0001: No module named example.py (fatal)\n",
      "\u001b[0m"
     ]
    }
   ],
   "source": [
    "# 디버깅 방법\n",
    "!pip install pylint\n",
    "!pylint example.py"
   ]
  },
  {
   "cell_type": "code",
   "execution_count": 64,
   "id": "90e5932b-c110-4932-aa29-5196cf2f4aba",
   "metadata": {},
   "outputs": [
    {
     "name": "stdout",
     "output_type": "stream",
     "text": [
      "Requirement already satisfied: pydocstyle in /Users/violet/opt/anaconda3/lib/python3.9/site-packages (6.1.1)\n",
      "Requirement already satisfied: snowballstemmer in /Users/violet/opt/anaconda3/lib/python3.9/site-packages (from pydocstyle) (2.1.0)\n",
      "WARNING: Error in file example.py: [Errno 2] No such file or directory: 'example.py'\n"
     ]
    }
   ],
   "source": [
    "# 독스트링 스타일\n",
    "!pip install pydocstyle\n",
    "!pydocstyle example.py"
   ]
  },
  {
   "cell_type": "code",
   "execution_count": null,
   "id": "4ab85c7d-e895-41a9-b00a-7b6ca975cc84",
   "metadata": {},
   "outputs": [],
   "source": []
  }
 ],
 "metadata": {
  "kernelspec": {
   "display_name": "Python 3 (ipykernel)",
   "language": "python",
   "name": "python3"
  },
  "language_info": {
   "codemirror_mode": {
    "name": "ipython",
    "version": 3
   },
   "file_extension": ".py",
   "mimetype": "text/x-python",
   "name": "python",
   "nbconvert_exporter": "python",
   "pygments_lexer": "ipython3",
   "version": "3.9.7"
  }
 },
 "nbformat": 4,
 "nbformat_minor": 5
}
