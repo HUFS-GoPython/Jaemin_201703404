{
 "cells": [
  {
   "cell_type": "markdown",
   "id": "2dd7100e-9eae-4a68-be18-67794565f56b",
   "metadata": {},
   "source": [
    "### 반복문\n",
    "- while, for loop\n",
    "- 자료구조를 순회할 때, 정해진 동작을 반복해야 할 때 내리는 명령\n",
    "\n",
    "#### while loop\n",
    "- 어떤 조건이 만족하는 동안 명령 블록을 수행\n",
    "- if + for loop\n",
    "- 해당 조건이 거짓이면 stop >> 언제 멈추는지 그 시점을 정확히 파악해야 함\n",
    "\n",
    "#### for loop\n",
    "- for: 반복 횟수가 정해져 있고, 정확하며, 변하지 않음\n",
    "    - 예: 성적 산출\n",
    "- while: 횟수 정해지지 않음(중요하지 않음) 어떤 조건을 만족시킬 때 빠져나오게 하는게 중요할 때 사용\n",
    "    - 예: 가위바위보"
   ]
  },
  {
   "cell_type": "code",
   "execution_count": 1,
   "id": "4a639c59-8384-4b06-903a-ad6d934641d3",
   "metadata": {},
   "outputs": [
    {
     "name": "stdout",
     "output_type": "stream",
     "text": [
      "0\n",
      "1\n",
      "2\n",
      "3\n",
      "4\n",
      "5\n",
      "6\n",
      "7\n",
      "8\n",
      "9\n"
     ]
    }
   ],
   "source": [
    "# for loop ex)\n",
    "for i in range(10):\n",
    "    print(i)"
   ]
  },
  {
   "cell_type": "code",
   "execution_count": 2,
   "id": "1265db5e-e8cb-43d2-bb3f-d62cf4858b17",
   "metadata": {},
   "outputs": [
    {
     "name": "stdout",
     "output_type": "stream",
     "text": [
      "0\n",
      "1\n",
      "2\n",
      "3\n",
      "4\n",
      "5\n",
      "6\n",
      "7\n",
      "8\n",
      "9\n"
     ]
    }
   ],
   "source": [
    "# while loop ex)\n",
    "j = 0 # 초기화\n",
    "while j < 10:\n",
    "    print(j)\n",
    "    j += 1 # 변화"
   ]
  },
  {
   "cell_type": "code",
   "execution_count": 3,
   "id": "c302fb03-bd63-4578-9a97-8b7aad916eff",
   "metadata": {},
   "outputs": [
    {
     "name": "stdout",
     "output_type": "stream",
     "text": [
      "a\n",
      "b\n",
      "c\n",
      "d\n"
     ]
    }
   ],
   "source": [
    "# for loop 알파벳 출력\n",
    "abcd = ['a', 'b', 'c', 'd']\n",
    "for ch in abcd:\n",
    "    print(ch)"
   ]
  },
  {
   "cell_type": "code",
   "execution_count": 4,
   "id": "93e40542-dc52-4eaf-9fb2-54b1c65c666e",
   "metadata": {},
   "outputs": [
    {
     "name": "stdout",
     "output_type": "stream",
     "text": [
      "a\n",
      "b\n",
      "c\n",
      "d\n"
     ]
    }
   ],
   "source": [
    "# while loop 알파벳 출력\n",
    "i = 0\n",
    "while i < len(abcd):\n",
    "    print(abcd[i])\n",
    "    i += 1"
   ]
  },
  {
   "cell_type": "markdown",
   "id": "fdfc0d40-60db-4fff-86cd-688182ae88da",
   "metadata": {},
   "source": [
    "### 반복문 제어\n",
    "- 되도록 사용하지 않음, 의도치 않은 오류를 위해 사용\n",
    "\n",
    "- break: 논리적으로 반복을 종료시킬 때\n",
    "- else: 어떤 조건이 완전히 끝났을 때 한번 더 실행, break시에는 실행 안됨 >> 어느 지점에서 종료되었는지 확인할 때\n",
    "- continue: 특정 조건을 건너뛰고 다음 조건 실행"
   ]
  },
  {
   "cell_type": "code",
   "execution_count": 5,
   "id": "a0b77c35-808e-43c7-a05b-c7d11738b0f2",
   "metadata": {},
   "outputs": [
    {
     "name": "stdout",
     "output_type": "stream",
     "text": [
      "0\n",
      "1\n",
      "2\n",
      "3\n",
      "4\n",
      "5\n",
      "6\n"
     ]
    }
   ],
   "source": [
    "# while loop break ex)\n",
    "j = 0 # 초기화\n",
    "while j < 10:\n",
    "    print(j) # 6까지 출력\n",
    "    if j == 6:\n",
    "        break\n",
    "    j += 1"
   ]
  },
  {
   "cell_type": "code",
   "execution_count": 6,
   "id": "f6f9d54e-78cb-4f66-aa9d-1b9632cdfe3d",
   "metadata": {},
   "outputs": [
    {
     "name": "stdout",
     "output_type": "stream",
     "text": [
      "0\n",
      "1\n",
      "2\n",
      "3\n",
      "4\n",
      "5\n"
     ]
    }
   ],
   "source": [
    "# for loop break ex)\n",
    "for i in range(10):\n",
    "    if i == 6:\n",
    "        break\n",
    "    print(i) # 6까지 출력 안됨"
   ]
  },
  {
   "cell_type": "code",
   "execution_count": 7,
   "id": "91ca9e97-21f0-4b81-abdf-8bafe2cfbaca",
   "metadata": {},
   "outputs": [
    {
     "name": "stdout",
     "output_type": "stream",
     "text": [
      "0\n",
      "1\n",
      "2\n",
      "3\n",
      "4\n",
      "5\n",
      "6\n"
     ]
    }
   ],
   "source": [
    "# while loop else ex)\n",
    "j = 0 # 초기화\n",
    "while j < 10:\n",
    "    print(j)\n",
    "    if j == 6:\n",
    "        break\n",
    "    j += 1\n",
    "else: # break에서 끝난건지 확인\n",
    "    print(\"ended\")"
   ]
  },
  {
   "cell_type": "code",
   "execution_count": 8,
   "id": "e65d77a7-f4dd-48ab-b1e4-d814fbe26e35",
   "metadata": {},
   "outputs": [
    {
     "name": "stdout",
     "output_type": "stream",
     "text": [
      "0\n",
      "1\n",
      "2\n",
      "3\n",
      "4\n",
      "5\n",
      "7\n",
      "8\n",
      "9\n"
     ]
    }
   ],
   "source": [
    "# for loop continue ex)\n",
    "for i in range(10):\n",
    "    if i == 6:\n",
    "        continue\n",
    "    print(i) # 6 출력 안됨(패스)"
   ]
  },
  {
   "cell_type": "markdown",
   "id": "f718d59a-1073-4f7c-a106-1fc013cd6b0f",
   "metadata": {},
   "source": [
    "### gugudan\n",
    "변수는 입력을 받아서 사용함\n",
    "- 1. n단 출력\n",
    "- 2. 1-n단까지 출력\n",
    "    - n > 10 경우 대비\n",
    "- 3. n, m 모두 입력 받아서 출력\n",
    "- 4. 프로그램으로 만듦\n",
    "    - 메뉴: 1) n, 2) 1-n, 3) n-m단\n",
    "    - 메뉴에 있는 옵션 사용할 때"
   ]
  },
  {
   "cell_type": "code",
   "execution_count": 9,
   "id": "9364807b-7afb-40bf-ae1c-cc7690bd8c2c",
   "metadata": {},
   "outputs": [
    {
     "name": "stdin",
     "output_type": "stream",
     "text": [
      "단 입력:  9\n"
     ]
    },
    {
     "name": "stdout",
     "output_type": "stream",
     "text": [
      "=== 9단 ===\n",
      "9 x 1 = 9\n",
      "9 x 2 = 18\n",
      "9 x 3 = 27\n",
      "9 x 4 = 36\n",
      "9 x 5 = 45\n",
      "9 x 6 = 54\n",
      "9 x 7 = 63\n",
      "9 x 8 = 72\n",
      "9 x 9 = 81\n"
     ]
    }
   ],
   "source": [
    "# n단 출력\n",
    "n = int(input(\"단 입력: \"))\n",
    "\n",
    "print(f\"=== {n}단 ===\")\n",
    "\n",
    "for i in range(1, 10):\n",
    "    print(f\"{n} x {i} = {n*i}\")"
   ]
  },
  {
   "cell_type": "code",
   "execution_count": 10,
   "id": "eedeb1ea-f7f7-4c90-bdde-7885393c78df",
   "metadata": {},
   "outputs": [
    {
     "name": "stdin",
     "output_type": "stream",
     "text": [
      "단 입력:  9\n"
     ]
    },
    {
     "name": "stdout",
     "output_type": "stream",
     "text": [
      "=== 2단 ===\n",
      "2 x 1 = 2\n",
      "2 x 2 = 4\n",
      "2 x 3 = 6\n",
      "2 x 4 = 8\n",
      "2 x 5 = 10\n",
      "2 x 6 = 12\n",
      "2 x 7 = 14\n",
      "2 x 8 = 16\n",
      "2 x 9 = 18\n",
      "\n",
      "=== 3단 ===\n",
      "3 x 1 = 3\n",
      "3 x 2 = 6\n",
      "3 x 3 = 9\n",
      "3 x 4 = 12\n",
      "3 x 5 = 15\n",
      "3 x 6 = 18\n",
      "3 x 7 = 21\n",
      "3 x 8 = 24\n",
      "3 x 9 = 27\n",
      "\n",
      "=== 4단 ===\n",
      "4 x 1 = 4\n",
      "4 x 2 = 8\n",
      "4 x 3 = 12\n",
      "4 x 4 = 16\n",
      "4 x 5 = 20\n",
      "4 x 6 = 24\n",
      "4 x 7 = 28\n",
      "4 x 8 = 32\n",
      "4 x 9 = 36\n",
      "\n",
      "=== 5단 ===\n",
      "5 x 1 = 5\n",
      "5 x 2 = 10\n",
      "5 x 3 = 15\n",
      "5 x 4 = 20\n",
      "5 x 5 = 25\n",
      "5 x 6 = 30\n",
      "5 x 7 = 35\n",
      "5 x 8 = 40\n",
      "5 x 9 = 45\n",
      "\n",
      "=== 6단 ===\n",
      "6 x 1 = 6\n",
      "6 x 2 = 12\n",
      "6 x 3 = 18\n",
      "6 x 4 = 24\n",
      "6 x 5 = 30\n",
      "6 x 6 = 36\n",
      "6 x 7 = 42\n",
      "6 x 8 = 48\n",
      "6 x 9 = 54\n",
      "\n",
      "=== 7단 ===\n",
      "7 x 1 = 7\n",
      "7 x 2 = 14\n",
      "7 x 3 = 21\n",
      "7 x 4 = 28\n",
      "7 x 5 = 35\n",
      "7 x 6 = 42\n",
      "7 x 7 = 49\n",
      "7 x 8 = 56\n",
      "7 x 9 = 63\n",
      "\n",
      "=== 8단 ===\n",
      "8 x 1 = 8\n",
      "8 x 2 = 16\n",
      "8 x 3 = 24\n",
      "8 x 4 = 32\n",
      "8 x 5 = 40\n",
      "8 x 6 = 48\n",
      "8 x 7 = 56\n",
      "8 x 8 = 64\n",
      "8 x 9 = 72\n",
      "\n",
      "=== 9단 ===\n",
      "9 x 1 = 9\n",
      "9 x 2 = 18\n",
      "9 x 3 = 27\n",
      "9 x 4 = 36\n",
      "9 x 5 = 45\n",
      "9 x 6 = 54\n",
      "9 x 7 = 63\n",
      "9 x 8 = 72\n",
      "9 x 9 = 81\n",
      "\n"
     ]
    }
   ],
   "source": [
    "# 1-n단 출력\n",
    "n = int(input(\"단 입력: \"))\n",
    "\n",
    "for i in range(2, n+1):\n",
    "    print(f\"=== {i}단 ===\")\n",
    "    for j in range(1, 10):\n",
    "        print(f\"{i} x {j} = {i*j}\")\n",
    "    print()"
   ]
  },
  {
   "cell_type": "code",
   "execution_count": 11,
   "id": "39707a56-06e1-423f-9976-5788d6ea93c9",
   "metadata": {},
   "outputs": [
    {
     "name": "stdin",
     "output_type": "stream",
     "text": [
      "시작 단 입력:  2\n",
      "끝 단 입력:  8\n"
     ]
    },
    {
     "name": "stdout",
     "output_type": "stream",
     "text": [
      "=== 2단 ===\n",
      "2 x 1 = 2\n",
      "2 x 2 = 4\n",
      "2 x 3 = 6\n",
      "2 x 4 = 8\n",
      "2 x 5 = 10\n",
      "2 x 6 = 12\n",
      "2 x 7 = 14\n",
      "2 x 8 = 16\n",
      "2 x 9 = 18\n",
      "\n",
      "=== 3단 ===\n",
      "3 x 1 = 3\n",
      "3 x 2 = 6\n",
      "3 x 3 = 9\n",
      "3 x 4 = 12\n",
      "3 x 5 = 15\n",
      "3 x 6 = 18\n",
      "3 x 7 = 21\n",
      "3 x 8 = 24\n",
      "3 x 9 = 27\n",
      "\n",
      "=== 4단 ===\n",
      "4 x 1 = 4\n",
      "4 x 2 = 8\n",
      "4 x 3 = 12\n",
      "4 x 4 = 16\n",
      "4 x 5 = 20\n",
      "4 x 6 = 24\n",
      "4 x 7 = 28\n",
      "4 x 8 = 32\n",
      "4 x 9 = 36\n",
      "\n",
      "=== 5단 ===\n",
      "5 x 1 = 5\n",
      "5 x 2 = 10\n",
      "5 x 3 = 15\n",
      "5 x 4 = 20\n",
      "5 x 5 = 25\n",
      "5 x 6 = 30\n",
      "5 x 7 = 35\n",
      "5 x 8 = 40\n",
      "5 x 9 = 45\n",
      "\n",
      "=== 6단 ===\n",
      "6 x 1 = 6\n",
      "6 x 2 = 12\n",
      "6 x 3 = 18\n",
      "6 x 4 = 24\n",
      "6 x 5 = 30\n",
      "6 x 6 = 36\n",
      "6 x 7 = 42\n",
      "6 x 8 = 48\n",
      "6 x 9 = 54\n",
      "\n",
      "=== 7단 ===\n",
      "7 x 1 = 7\n",
      "7 x 2 = 14\n",
      "7 x 3 = 21\n",
      "7 x 4 = 28\n",
      "7 x 5 = 35\n",
      "7 x 6 = 42\n",
      "7 x 7 = 49\n",
      "7 x 8 = 56\n",
      "7 x 9 = 63\n",
      "\n",
      "=== 8단 ===\n",
      "8 x 1 = 8\n",
      "8 x 2 = 16\n",
      "8 x 3 = 24\n",
      "8 x 4 = 32\n",
      "8 x 5 = 40\n",
      "8 x 6 = 48\n",
      "8 x 7 = 56\n",
      "8 x 8 = 64\n",
      "8 x 9 = 72\n",
      "\n"
     ]
    }
   ],
   "source": [
    "# n, m 모두 입력받아서 출력\n",
    "while True:\n",
    "    n = int(input(\"시작 단 입력: \"))\n",
    "    m = int(input(\"끝 단 입력: \"))\n",
    "    \n",
    "    if n > m:\n",
    "        print(\"시작 단이 끝 단보다 큽니다. 다시 입력해주세요.\")\n",
    "        continue\n",
    "    elif n < 2 or n > 9 or m < 2 or m > 9:\n",
    "        print(\"2단부터 9단까지 가능합니다. 다시 입력해주세요.\")\n",
    "        continue\n",
    "    else:\n",
    "        for i in range(n, m+1):\n",
    "            print(f\"=== {i}단 ===\")\n",
    "            for j in range(1, 10):\n",
    "                print(f\"{i} x {j} = {i*j}\")\n",
    "            print()\n",
    "        break"
   ]
  },
  {
   "cell_type": "code",
   "execution_count": 12,
   "id": "87cb90ba-4faa-414b-a6f9-6a6a0b07d663",
   "metadata": {},
   "outputs": [
    {
     "name": "stdout",
     "output_type": "stream",
     "text": [
      "=== menu ===\n",
      "1. n단 출력\n",
      "2. 1-n단 출력\n",
      "3. n-m단 출력\n",
      "============\n"
     ]
    },
    {
     "name": "stdin",
     "output_type": "stream",
     "text": [
      "메뉴를 입력해주세요:  4\n"
     ]
    },
    {
     "name": "stdout",
     "output_type": "stream",
     "text": [
      "메뉴를 다시 입력해주세요.\n",
      "\n",
      "=== menu ===\n",
      "1. n단 출력\n",
      "2. 1-n단 출력\n",
      "3. n-m단 출력\n",
      "============\n"
     ]
    },
    {
     "name": "stdin",
     "output_type": "stream",
     "text": [
      "메뉴를 입력해주세요:  3\n",
      "시작 단 입력:  1\n",
      "끝 단 입력:  9\n"
     ]
    },
    {
     "name": "stdout",
     "output_type": "stream",
     "text": [
      "2단부터 9단까지 가능합니다. 다시 입력해주세요.\n",
      "=== menu ===\n",
      "1. n단 출력\n",
      "2. 1-n단 출력\n",
      "3. n-m단 출력\n",
      "============\n"
     ]
    },
    {
     "name": "stdin",
     "output_type": "stream",
     "text": [
      "메뉴를 입력해주세요:  3\n",
      "시작 단 입력:  2\n",
      "끝 단 입력:  4\n"
     ]
    },
    {
     "name": "stdout",
     "output_type": "stream",
     "text": [
      "=== 2단 ===\n",
      "2 x 1 = 2\n",
      "2 x 2 = 4\n",
      "2 x 3 = 6\n",
      "2 x 4 = 8\n",
      "2 x 5 = 10\n",
      "2 x 6 = 12\n",
      "2 x 7 = 14\n",
      "2 x 8 = 16\n",
      "2 x 9 = 18\n",
      "\n",
      "=== 3단 ===\n",
      "3 x 1 = 3\n",
      "3 x 2 = 6\n",
      "3 x 3 = 9\n",
      "3 x 4 = 12\n",
      "3 x 5 = 15\n",
      "3 x 6 = 18\n",
      "3 x 7 = 21\n",
      "3 x 8 = 24\n",
      "3 x 9 = 27\n",
      "\n",
      "=== 4단 ===\n",
      "4 x 1 = 4\n",
      "4 x 2 = 8\n",
      "4 x 3 = 12\n",
      "4 x 4 = 16\n",
      "4 x 5 = 20\n",
      "4 x 6 = 24\n",
      "4 x 7 = 28\n",
      "4 x 8 = 32\n",
      "4 x 9 = 36\n",
      "\n"
     ]
    }
   ],
   "source": [
    "# 구구단 프로그램\n",
    "\n",
    "while True:\n",
    "    print(\"=== menu ===\\n1. n단 출력\\n2. 1-n단 출력\\n3. n-m단 출력\\n============\")\n",
    "    menu = int(input(\"메뉴를 입력해주세요: \"))\n",
    "    \n",
    "    if menu == 1:\n",
    "        n = int(input(\"단 입력: \"))\n",
    "\n",
    "        print(f\"=== {n}단 ===\")\n",
    "\n",
    "        for i in range(1, 10):\n",
    "            print(f\"{n} x {i} = {n*i}\")\n",
    "            \n",
    "        break\n",
    "            \n",
    "    elif menu == 2:\n",
    "        n = int(input(\"단 입력: \"))\n",
    "\n",
    "        for i in range(2, n+1):\n",
    "            print(f\"=== {i}단 ===\")\n",
    "            for j in range(1, 10):\n",
    "                print(f\"{i} x {j} = {i*j}\")\n",
    "            print()\n",
    "            \n",
    "        break\n",
    "            \n",
    "    elif menu == 3:\n",
    "        n = int(input(\"시작 단 입력: \"))\n",
    "        m = int(input(\"끝 단 입력: \"))\n",
    "\n",
    "        if n > m:\n",
    "            print(\"시작 단이 끝 단보다 큽니다. 다시 입력해주세요.\")\n",
    "            continue\n",
    "        elif n < 2 or n > 9 or m < 2 or m > 9:\n",
    "            print(\"2단부터 9단까지 가능합니다. 다시 입력해주세요.\")\n",
    "            continue\n",
    "        else:\n",
    "            for i in range(n, m+1):\n",
    "                print(f\"=== {i}단 ===\")\n",
    "                for j in range(1, 10):\n",
    "                    print(f\"{i} x {j} = {i*j}\")\n",
    "                print()\n",
    "            \n",
    "            break\n",
    "    else:\n",
    "        print(\"메뉴를 다시 입력해주세요.\")\n",
    "        print()\n",
    "        continue"
   ]
  },
  {
   "cell_type": "code",
   "execution_count": 13,
   "id": "6ae67a93-f0cc-4bfe-b4d8-a1643676b164",
   "metadata": {},
   "outputs": [
    {
     "name": "stdout",
     "output_type": "stream",
     "text": [
      "*** Introductory Examples for the NLTK Book ***\n",
      "Loading text1, ..., text9 and sent1, ..., sent9\n",
      "Type the name of the text or sentence to view it.\n",
      "Type: 'texts()' or 'sents()' to list the materials.\n",
      "text1: Moby Dick by Herman Melville 1851\n",
      "text2: Sense and Sensibility by Jane Austen 1811\n",
      "text3: The Book of Genesis\n",
      "text4: Inaugural Address Corpus\n",
      "text5: Chat Corpus\n",
      "text6: Monty Python and the Holy Grail\n",
      "text7: Wall Street Journal\n",
      "text8: Personals Corpus\n",
      "text9: The Man Who Was Thursday by G . K . Chesterton 1908\n"
     ]
    },
    {
     "data": {
      "text/plain": [
       "True"
      ]
     },
     "execution_count": 13,
     "metadata": {},
     "output_type": "execute_result"
    }
   ],
   "source": [
    "import nltk\n",
    "from nltk.book import *\n",
    "nltk.download('book', quiet = True)"
   ]
  },
  {
   "cell_type": "code",
   "execution_count": 14,
   "id": "d2eb55f7-7821-4ba6-9d1a-982c39eedd07",
   "metadata": {},
   "outputs": [
    {
     "name": "stdout",
     "output_type": "stream",
     "text": [
      "<Text: Moby Dick by Herman Melville 1851>\n",
      "<Text: Sense and Sensibility by Jane Austen 1811>\n",
      "<Text: The Book of Genesis>\n",
      "<Text: Inaugural Address Corpus>\n",
      "<Text: Chat Corpus>\n",
      "<Text: Monty Python and the Holy Grail>\n",
      "<Text: Wall Street Journal>\n",
      "<Text: Personals Corpus>\n",
      "<Text: The Man Who Was Thursday by G . K . Chesterton 1908>\n"
     ]
    }
   ],
   "source": [
    "# text1-9 하드코딩 출력\n",
    "texts = [text1, text2, text3, text4, text5, text6, text7, text8, text9]\n",
    "for text in texts:\n",
    "    print(text)"
   ]
  },
  {
   "cell_type": "code",
   "execution_count": 15,
   "id": "2ac932c0-4fc1-4d8b-8996-b7896f4cf843",
   "metadata": {},
   "outputs": [
    {
     "data": {
      "text/plain": [
       "[<Text: Moby Dick by Herman Melville 1851>,\n",
       " <Text: Sense and Sensibility by Jane Austen 1811>,\n",
       " <Text: The Book of Genesis>,\n",
       " <Text: Inaugural Address Corpus>,\n",
       " <Text: Chat Corpus>,\n",
       " <Text: Monty Python and the Holy Grail>,\n",
       " <Text: Wall Street Journal>,\n",
       " <Text: Personals Corpus>,\n",
       " <Text: The Man Who Was Thursday by G . K . Chesterton 1908>]"
      ]
     },
     "execution_count": 15,
     "metadata": {},
     "output_type": "execute_result"
    }
   ],
   "source": [
    "# text1-9 하드코딩 없이 출력\n",
    "texts = [getattr(nltk.book, f'text{i}') for i in range(1, 10)]\n",
    "texts"
   ]
  },
  {
   "cell_type": "markdown",
   "id": "02ffcf83-f583-424d-af54-a86d7f82c7c1",
   "metadata": {},
   "source": [
    "### NLTK corpus\n",
    "- 코퍼스 + 테마\n",
    "- 종류\n",
    "    - brown\n",
    "    - gutenberg(저작권 만료된 문학 작품을 모아둔 코퍼스)\n",
    "    - inaugural\n",
    "- 메서드\n",
    "    - words() # tokens\n",
    "    - sents()\n",
    "    - raw()\n",
    "    - fileids()"
   ]
  },
  {
   "cell_type": "code",
   "execution_count": 16,
   "id": "10deeb57-c51b-45a9-b8a3-044e324e6254",
   "metadata": {},
   "outputs": [
    {
     "name": "stderr",
     "output_type": "stream",
     "text": [
      "[nltk_data] Downloading package brown to /Users/violet/nltk_data...\n",
      "[nltk_data]   Package brown is already up-to-date!\n",
      "[nltk_data] Downloading package gutenberg to\n",
      "[nltk_data]     /Users/violet/nltk_data...\n",
      "[nltk_data]   Package gutenberg is already up-to-date!\n",
      "[nltk_data] Downloading package inaugural to\n",
      "[nltk_data]     /Users/violet/nltk_data...\n",
      "[nltk_data]   Package inaugural is already up-to-date!\n"
     ]
    },
    {
     "data": {
      "text/plain": [
       "True"
      ]
     },
     "execution_count": 16,
     "metadata": {},
     "output_type": "execute_result"
    }
   ],
   "source": [
    "# import\n",
    "from nltk.corpus import gutenberg\n",
    "nltk.download(['brown', 'gutenberg', 'inaugural'])\n",
    "\n",
    "# 다른 방법\n",
    "# gutenberg = nltk.corpus.gutenberg"
   ]
  },
  {
   "cell_type": "code",
   "execution_count": 17,
   "id": "f1fd3e16-ad94-4f9b-85d2-3dea6914b4f1",
   "metadata": {},
   "outputs": [
    {
     "data": {
      "text/plain": [
       "['austen-emma.txt',\n",
       " 'austen-persuasion.txt',\n",
       " 'austen-sense.txt',\n",
       " 'bible-kjv.txt',\n",
       " 'blake-poems.txt',\n",
       " 'bryant-stories.txt',\n",
       " 'burgess-busterbrown.txt',\n",
       " 'carroll-alice.txt',\n",
       " 'chesterton-ball.txt',\n",
       " 'chesterton-brown.txt',\n",
       " 'chesterton-thursday.txt',\n",
       " 'edgeworth-parents.txt',\n",
       " 'melville-moby_dick.txt',\n",
       " 'milton-paradise.txt',\n",
       " 'shakespeare-caesar.txt',\n",
       " 'shakespeare-hamlet.txt',\n",
       " 'shakespeare-macbeth.txt',\n",
       " 'whitman-leaves.txt']"
      ]
     },
     "execution_count": 17,
     "metadata": {},
     "output_type": "execute_result"
    }
   ],
   "source": [
    "gutenberg.fileids()"
   ]
  },
  {
   "cell_type": "code",
   "execution_count": 18,
   "id": "0d91b249-788d-4295-ae2f-4e976e82214a",
   "metadata": {},
   "outputs": [
    {
     "data": {
      "text/plain": [
       "['[', 'Alice', \"'\", 's', 'Adventures', 'in', ...]"
      ]
     },
     "execution_count": 18,
     "metadata": {},
     "output_type": "execute_result"
    }
   ],
   "source": [
    "# file 접근 방법\n",
    "gutenberg.words(fileids = ['carroll-alice.txt', 'austen-emma.txt'])"
   ]
  },
  {
   "cell_type": "code",
   "execution_count": 19,
   "id": "6354d844-1836-45c6-aeea-61dae03be176",
   "metadata": {},
   "outputs": [
    {
     "name": "stdout",
     "output_type": "stream",
     "text": [
      "austen-emma.txt | 글자수: 887071, 단어수: 192427, 문장수: 7752\n",
      "austen-persuasion.txt | 글자수: 466292, 단어수: 98171, 문장수: 3747\n",
      "austen-sense.txt | 글자수: 673022, 단어수: 141576, 문장수: 4999\n",
      "bible-kjv.txt | 글자수: 4332554, 단어수: 1010654, 문장수: 30103\n",
      "blake-poems.txt | 글자수: 38153, 단어수: 8354, 문장수: 438\n",
      "bryant-stories.txt | 글자수: 249439, 단어수: 55563, 문장수: 2863\n",
      "burgess-busterbrown.txt | 글자수: 84663, 단어수: 18963, 문장수: 1054\n",
      "carroll-alice.txt | 글자수: 144395, 단어수: 34110, 문장수: 1703\n",
      "chesterton-ball.txt | 글자수: 457450, 단어수: 96996, 문장수: 4779\n",
      "chesterton-brown.txt | 글자수: 406629, 단어수: 86063, 문장수: 3806\n",
      "chesterton-thursday.txt | 글자수: 320525, 단어수: 69213, 문장수: 3742\n",
      "edgeworth-parents.txt | 글자수: 935158, 단어수: 210663, 문장수: 10230\n",
      "melville-moby_dick.txt | 글자수: 1242990, 단어수: 260819, 문장수: 10059\n",
      "milton-paradise.txt | 글자수: 468220, 단어수: 96825, 문장수: 1851\n",
      "shakespeare-caesar.txt | 글자수: 112310, 단어수: 25833, 문장수: 2163\n",
      "shakespeare-hamlet.txt | 글자수: 162881, 단어수: 37360, 문장수: 3106\n",
      "shakespeare-macbeth.txt | 글자수: 100351, 단어수: 23140, 문장수: 1907\n",
      "whitman-leaves.txt | 글자수: 711215, 단어수: 154883, 문장수: 4250\n"
     ]
    }
   ],
   "source": [
    "# 각 file의 글자수, 단어수, 문장수 출력\n",
    "for text in gutenberg.fileids():\n",
    "    chars = len(gutenberg.raw(fileids = [text]))\n",
    "    words = len(gutenberg.words(fileids = [text]))\n",
    "    sents = len(gutenberg.sents(fileids = [text]))\n",
    "    print(f'{text} | 글자수: {chars}, 단어수: {words}, 문장수: {sents}')"
   ]
  },
  {
   "cell_type": "markdown",
   "id": "f4efe3db-9a33-4dff-9cbd-afc94ef26d72",
   "metadata": {},
   "source": [
    "### Gutenberg ex\n",
    "- 1. shakespeare-caesar의 중복된 단어를 거르고 각 단어의 길이를 출력\n",
    "- 2. chesterton-thursday에서 길이가 4자 이하인 알파벳 중 ie를 포함하는 단어를 소문자로 출력하고, 개수 세기\n",
    "- 3. bryant-stories에서 ch로 끝나는 단어를 출력하는데, 중복없이, 첫글자(모두 소문자)와 끝 ch만 남기고 가운데 글자들은 모두 -로 가리기 ex) much >> m-ch"
   ]
  },
  {
   "cell_type": "code",
   "execution_count": 20,
   "id": "9e3aa76e-e556-4a26-835a-6c8905413eda",
   "metadata": {},
   "outputs": [
    {
     "data": {
      "text/plain": [
       "[7, 8, 5, 2, 5, 7, 7, 7, 5, 6]"
      ]
     },
     "execution_count": 20,
     "metadata": {},
     "output_type": "execute_result"
    }
   ],
   "source": [
    "# 1.\n",
    "[len(word) for word in set(gutenberg.words(fileids = 'shakespeare-caesar.txt'))][:10]"
   ]
  },
  {
   "cell_type": "code",
   "execution_count": 21,
   "id": "efc77961-39af-4ed4-8418-47b5d0cb30ac",
   "metadata": {},
   "outputs": [
    {
     "data": {
      "text/plain": [
       "37"
      ]
     },
     "execution_count": 21,
     "metadata": {},
     "output_type": "execute_result"
    }
   ],
   "source": [
    "# 2.\n",
    "len([word.lower() for word in gutenberg.words(fileids = 'chesterton-thursday.txt') if len(word) <= 4 and 'ie' in word])"
   ]
  },
  {
   "cell_type": "code",
   "execution_count": 22,
   "id": "4810d7e9-1bf6-4b2f-87f9-eb36b70efb8e",
   "metadata": {},
   "outputs": [
    {
     "data": {
      "text/plain": [
       "['p--ch',\n",
       " 'e-ch',\n",
       " 'p--ch',\n",
       " 's---ch',\n",
       " 'c---ch',\n",
       " 'f---ch',\n",
       " 'p--ch',\n",
       " 't--ch',\n",
       " 's-ch',\n",
       " 't---ch',\n",
       " 'c--ch',\n",
       " 's---ch',\n",
       " 'c--ch',\n",
       " 'a-ch',\n",
       " 'w--ch',\n",
       " 'w--ch',\n",
       " 's----ch',\n",
       " 'p--ch',\n",
       " 'p--ch',\n",
       " 'e-ch',\n",
       " 'r--ch',\n",
       " 's----ch',\n",
       " 'f--ch',\n",
       " 'b--ch',\n",
       " 'b--ch',\n",
       " 'b--ch',\n",
       " 's----ch',\n",
       " 't--ch',\n",
       " 'b---ch',\n",
       " 's-ch',\n",
       " 't--ch',\n",
       " 'l--ch',\n",
       " 'r-ch',\n",
       " 's----ch',\n",
       " 'm-ch']"
      ]
     },
     "execution_count": 22,
     "metadata": {},
     "output_type": "execute_result"
    }
   ],
   "source": [
    "# 3.\n",
    "[word.lower().replace(word[1:-2], '-'*len(word[1:-2])) for word in set(gutenberg.words(fileids = 'bryant-stories.txt')) if word.endswith('ch')]"
   ]
  },
  {
   "cell_type": "markdown",
   "id": "65b0cbe2-a610-476f-b79a-cc27bd8e963e",
   "metadata": {},
   "source": [
    "### Brown\n",
    "- categories"
   ]
  },
  {
   "cell_type": "code",
   "execution_count": 25,
   "id": "ffa0d98a-fa19-42cd-a1cc-5414259d8aff",
   "metadata": {},
   "outputs": [
    {
     "name": "stderr",
     "output_type": "stream",
     "text": [
      "[nltk_data] Downloading package brown to /Users/violet/nltk_data...\n",
      "[nltk_data]   Package brown is already up-to-date!\n",
      "[nltk_data] Downloading package gutenberg to\n",
      "[nltk_data]     /Users/violet/nltk_data...\n",
      "[nltk_data]   Package gutenberg is already up-to-date!\n",
      "[nltk_data] Downloading package inaugural to\n",
      "[nltk_data]     /Users/violet/nltk_data...\n",
      "[nltk_data]   Package inaugural is already up-to-date!\n"
     ]
    },
    {
     "data": {
      "text/plain": [
       "True"
      ]
     },
     "execution_count": 25,
     "metadata": {},
     "output_type": "execute_result"
    }
   ],
   "source": [
    "# import\n",
    "from nltk.corpus import brown\n",
    "nltk.download(['brown', 'gutenberg', 'inaugural'])\n",
    "\n",
    "# 다른 방법\n",
    "# brown = nltk.corpus.brown"
   ]
  },
  {
   "cell_type": "code",
   "execution_count": 26,
   "id": "59a9ff01-8cf7-4ec7-bb96-a3c14309f75e",
   "metadata": {},
   "outputs": [
    {
     "data": {
      "text/plain": [
       "['adventure',\n",
       " 'belles_lettres',\n",
       " 'editorial',\n",
       " 'fiction',\n",
       " 'government',\n",
       " 'hobbies',\n",
       " 'humor',\n",
       " 'learned',\n",
       " 'lore',\n",
       " 'mystery',\n",
       " 'news',\n",
       " 'religion',\n",
       " 'reviews',\n",
       " 'romance',\n",
       " 'science_fiction']"
      ]
     },
     "execution_count": 26,
     "metadata": {},
     "output_type": "execute_result"
    }
   ],
   "source": [
    "brown.categories()"
   ]
  },
  {
   "cell_type": "code",
   "execution_count": 27,
   "id": "b3fe9609-df44-4fcf-b5e1-05558c88a111",
   "metadata": {},
   "outputs": [],
   "source": [
    "# Frequency Distribution\n",
    "fdist = nltk.FreqDist([w.lower() for w in brown.words(categories = 'adventure')])"
   ]
  },
  {
   "cell_type": "code",
   "execution_count": 28,
   "id": "22eabcda-b59c-423a-9d24-9d01660c70e4",
   "metadata": {},
   "outputs": [
    {
     "data": {
      "text/plain": [
       "83"
      ]
     },
     "execution_count": 28,
     "metadata": {},
     "output_type": "execute_result"
    }
   ],
   "source": [
    "fdist['men']"
   ]
  },
  {
   "cell_type": "code",
   "execution_count": 29,
   "id": "0f50e96e-2ce7-416b-b1ff-00e47eb9999e",
   "metadata": {},
   "outputs": [
    {
     "name": "stdout",
     "output_type": "stream",
     "text": [
      "can 48\n",
      "could 154\n",
      "will 51\n",
      "would 194\n",
      "may 7\n",
      "might 59\n"
     ]
    }
   ],
   "source": [
    "# modal verbs\n",
    "modals = ['can', 'could', 'will', 'would', 'may', 'might']\n",
    "\n",
    "for verb in modals:\n",
    "    print(verb, fdist[verb])"
   ]
  },
  {
   "cell_type": "markdown",
   "id": "33591ca4-37c0-4355-9d45-b4ca6c497390",
   "metadata": {},
   "source": [
    "### conditional frequency distribution\n",
    "- 조건에 따른 fdist를 사용하고 싶을때"
   ]
  },
  {
   "cell_type": "code",
   "execution_count": 30,
   "id": "75d879ce-0f65-4af7-bd22-fdd4e971ed1e",
   "metadata": {},
   "outputs": [],
   "source": [
    "cfd = nltk.ConditionalFreqDist(\n",
    "    # 각 장르에 따른 frequency distribution을 만듦\n",
    "    (genre, word.lower())\n",
    "    for genre in brown.categories()\n",
    "    for word in brown.words(categories = genre)\n",
    ")"
   ]
  },
  {
   "cell_type": "code",
   "execution_count": 31,
   "id": "bfe21c15-d099-4c67-babb-00da38c4e69a",
   "metadata": {},
   "outputs": [
    {
     "data": {
      "text/plain": [
       "36"
      ]
     },
     "execution_count": 31,
     "metadata": {},
     "output_type": "execute_result"
    }
   ],
   "source": [
    "cfd['romance']['love']"
   ]
  },
  {
   "cell_type": "code",
   "execution_count": 32,
   "id": "cc413ef2-445d-468b-9f5f-580063e8efff",
   "metadata": {},
   "outputs": [
    {
     "data": {
      "text/plain": [
       "3792"
      ]
     },
     "execution_count": 32,
     "metadata": {},
     "output_type": "execute_result"
    }
   ],
   "source": [
    "cfd['fiction']['the']"
   ]
  },
  {
   "cell_type": "code",
   "execution_count": null,
   "id": "bf4827c5-198d-435d-ae5d-20ac8c4ec674",
   "metadata": {},
   "outputs": [],
   "source": []
  }
 ],
 "metadata": {
  "kernelspec": {
   "display_name": "Python 3 (ipykernel)",
   "language": "python",
   "name": "python3"
  },
  "language_info": {
   "codemirror_mode": {
    "name": "ipython",
    "version": 3
   },
   "file_extension": ".py",
   "mimetype": "text/x-python",
   "name": "python",
   "nbconvert_exporter": "python",
   "pygments_lexer": "ipython3",
   "version": "3.9.7"
  }
 },
 "nbformat": 4,
 "nbformat_minor": 5
}
