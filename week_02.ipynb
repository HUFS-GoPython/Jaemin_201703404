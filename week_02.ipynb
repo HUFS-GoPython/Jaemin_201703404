{
 "cells": [
  {
   "cell_type": "markdown",
   "id": "b4f9d010-1ae7-4e90-ae03-f1c040ba136c",
   "metadata": {},
   "source": [
    "### Variable\n",
    "- string\n",
    "- float\n",
    "- integer\n",
    "- boolean"
   ]
  },
  {
   "cell_type": "code",
   "execution_count": 1,
   "id": "829cb021-029b-41c9-93eb-bc635c468df8",
   "metadata": {},
   "outputs": [
    {
     "name": "stdout",
     "output_type": "stream",
     "text": [
      "2\n"
     ]
    }
   ],
   "source": [
    "# 여러 이름 동시 할당\n",
    "two = deux = dos = 2 # dos >> deux >> two\n",
    "\n",
    "print(two)"
   ]
  },
  {
   "cell_type": "code",
   "execution_count": 2,
   "id": "613d65aa-6164-493a-b0f7-8ba303b20a6a",
   "metadata": {},
   "outputs": [
    {
     "name": "stdout",
     "output_type": "stream",
     "text": [
      "4 2\n"
     ]
    }
   ],
   "source": [
    "# 불변 객체이므로\n",
    "two = 4\n",
    "\n",
    "print(two, deux)"
   ]
  },
  {
   "cell_type": "code",
   "execution_count": 3,
   "id": "31f3449b-311b-4386-a32d-c0d65d1a197f",
   "metadata": {},
   "outputs": [
    {
     "data": {
      "text/plain": [
       "([1, 2, 3], [1, 2, 3])"
      ]
     },
     "execution_count": 3,
     "metadata": {},
     "output_type": "execute_result"
    }
   ],
   "source": [
    "p = [1, 2, 3]\n",
    "q = p\n",
    "\n",
    "p, q"
   ]
  },
  {
   "cell_type": "code",
   "execution_count": 4,
   "id": "76159134-b498-4145-9a6e-4bc28c7585f9",
   "metadata": {},
   "outputs": [
    {
     "data": {
      "text/plain": [
       "(140160691110208, 140160691110208)"
      ]
     },
     "execution_count": 4,
     "metadata": {},
     "output_type": "execute_result"
    }
   ],
   "source": [
    "id(p), id(q)"
   ]
  },
  {
   "cell_type": "code",
   "execution_count": 5,
   "id": "bc82df27-89da-4d9f-b212-1cfb769127a2",
   "metadata": {},
   "outputs": [
    {
     "data": {
      "text/plain": [
       "([9, 2, 3], [9, 2, 3])"
      ]
     },
     "execution_count": 5,
     "metadata": {},
     "output_type": "execute_result"
    }
   ],
   "source": [
    "p[0] = 9\n",
    "\n",
    "p, q"
   ]
  },
  {
   "cell_type": "code",
   "execution_count": 6,
   "id": "d0c1f2bb-a4e5-4b8b-9178-6a236de87ba8",
   "metadata": {},
   "outputs": [
    {
     "data": {
      "text/plain": [
       "(140160691110208, 140160691110208)"
      ]
     },
     "execution_count": 6,
     "metadata": {},
     "output_type": "execute_result"
    }
   ],
   "source": [
    "# id는 같음\n",
    "id(p), id(q)"
   ]
  },
  {
   "cell_type": "markdown",
   "id": "94c35c7e-c21f-4f93-bcb5-a560113f33e0",
   "metadata": {},
   "source": [
    "### 좋은 변수명\n",
    "- 간결하고 명확한 이름\n",
    "- 의미가 담겨야 함\n",
    "- 코드에는 의미가 담기고 주석에는 의도가 담겨야 함\n",
    "    - ex) the number of students n < the_number_of_students < num_student\n",
    "    - 카멜 표기법 ex) numStudents"
   ]
  },
  {
   "cell_type": "markdown",
   "id": "f487e63d-1b49-449c-9d08-9f99e180d51d",
   "metadata": {},
   "source": [
    "### 자료형 변환 및 형 변환\n",
    "= str(<변환할 값>), int(), float(), bool()"
   ]
  },
  {
   "cell_type": "code",
   "execution_count": 7,
   "id": "32565bd7-816a-4f54-8f23-a734043d0563",
   "metadata": {},
   "outputs": [
    {
     "data": {
      "text/plain": [
       "True"
      ]
     },
     "execution_count": 7,
     "metadata": {},
     "output_type": "execute_result"
    }
   ],
   "source": [
    "a = 10\n",
    "\n",
    "# str\n",
    "str(a)\n",
    "\n",
    "# float\n",
    "float(a)\n",
    "\n",
    "# bool\n",
    "bool(a) # 어떤 값이 false로 변환 되는지"
   ]
  },
  {
   "cell_type": "markdown",
   "id": "949fa592-f665-442c-9518-f7359efee9b6",
   "metadata": {},
   "source": [
    "주의1) float >> int"
   ]
  },
  {
   "cell_type": "code",
   "execution_count": 8,
   "id": "9c9ab7dd-9eeb-447d-847d-e703e6e3d7e2",
   "metadata": {},
   "outputs": [
    {
     "data": {
      "text/plain": [
       "10"
      ]
     },
     "execution_count": 8,
     "metadata": {},
     "output_type": "execute_result"
    }
   ],
   "source": [
    "x = 10.7 # 소수점 내림\n",
    "\n",
    "int(x)"
   ]
  },
  {
   "cell_type": "code",
   "execution_count": 9,
   "id": "bc486236-52af-4ed4-89a0-de621a5807a8",
   "metadata": {},
   "outputs": [
    {
     "name": "stdout",
     "output_type": "stream",
     "text": [
      "21\n",
      "20\n"
     ]
    }
   ],
   "source": [
    "y = 10.8\n",
    "\n",
    "print(int(x + y))\n",
    "print(int(x) + int(y))"
   ]
  },
  {
   "cell_type": "markdown",
   "id": "f0266874-a46a-47a1-b0ca-0442f43f7cb0",
   "metadata": {},
   "source": [
    "주의2) str >> int/float"
   ]
  },
  {
   "cell_type": "code",
   "execution_count": 10,
   "id": "91cdb9e0-33ac-422b-af8b-883d55732291",
   "metadata": {},
   "outputs": [
    {
     "data": {
      "text/plain": [
       "(10, 10.0)"
      ]
     },
     "execution_count": 10,
     "metadata": {},
     "output_type": "execute_result"
    }
   ],
   "source": [
    "i = \"10\"\n",
    "\n",
    "int(i), float(i)"
   ]
  },
  {
   "cell_type": "code",
   "execution_count": 11,
   "id": "6297eafb-367b-438a-ba4a-f3f02115260c",
   "metadata": {},
   "outputs": [
    {
     "ename": "ValueError",
     "evalue": "invalid literal for int() with base 10: '10.7'",
     "output_type": "error",
     "traceback": [
      "\u001b[0;31m---------------------------------------------------------------------------\u001b[0m",
      "\u001b[0;31mValueError\u001b[0m                                Traceback (most recent call last)",
      "\u001b[0;32m/var/folders/qv/869nctd5709b62173q7l0mxh0000gn/T/ipykernel_37001/413392073.py\u001b[0m in \u001b[0;36m<module>\u001b[0;34m\u001b[0m\n\u001b[1;32m      1\u001b[0m \u001b[0mj\u001b[0m \u001b[0;34m=\u001b[0m \u001b[0;34m\"10.7\"\u001b[0m\u001b[0;34m\u001b[0m\u001b[0;34m\u001b[0m\u001b[0m\n\u001b[1;32m      2\u001b[0m \u001b[0;34m\u001b[0m\u001b[0m\n\u001b[0;32m----> 3\u001b[0;31m \u001b[0mint\u001b[0m\u001b[0;34m(\u001b[0m\u001b[0mj\u001b[0m\u001b[0;34m)\u001b[0m\u001b[0;34m\u001b[0m\u001b[0;34m\u001b[0m\u001b[0m\n\u001b[0m",
      "\u001b[0;31mValueError\u001b[0m: invalid literal for int() with base 10: '10.7'"
     ]
    }
   ],
   "source": [
    "j = \"10.7\"\n",
    "\n",
    "int(j)"
   ]
  },
  {
   "cell_type": "markdown",
   "id": "7ea4dbd2-7411-46b8-bc43-ed6571a70c9f",
   "metadata": {},
   "source": [
    "### print() 함수 꿀팁"
   ]
  },
  {
   "cell_type": "code",
   "execution_count": 12,
   "id": "ee1cb1f3-c679-407a-a79b-64c2e13e2a65",
   "metadata": {},
   "outputs": [
    {
     "name": "stdout",
     "output_type": "stream",
     "text": [
      "dogcatlion\n",
      "dog cat lion\n"
     ]
    }
   ],
   "source": [
    "dog = \"dog\"\n",
    "cat = \"cat\"\n",
    "lion = \"lion\"\n",
    "\n",
    "print(dog + cat + lion) # space X, \\n\n",
    "print(dog, cat, lion) # space O, \\n"
   ]
  },
  {
   "cell_type": "code",
   "execution_count": 13,
   "id": "4c6c87d7-553e-4654-8617-8bc320ffcd8c",
   "metadata": {},
   "outputs": [
    {
     "name": "stdout",
     "output_type": "stream",
     "text": [
      "dog cat lion\n",
      "dog cat lion\n",
      "\n",
      "EOL\n"
     ]
    }
   ],
   "source": [
    "print(dog, cat, lion, sep = ' ', end = '\\n') # default\n",
    "print(dog, cat, lion, sep = ' ', end = '\\n\\n')\n",
    "print(\"EOL\")"
   ]
  },
  {
   "cell_type": "code",
   "execution_count": 14,
   "id": "2476e910-a803-45b9-818e-f01e5e7a8102",
   "metadata": {},
   "outputs": [
    {
     "name": "stdout",
     "output_type": "stream",
     "text": [
      "My favorite animal is dog\n",
      "My favorite animal is dog\n"
     ]
    }
   ],
   "source": [
    "#1\n",
    "print(\"My favorite animal is\", dog)\n",
    "\n",
    "#2\n",
    "print(f\"My favorite animal is {dog}\")"
   ]
  },
  {
   "cell_type": "markdown",
   "id": "20c9b638-37cc-4de4-bf64-2592ad29a8ce",
   "metadata": {},
   "source": [
    "코드 줄이 짧을 때 ; 를 이용해서 한 줄로 쓸 수 있음"
   ]
  },
  {
   "cell_type": "markdown",
   "id": "4d4fc600-a4ca-45f4-b904-e4301b381d69",
   "metadata": {},
   "source": [
    "### input() 함수\n",
    "- console에서 사용자가 입력하는 값을 받을 수 있는 함수\n",
    "- 입력 받는 값은 문자열로 인식이 됨\n",
    "- 입력 받을 값을 변수에 담아서 사용함\n",
    "- 숫자일 경우 형 변환 됨"
   ]
  },
  {
   "cell_type": "code",
   "execution_count": 16,
   "id": "ead016c9-e51f-478a-9f47-c00154cccd1b",
   "metadata": {
    "tags": []
   },
   "outputs": [
    {
     "name": "stdin",
     "output_type": "stream",
     "text": [
      "Hello? Hi\n"
     ]
    },
    {
     "data": {
      "text/plain": [
       "'Hi'"
      ]
     },
     "execution_count": 16,
     "metadata": {},
     "output_type": "execute_result"
    }
   ],
   "source": [
    "input(\"Hello?\")"
   ]
  },
  {
   "cell_type": "code",
   "execution_count": 17,
   "id": "781b9796-a6bd-4776-b27d-753110f33f4a",
   "metadata": {
    "tags": []
   },
   "outputs": [
    {
     "name": "stdin",
     "output_type": "stream",
     "text": [
      "나이가 어떻게 되나요? 30\n"
     ]
    }
   ],
   "source": [
    "#1\n",
    "age = int(input(\"나이가 어떻게 되나요?\"))"
   ]
  },
  {
   "cell_type": "code",
   "execution_count": 18,
   "id": "83db947b-492e-493c-877c-3876211f984f",
   "metadata": {
    "tags": []
   },
   "outputs": [
    {
     "name": "stdout",
     "output_type": "stream",
     "text": [
      "30\n"
     ]
    }
   ],
   "source": [
    "print(age)"
   ]
  },
  {
   "cell_type": "code",
   "execution_count": 20,
   "id": "d06dadb3-ac9d-4b06-9378-6ff81586e646",
   "metadata": {},
   "outputs": [
    {
     "name": "stdout",
     "output_type": "stream",
     "text": [
      "How old are you?\n"
     ]
    },
    {
     "name": "stdin",
     "output_type": "stream",
     "text": [
      " 40\n"
     ]
    }
   ],
   "source": [
    "#2\n",
    "print(\"How old are you?\")\n",
    "\n",
    "age = input()"
   ]
  },
  {
   "cell_type": "code",
   "execution_count": 21,
   "id": "557a6277-82ae-4bca-b4d9-8c6b3226c43f",
   "metadata": {},
   "outputs": [
    {
     "data": {
      "text/plain": [
       "'40'"
      ]
     },
     "execution_count": 21,
     "metadata": {},
     "output_type": "execute_result"
    }
   ],
   "source": [
    "age"
   ]
  },
  {
   "cell_type": "markdown",
   "id": "cbbd1def-2c9e-426e-9fa6-a07402c093c3",
   "metadata": {},
   "source": [
    "### Quiz 1\n",
    "- 섭씨를 입력받아서 화씨로 변환하기\n",
    "- \"섭씨\" * 1.8 + 32 = \"화씨\""
   ]
  },
  {
   "cell_type": "code",
   "execution_count": 22,
   "id": "9b2fd818-9450-4ce4-b4b9-b28c95d19bf2",
   "metadata": {},
   "outputs": [
    {
     "name": "stdin",
     "output_type": "stream",
     "text": [
      "섭씨 온도는? 15.8\n"
     ]
    },
    {
     "name": "stdout",
     "output_type": "stream",
     "text": [
      "60.44\n"
     ]
    }
   ],
   "source": [
    "celsius = float(input(\"섭씨 온도는?\"))\n",
    "fahrenheit = celsius * 1.8 + 32\n",
    "\n",
    "print(fahrenheit)"
   ]
  },
  {
   "cell_type": "markdown",
   "id": "d647e420-3ff6-416c-b6b7-0bfc3fa59ed6",
   "metadata": {},
   "source": [
    "### Quiz 2\n",
    "- 택배 정보 입력 받고, 총 합계 계산\n",
    "- 출력값: "
   ]
  },
  {
   "cell_type": "code",
   "execution_count": 23,
   "id": "2127a46d-24dc-419f-b3e6-c185d2bbeec4",
   "metadata": {},
   "outputs": [
    {
     "name": "stdout",
     "output_type": "stream",
     "text": [
      "=== 택배 정보 ===\n"
     ]
    },
    {
     "name": "stdin",
     "output_type": "stream",
     "text": [
      "수취인 성명:  조재민\n",
      "수취인 주소:  잠실\n",
      "무게:  50\n"
     ]
    },
    {
     "name": "stdout",
     "output_type": "stream",
     "text": [
      "총 합계: 3250 원\n"
     ]
    }
   ],
   "source": [
    "print(\"=== 택배 정보 ===\")\n",
    "\n",
    "name = input(\"수취인 성명: \")\n",
    "address = input(\"수취인 주소: \")\n",
    "weight = float(input(\"무게: \"))\n",
    "\n",
    "price = weight * 5\n",
    "del_charge = 3000\n",
    "total = int(del_charge + price)\n",
    "\n",
    "print(f\"총 합계: {total} 원\")"
   ]
  },
  {
   "cell_type": "markdown",
   "id": "d2902739-3124-489e-b22f-2df6ed2f245b",
   "metadata": {},
   "source": [
    "## Ch03. Numbers"
   ]
  },
  {
   "cell_type": "markdown",
   "id": "03b78106-0bdd-4a3e-a34e-bf6859f5db28",
   "metadata": {},
   "source": [
    "### boolean\n",
    "- 형 변환할때 True, False 인지 기억하라\n",
    "    - '', None, 0, ...\n",
    "- 조건식에서 많이 쓰인다\n",
    "    - ex) 만약 이 조건이 True라면, ..."
   ]
  },
  {
   "cell_type": "code",
   "execution_count": 24,
   "id": "09fbb313-3504-4c8a-9eb0-78130a56d42b",
   "metadata": {},
   "outputs": [
    {
     "data": {
      "text/plain": [
       "True"
      ]
     },
     "execution_count": 24,
     "metadata": {},
     "output_type": "execute_result"
    }
   ],
   "source": [
    "bool(1)"
   ]
  },
  {
   "cell_type": "code",
   "execution_count": 25,
   "id": "b5d344a7-891b-4871-8579-a245879495f9",
   "metadata": {},
   "outputs": [
    {
     "data": {
      "text/plain": [
       "False"
      ]
     },
     "execution_count": 25,
     "metadata": {},
     "output_type": "execute_result"
    }
   ],
   "source": [
    "bool('')"
   ]
  },
  {
   "cell_type": "markdown",
   "id": "18c2a310-4b49-40c8-9e05-500d0ab3ee8f",
   "metadata": {},
   "source": [
    "### integer\n",
    "- 소수점 없음\n",
    "- default 양수, 음수는 앞에 -를 붙임\n",
    "- 숫자 앞에는 0을 붙일 수 없음 ex) 05\n",
    "    - 예외적으로 0bxxx, >> 다른 진수 표현법\n",
    "- 리터럴: 4\n",
    "- 공백이 많아도 무시됨\n",
    "-10,000원 >> 10, 000원 두 개로 인식 >> _사용 ex)10_000"
   ]
  },
  {
   "cell_type": "markdown",
   "id": "55a0db0c-5926-4f39-ac9f-8dff2f34228d",
   "metadata": {},
   "source": [
    "### 연산\n",
    "- 연산자|operator: +, -, \n",
    "- 피연산자|operand: 4, 5, ...\n",
    "- 수식|expression"
   ]
  },
  {
   "cell_type": "code",
   "execution_count": 26,
   "id": "9d31e8f4-725a-4572-81e4-05532fb6e691",
   "metadata": {},
   "outputs": [
    {
     "data": {
      "text/plain": [
       "262144"
      ]
     },
     "execution_count": 26,
     "metadata": {},
     "output_type": "execute_result"
    }
   ],
   "source": [
    "x = 4\n",
    "y = 9\n",
    "\n",
    "x + y\n",
    "x - y\n",
    "x * y\n",
    "x / y\n",
    "\n",
    "# 거듭제곱|exponential\n",
    "x ** y"
   ]
  },
  {
   "cell_type": "markdown",
   "id": "2f8dd43b-8e9e-44df-bf73-703859927554",
   "metadata": {},
   "source": [
    "### 나눗셈에서 주의할 사항"
   ]
  },
  {
   "cell_type": "code",
   "execution_count": 27,
   "id": "aabaed7d-f8e4-4b05-b7f2-896ff7ec1bf7",
   "metadata": {},
   "outputs": [
    {
     "data": {
      "text/plain": [
       "(0, 4, 0.4444444444444444)"
      ]
     },
     "execution_count": 27,
     "metadata": {},
     "output_type": "execute_result"
    }
   ],
   "source": [
    "#1. division by zero >> 주의 (y != 0)\n",
    "#2. 몫, 나머지\n",
    "x // y, x % y, x / y"
   ]
  },
  {
   "cell_type": "code",
   "execution_count": 28,
   "id": "11c329df-fc14-4148-9470-8185e3e4c87d",
   "metadata": {},
   "outputs": [
    {
     "data": {
      "text/plain": [
       "(0, 4)"
      ]
     },
     "execution_count": 28,
     "metadata": {},
     "output_type": "execute_result"
    }
   ],
   "source": [
    "divmod(x, y)"
   ]
  },
  {
   "cell_type": "markdown",
   "id": "adcf2183-4415-49e7-8729-23d19eb993b1",
   "metadata": {},
   "source": [
    "### 복합 대입연산자"
   ]
  },
  {
   "cell_type": "code",
   "execution_count": 29,
   "id": "4e5cc2be-f3e8-48da-867c-ea8bea7cd092",
   "metadata": {},
   "outputs": [
    {
     "name": "stdout",
     "output_type": "stream",
     "text": [
      "5\n"
     ]
    }
   ],
   "source": [
    "a = 5\n",
    "a - 3\n",
    "\n",
    "print(a)"
   ]
  },
  {
   "cell_type": "code",
   "execution_count": 30,
   "id": "94bd5682-0912-4575-9e87-150042fdc13b",
   "metadata": {},
   "outputs": [],
   "source": [
    "a = a - 3\n",
    "#1 a-3 계산\n",
    "#2 임시변수 temp = a-3\n",
    "#3 a = a-3\n",
    "\n",
    "a -= 3"
   ]
  },
  {
   "cell_type": "code",
   "execution_count": 31,
   "id": "b931e3f1-110c-490b-b82f-7ffda52ba557",
   "metadata": {},
   "outputs": [],
   "source": [
    "a += 3\n",
    "a -= 3\n",
    "a *= 3\n",
    "a /= 3"
   ]
  },
  {
   "cell_type": "code",
   "execution_count": 32,
   "id": "50fd6533-df11-47e5-8b77-ae5e05b8c819",
   "metadata": {},
   "outputs": [
    {
     "name": "stdout",
     "output_type": "stream",
     "text": [
      "8\n"
     ]
    }
   ],
   "source": [
    "u = 7 # 값 초기화\n",
    "u += 1\n",
    "\n",
    "print(u)"
   ]
  },
  {
   "cell_type": "markdown",
   "id": "e872deeb-38c0-4cc3-8530-d30c995b342b",
   "metadata": {},
   "source": [
    "### Quiz"
   ]
  },
  {
   "cell_type": "code",
   "execution_count": 33,
   "id": "7b325488-205e-46f5-b279-b57e517125ce",
   "metadata": {},
   "outputs": [
    {
     "name": "stdin",
     "output_type": "stream",
     "text": [
      "정수 입력:  7\n"
     ]
    },
    {
     "name": "stdout",
     "output_type": "stream",
     "text": [
      "3의 배수? False\n",
      "홀수? True\n"
     ]
    }
   ],
   "source": [
    "num = int(input(\"정수 입력: \"))\n",
    "\n",
    "print(\"3의 배수?\", num % 3 == 0)\n",
    "print(\"홀수?\", num % 2 != 0)"
   ]
  },
  {
   "cell_type": "markdown",
   "id": "5e0c0d8d-a3e9-4fef-bf59-33571c629a55",
   "metadata": {},
   "source": [
    "#### 지수 표현\n",
    "- e, E 둘 다 가능\n",
    "- 앞부분은 float, int\n",
    "- 뒷부분은 int만 옴\n",
    "    - 양수면 0 앞으로\n",
    "    - 음수면 0 뒤로"
   ]
  },
  {
   "cell_type": "code",
   "execution_count": 34,
   "id": "4ba1f303-cf49-4a29-8346-c80568d20ea7",
   "metadata": {},
   "outputs": [
    {
     "data": {
      "text/plain": [
       "0.001"
      ]
     },
     "execution_count": 34,
     "metadata": {},
     "output_type": "execute_result"
    }
   ],
   "source": [
    "1.0e-3 # float"
   ]
  },
  {
   "cell_type": "code",
   "execution_count": 35,
   "id": "d88a9305-77e3-4cea-8216-fd02f46d8447",
   "metadata": {},
   "outputs": [],
   "source": [
    "# 0.00789 >> 지수표현"
   ]
  },
  {
   "cell_type": "code",
   "execution_count": 36,
   "id": "30a542d5-8e0b-4b9e-95c3-6cfc718999c4",
   "metadata": {},
   "outputs": [
    {
     "data": {
      "text/plain": [
       "0.00789"
      ]
     },
     "execution_count": 36,
     "metadata": {},
     "output_type": "execute_result"
    }
   ],
   "source": [
    "7.89e-3"
   ]
  },
  {
   "cell_type": "markdown",
   "id": "02ef0394-07b5-406b-9cb5-a32b100262ab",
   "metadata": {},
   "source": [
    "### 조건문 if\n",
    "- code structure"
   ]
  },
  {
   "cell_type": "markdown",
   "id": "cfcc3c7f-6d87-49e8-902a-1d8e5721fa95",
   "metadata": {},
   "source": [
    "### 코드 짜는 규칙\n",
    "- 주석 다는 법\n",
    "    - 설명하는 부분\n",
    "    - 목적: 의도를 표현함\n",
    "    - '#' hash, sharp, ...\n",
    "    - 시작된 부분부터 그 라인 끝까지가 주석\n",
    "    - 문자열 안에 들어있는 hash는 문자열로 인식\n",
    "    - \"\"\"<주석>\"\"\"\n",
    "    \n",
    "- 라인 유지하기\n",
    "    - 들여쓰기, 공백 4개, 탭 1개\n",
    "    - 한 줄에 최대 80자 넘지 않게 함\n",
    "    - 백슬래시로 끊어줌"
   ]
  },
  {
   "cell_type": "code",
   "execution_count": 37,
   "id": "a0fe5746-adaa-4752-81e8-4687b45c20ab",
   "metadata": {},
   "outputs": [],
   "source": [
    "a = 3 # 라인 끝\n",
    "b = 2"
   ]
  },
  {
   "cell_type": "code",
   "execution_count": 38,
   "id": "4eb0a35d-dd6c-4720-911b-b9cecde2ea4a",
   "metadata": {},
   "outputs": [
    {
     "name": "stdout",
     "output_type": "stream",
     "text": [
      "hey ###\n"
     ]
    },
    {
     "data": {
      "text/plain": [
       "'\\n주석1\\n주석2\\n주석3\\n'"
      ]
     },
     "execution_count": 38,
     "metadata": {},
     "output_type": "execute_result"
    }
   ],
   "source": [
    "example = 'hey ###'\n",
    "print(example)\n",
    "\n",
    "\"\"\"\n",
    "주석1\n",
    "주석2\n",
    "주석3\n",
    "\"\"\""
   ]
  },
  {
   "cell_type": "code",
   "execution_count": 39,
   "id": "fb2f2b5b-28d1-43c9-8173-4c9689012676",
   "metadata": {},
   "outputs": [
    {
     "ename": "IndentationError",
     "evalue": "expected an indented block (860939359.py, line 2)",
     "output_type": "error",
     "traceback": [
      "\u001b[0;36m  File \u001b[0;32m\"/var/folders/qv/869nctd5709b62173q7l0mxh0000gn/T/ipykernel_37001/860939359.py\"\u001b[0;36m, line \u001b[0;32m2\u001b[0m\n\u001b[0;31m    ###\u001b[0m\n\u001b[0m       ^\u001b[0m\n\u001b[0;31mIndentationError\u001b[0m\u001b[0;31m:\u001b[0m expected an indented block\n"
     ]
    }
   ],
   "source": [
    "if ...:\n",
    "    ###"
   ]
  },
  {
   "cell_type": "markdown",
   "id": "d4335238-84bb-4ccd-903b-4c44e7abb1ca",
   "metadata": {},
   "source": [
    "#### 조건 1개\n",
    "- if 조건:\n",
    "    - <실행할 코드>"
   ]
  },
  {
   "cell_type": "code",
   "execution_count": 40,
   "id": "0bf811cb-8064-4f3f-9a15-333b7d989f6b",
   "metadata": {},
   "outputs": [
    {
     "name": "stdout",
     "output_type": "stream",
     "text": [
      "Yaay!\n"
     ]
    }
   ],
   "source": [
    "if 4 != 9:\n",
    "    print(\"Yaay!\")"
   ]
  },
  {
   "cell_type": "markdown",
   "id": "92661d0b-600c-4651-a558-3d8a50952d19",
   "metadata": {},
   "source": [
    "#### 조건 2개\n",
    "- if 조건:\n",
    "    - <실행할 코드1>\n",
    "- else:\n",
    "    - <실행할 코드2>"
   ]
  },
  {
   "cell_type": "code",
   "execution_count": 41,
   "id": "ebeb346f-d524-492c-94ac-f7bd859f233c",
   "metadata": {},
   "outputs": [
    {
     "name": "stdout",
     "output_type": "stream",
     "text": [
      "Hey!\n"
     ]
    }
   ],
   "source": [
    "if 4 == 9:\n",
    "    print(\"Yaay!\")\n",
    "else:\n",
    "    print(\"Hey!\")"
   ]
  },
  {
   "cell_type": "markdown",
   "id": "a3b70531-36ee-48bd-819c-ea159dff0710",
   "metadata": {},
   "source": [
    "#### 조건 3개\n",
    "- if 조건:\n",
    "    - <실행할 코드1>\n",
    "- elif 조건:\n",
    "    - <실행할 코드2>\n",
    "- else:\n",
    "    - <실행할 코드3>"
   ]
  },
  {
   "cell_type": "code",
   "execution_count": 42,
   "id": "168c1f1d-fcd4-49db-aeb3-1991a1edded1",
   "metadata": {},
   "outputs": [
    {
     "name": "stdout",
     "output_type": "stream",
     "text": [
      "Yeah!\n"
     ]
    }
   ],
   "source": [
    "if 4 == 9:\n",
    "    print(\"Yaay!\")\n",
    "elif 4 != 9:\n",
    "    print(\"Yeah!\")\n",
    "else:\n",
    "    print(\"Hey!\")"
   ]
  },
  {
   "cell_type": "markdown",
   "id": "06680d55-e1e3-47e3-ab66-7e3453ac4c54",
   "metadata": {},
   "source": [
    "#### 비교연산자\n",
    "- x < y, x <= y\n",
    "- x > y, x >= y\n",
    "- x == y (값)\n",
    "- x != y (값)\n",
    "- x is y(값, 메모리 주소)\n",
    "- x is not y"
   ]
  },
  {
   "cell_type": "markdown",
   "id": "050128ad-f1c7-43a8-9cc4-27e85da4c5c2",
   "metadata": {},
   "source": [
    "### Quiz 1\n",
    "- 학점 부여\n",
    "- 학점 입력 받아서\n",
    "    - 90점 이상이면 A\n",
    "    - 80점 이상이면 B\n",
    "    - 70점 이상이면 C\n",
    "    - 그 외 D\n",
    "- 변수 설정 유의"
   ]
  },
  {
   "cell_type": "code",
   "execution_count": 43,
   "id": "580e643b-206d-48fc-90f5-c7e0a1a4bf2a",
   "metadata": {},
   "outputs": [
    {
     "name": "stdin",
     "output_type": "stream",
     "text": [
      "점수:  85\n"
     ]
    },
    {
     "name": "stdout",
     "output_type": "stream",
     "text": [
      "\n",
      "점수: 85점\n",
      "학점: B\n"
     ]
    }
   ],
   "source": [
    "score = int(input(\"점수: \"))\n",
    "\n",
    "if score >= 90:\n",
    "    grade = \"A\"\n",
    "elif score >= 80:\n",
    "    grade = \"B\"\n",
    "elif score >= 70:\n",
    "    grade = \"C\"\n",
    "else:\n",
    "    grade = \"D\"\n",
    "    \n",
    "print(f\"\\n점수: {score}점\\n학점: {grade}\")"
   ]
  },
  {
   "cell_type": "markdown",
   "id": "e8c47e29-8081-49fd-adbe-64e423c62f4a",
   "metadata": {},
   "source": [
    "### Quiz 2\n",
    "- ID, PW 입력 받아서 둘 다 일치하면 로그인\n",
    "- ID, PW 각자 정함\n",
    "- 일치하지 않을 경우 창의적으로 변환"
   ]
  },
  {
   "cell_type": "code",
   "execution_count": 44,
   "id": "971addd0-9b2a-4519-9093-2927ea5751ec",
   "metadata": {},
   "outputs": [
    {
     "name": "stdin",
     "output_type": "stream",
     "text": [
      "ID:  jaemin\n",
      "PW:  1234\n"
     ]
    },
    {
     "name": "stdout",
     "output_type": "stream",
     "text": [
      "login success\n"
     ]
    }
   ],
   "source": [
    "actual_id = \"jaemin\"\n",
    "actual_pw = \"1234\"\n",
    "\n",
    "user_id = input(\"ID: \")\n",
    "user_pw = input(\"PW: \")\n",
    "\n",
    "if actual_id == user_id and actual_pw == user_pw:\n",
    "    print(\"login success\")\n",
    "else:\n",
    "    print(\"login failed\")"
   ]
  },
  {
   "cell_type": "markdown",
   "id": "c16d64a3-1228-4c1f-9d34-07218a625f6d",
   "metadata": {},
   "source": [
    "#### 논리연산자\n",
    "- 여러 조건식을 비교할 때\n",
    "- ex) 10 < x < 20\n",
    "    - 파이썬에서만 가능한 표현\n",
    "    - (x > 10) 혹은 (x < 20)\n",
    "- and, &: 둘 다 참일 때 True\n",
    "- or, |: 둘 중 하나만 참이여도 True\n",
    "- not: 참 >> False, 거짓 >> True"
   ]
  },
  {
   "cell_type": "markdown",
   "id": "17b7ec07-dca7-4fee-bf64-be0ea0ba015e",
   "metadata": {},
   "source": [
    "### Quiz 3\n",
    "- Quiz 2 확장판\n",
    "- 결석 횟수를 입력 받아 80점 이상이지만 결석이 2번 이상이면 F, 나머지는 점수대로\n",
    "    - 논리연산자 사용\n",
    "    - if 여러번 사용"
   ]
  },
  {
   "cell_type": "code",
   "execution_count": 45,
   "id": "cc3e2dc3-72ff-41df-a50e-0aee4397f020",
   "metadata": {},
   "outputs": [
    {
     "name": "stdin",
     "output_type": "stream",
     "text": [
      "점수:  85\n",
      "결석 횟수:  4\n"
     ]
    },
    {
     "name": "stdout",
     "output_type": "stream",
     "text": [
      "\n",
      "점수: 85점\n",
      "학점: F\n"
     ]
    }
   ],
   "source": [
    "score = int(input(\"점수: \"))\n",
    "absent = int(input(\"결석 횟수: \"))\n",
    "\n",
    "if score >= 90:\n",
    "    grade = \"A\"\n",
    "elif score >= 80 and absent >= 2:\n",
    "    grade = \"F\"\n",
    "elif score >= 80:\n",
    "    grade = \"B\"\n",
    "elif score >= 70:\n",
    "    grade = \"C\"\n",
    "else:\n",
    "    grade = \"D\"\n",
    "    \n",
    "print(f\"\\n점수: {score}점\\n학점: {grade}\")"
   ]
  },
  {
   "cell_type": "code",
   "execution_count": null,
   "id": "3d398fae-16a1-4429-a620-02fe4dd11580",
   "metadata": {},
   "outputs": [],
   "source": []
  }
 ],
 "metadata": {
  "kernelspec": {
   "display_name": "Python 3 (ipykernel)",
   "language": "python",
   "name": "python3"
  },
  "language_info": {
   "codemirror_mode": {
    "name": "ipython",
    "version": 3
   },
   "file_extension": ".py",
   "mimetype": "text/x-python",
   "name": "python",
   "nbconvert_exporter": "python",
   "pygments_lexer": "ipython3",
   "version": "3.9.7"
  }
 },
 "nbformat": 4,
 "nbformat_minor": 5
}
