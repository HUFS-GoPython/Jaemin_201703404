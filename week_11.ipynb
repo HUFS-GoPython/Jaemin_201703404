{
 "cells": [
  {
   "cell_type": "markdown",
   "id": "9652e8c1-54e1-4804-b65f-2ab3808874ca",
   "metadata": {},
   "source": [
    "### 객체 II\n",
    "- 상속(inheritance)\n",
    "- 재사용할 때, A vs. B\n",
    "    - \"A의 대부분을 쓰고, 나머지를 추가, 변경하고 싶을 때\"\n",
    "    - 부모의 모든 속성을 그대로 가져와서 쓰고싶을 때\n",
    "- 반복되는 부분을 가져오고 싶음, 물려받고 싶음\n",
    "- A << B\n",
    "    - \"부모, 슈퍼, 베이스\"\n",
    "    - \"자식, 서브, derived\"\n",
    "- 자식 클래스는 부모 클래스를 구체화함\n",
    "- is-a 관계: Car is-a Vehicle(포함된다는 뜻)"
   ]
  },
  {
   "cell_type": "code",
   "execution_count": 1,
   "id": "fe6a2589-c8dd-44a1-814c-5bfd4b6727f8",
   "metadata": {},
   "outputs": [
    {
     "name": "stdout",
     "output_type": "stream",
     "text": [
      "20km/h의 속도로 달린다.\n"
     ]
    }
   ],
   "source": [
    "# parent\n",
    "class Vehicle:\n",
    "    def __init__(self, speed):\n",
    "        self.speed = speed\n",
    "        \n",
    "    def go(self):\n",
    "        print(f\"{self.speed}의 속도로 달린다.\")\n",
    "        \n",
    "# child\n",
    "class Car(Vehicle): # child, sub\n",
    "    pass\n",
    "\n",
    "\n",
    "car = Car('20km/h')\n",
    "car.go()"
   ]
  },
  {
   "cell_type": "markdown",
   "id": "a24f2b69-8667-4ba4-a585-5ae4758ed6d5",
   "metadata": {},
   "source": [
    "#### 변수 추가, 변경"
   ]
  },
  {
   "cell_type": "code",
   "execution_count": 2,
   "id": "403022cf-cbe3-4eb0-9431-3378026859ac",
   "metadata": {},
   "outputs": [
    {
     "name": "stdout",
     "output_type": "stream",
     "text": [
      "20km/h의 속도로 달린다.\n"
     ]
    }
   ],
   "source": [
    "class Car(Vehicle): # child, sub\n",
    "    def __init__(self, speed, brand):\n",
    "        # speed == 부모\n",
    "        super().__init__(speed) # == Vehicle().speed\n",
    "        # brand == 자식\n",
    "        self.brand = brand # 나의 고유한 특성이 됨\n",
    "        \n",
    "        \n",
    "car2 = Car('20km/h', 'kia')\n",
    "car2.brand\n",
    "car2.go()"
   ]
  },
  {
   "cell_type": "code",
   "execution_count": 3,
   "id": "cdedd291-85fb-4b3f-830d-c31868331fed",
   "metadata": {},
   "outputs": [
    {
     "ename": "AttributeError",
     "evalue": "'Vehicle' object has no attribute 'brand'",
     "output_type": "error",
     "traceback": [
      "\u001b[0;31m---------------------------------------------------------------------------\u001b[0m",
      "\u001b[0;31mAttributeError\u001b[0m                            Traceback (most recent call last)",
      "\u001b[0;32m/var/folders/qv/869nctd5709b62173q7l0mxh0000gn/T/ipykernel_94608/1690472062.py\u001b[0m in \u001b[0;36m<module>\u001b[0;34m\u001b[0m\n\u001b[1;32m      1\u001b[0m \u001b[0mv\u001b[0m \u001b[0;34m=\u001b[0m \u001b[0mVehicle\u001b[0m\u001b[0;34m(\u001b[0m\u001b[0;34m'33km/h'\u001b[0m\u001b[0;34m)\u001b[0m\u001b[0;34m\u001b[0m\u001b[0;34m\u001b[0m\u001b[0m\n\u001b[0;32m----> 2\u001b[0;31m \u001b[0mv\u001b[0m\u001b[0;34m.\u001b[0m\u001b[0mbrand\u001b[0m \u001b[0;31m# 부모는 brand가 없음\u001b[0m\u001b[0;34m\u001b[0m\u001b[0;34m\u001b[0m\u001b[0m\n\u001b[0m",
      "\u001b[0;31mAttributeError\u001b[0m: 'Vehicle' object has no attribute 'brand'"
     ]
    }
   ],
   "source": [
    "v = Vehicle('33km/h')\n",
    "v.brand # 부모는 brand가 없음"
   ]
  },
  {
   "cell_type": "markdown",
   "id": "614f5e6c-27aa-46ec-a888-753a158bb32e",
   "metadata": {},
   "source": [
    "### 메소드 추가, 변경"
   ]
  },
  {
   "cell_type": "code",
   "execution_count": 4,
   "id": "9fdcab59-a16b-4680-afd1-598599f4a05f",
   "metadata": {},
   "outputs": [
    {
     "name": "stdout",
     "output_type": "stream",
     "text": [
      "33km/h의 속도로 달린다.\n",
      "차종 mini의 속도는 33km/h\n"
     ]
    }
   ],
   "source": [
    "class Car(Vehicle): # child, sub class\n",
    "    def __init__(self, speed, brand):\n",
    "        super().__init__(speed)\n",
    "        self.brand = brand # 나의 고유한 특성이 됨\n",
    "        \n",
    "    # 오버라이드(override): 재정의\n",
    "    def go(self):\n",
    "        # 부모의 go 도 함께 가져가고 싶다면?\n",
    "        super().go()\n",
    "        print(f'차종 {self.brand}의 속도는 {self.speed}')\n",
    "        \n",
    "    # 메소드 추가\n",
    "    def stop():\n",
    "        pass\n",
    "    \n",
    "    \n",
    "car3 = Car('33km/h', 'mini')\n",
    "car3.go()"
   ]
  },
  {
   "cell_type": "markdown",
   "id": "4efd34b2-dbc9-4440-ad68-48ea0f5b3528",
   "metadata": {},
   "source": [
    "### 실습"
   ]
  },
  {
   "cell_type": "code",
   "execution_count": 5,
   "id": "6def430e-5007-45de-ac12-00b3c47ddea9",
   "metadata": {},
   "outputs": [
    {
     "name": "stdout",
     "output_type": "stream",
     "text": [
      "Dr.Pablo\n",
      "Mr.Pablo\n",
      "Mrs.Pablo\n"
     ]
    }
   ],
   "source": [
    "class Person: # Pablo\n",
    "    def __init__(self, name):\n",
    "        self.name = name\n",
    "        \n",
    "#--------------------------------\n",
    "class Doctor(Person): # Dr.Pablo\n",
    "    def __init__(self, name):\n",
    "        super().__init__(f'Dr.' + name)\n",
    "\n",
    "class Male(Person): # Mr.Pablo\n",
    "    def __init__(self, name):\n",
    "        super().__init__(f'Mr.' + name)\n",
    "\n",
    "class Female(Person): # Mrs.Pablo\n",
    "    def __init__(self, name):\n",
    "        super().__init__(f'Mrs.' + name)\n",
    "        \n",
    "doctor = Doctor('Pablo')\n",
    "print(doctor.name)\n",
    "\n",
    "male = Male('Pablo')\n",
    "print(male.name)\n",
    "\n",
    "female = Female('Pablo')\n",
    "print(female.name)"
   ]
  },
  {
   "cell_type": "markdown",
   "id": "136e424f-df32-41cc-a5d5-bd61e03f7f1c",
   "metadata": {},
   "source": [
    "### 다중상속\n",
    "- method resolution order(MRO)\n",
    "- Animal << Horse\n",
    "        << Donkey\n",
    "                << Mule(Donkey > Horse) # Donkey의 속성이 강함\n",
    "                << Hinny(Horse > Donkey) # Horse의 속성이 강함"
   ]
  },
  {
   "cell_type": "code",
   "execution_count": 6,
   "id": "3dcb4872-3ce0-4905-8b70-f3f0cfe3b687",
   "metadata": {},
   "outputs": [
    {
     "name": "stdout",
     "output_type": "stream",
     "text": [
      "히이호\n",
      "히히힝\n"
     ]
    },
    {
     "data": {
      "text/plain": [
       "[__main__.Mule, __main__.Donkey, __main__.Horse, __main__.Animal, object]"
      ]
     },
     "execution_count": 6,
     "metadata": {},
     "output_type": "execute_result"
    }
   ],
   "source": [
    "class Animal:\n",
    "    def says(self):\n",
    "        return \"동물이 운다.\"\n",
    "    \n",
    "# 자식\n",
    "class Horse(Animal):\n",
    "    def says(self):\n",
    "        return \"히히힝\"\n",
    "    \n",
    "class Donkey(Animal):\n",
    "    def says(self):\n",
    "        return \"히이호\"\n",
    "    \n",
    "# 손주(다중 상속의 경우 가까운 부모부터)\n",
    "class Mule(Donkey, Horse):\n",
    "    pass\n",
    "\n",
    "class Hinny(Horse, Donkey):\n",
    "    pass\n",
    "\n",
    "\n",
    "m = Mule()\n",
    "print(m.says())\n",
    "\n",
    "h = Hinny()\n",
    "print(h.says())\n",
    "\n",
    "# 계층 구조가 불분명할 때, 가장 가까운 순으로 표시\n",
    "Mule.mro()"
   ]
  },
  {
   "cell_type": "markdown",
   "id": "cf91f8e4-ed3a-43b1-82bd-926709148965",
   "metadata": {},
   "source": [
    "### 다형성\n",
    "- 형태가 다른데 기능이 같음\n",
    "- 객체가 다른데도 같은 메소드를 가지고 있으면 같은 기능을 수행할 수 있음"
   ]
  },
  {
   "cell_type": "code",
   "execution_count": 7,
   "id": "26e88848-c657-423f-a22e-0486a4064113",
   "metadata": {},
   "outputs": [
    {
     "name": "stdout",
     "output_type": "stream",
     "text": [
      "히이호\n",
      "히이호\n",
      "동물이 운다.\n"
     ]
    }
   ],
   "source": [
    "# 다른 객체일지라도 모두 같은 기능을 할 수 있음\n",
    "for animal in [Mule(), Donkey(), Animal()]:\n",
    "    print(animal.says())"
   ]
  },
  {
   "cell_type": "markdown",
   "id": "9d72d2dc-80d4-4c21-81ae-94931d39081c",
   "metadata": {},
   "source": [
    "### 메소드 타입\n",
    "- 인스턴스 메소드\n",
    "    - self가 1번 인자\n",
    "    - 객체 생성 >> 사용 가능\n",
    "- 클래스 메소드\n",
    "    - 객체 생성하지 않아도 사용 가능\n",
    "    - 클래스에 접근하는 메소드\n",
    "    - @classmethod\n",
    "    - 예약어: cls\n",
    "    - 함수(cls)가 첫 인자\n",
    "    - class Person, cls == Person\n",
    "- 정적 메소드\n",
    "    - 객체 생성하지 않고 접근 가능\n",
    "    - 클래스랑 전혀 상관이 없기 때문에 접근 가능한 것\n",
    "    - 내용, 기능이 비슷해서 클래스내에 묶어둠\n",
    "- 추상 메소드\n",
    "    - 추상 클래스: abstract 이름만 존재하는 클래스\n",
    "    - 설계도 역할:\n",
    "    - 상속하는 자식클래스 >> 반드시 구현해야하는 메소드를 정의"
   ]
  },
  {
   "cell_type": "code",
   "execution_count": 8,
   "id": "9f269f11-2bab-4f39-91c1-a9445248fefd",
   "metadata": {},
   "outputs": [
    {
     "data": {
      "text/plain": [
       "'히이호'"
      ]
     },
     "execution_count": 8,
     "metadata": {},
     "output_type": "execute_result"
    }
   ],
   "source": [
    "# 인스턴스 메소드\n",
    "a = Mule() # 객체 생성\n",
    "a.says()"
   ]
  },
  {
   "cell_type": "code",
   "execution_count": 9,
   "id": "f7f2a04d-dd09-4298-bd65-8eeb5ac8346f",
   "metadata": {},
   "outputs": [
    {
     "ename": "TypeError",
     "evalue": "says() missing 1 required positional argument: 'self'",
     "output_type": "error",
     "traceback": [
      "\u001b[0;31m---------------------------------------------------------------------------\u001b[0m",
      "\u001b[0;31mTypeError\u001b[0m                                 Traceback (most recent call last)",
      "\u001b[0;32m/var/folders/qv/869nctd5709b62173q7l0mxh0000gn/T/ipykernel_94608/829630341.py\u001b[0m in \u001b[0;36m<module>\u001b[0;34m\u001b[0m\n\u001b[0;32m----> 1\u001b[0;31m \u001b[0mMule\u001b[0m\u001b[0;34m.\u001b[0m\u001b[0msays\u001b[0m\u001b[0;34m(\u001b[0m\u001b[0;34m)\u001b[0m \u001b[0;31m# 오류 발생(self 없음)\u001b[0m\u001b[0;34m\u001b[0m\u001b[0;34m\u001b[0m\u001b[0m\n\u001b[0m",
      "\u001b[0;31mTypeError\u001b[0m: says() missing 1 required positional argument: 'self'"
     ]
    }
   ],
   "source": [
    "Mule.says() # 오류 발생(self 없음)"
   ]
  },
  {
   "cell_type": "code",
   "execution_count": 10,
   "id": "a92abbb1-4eb0-4b0a-a582-1dc48f22f9a7",
   "metadata": {},
   "outputs": [
    {
     "data": {
      "text/plain": [
       "0"
      ]
     },
     "execution_count": 10,
     "metadata": {},
     "output_type": "execute_result"
    }
   ],
   "source": [
    "# 클래스 메소드\n",
    "class A:\n",
    "    cnt = 0\n",
    "    \n",
    "    @classmethod\n",
    "    def move(cls):\n",
    "        return cls.cnt\n",
    "    \n",
    "    \n",
    "A().move() # 접근 가능하긴 함\n",
    "A.move() # 접근 가능"
   ]
  },
  {
   "cell_type": "code",
   "execution_count": 11,
   "id": "064e2742-b15f-4845-af2d-2738519122fd",
   "metadata": {},
   "outputs": [
    {
     "data": {
      "text/plain": [
       "'kim'"
      ]
     },
     "execution_count": 11,
     "metadata": {},
     "output_type": "execute_result"
    }
   ],
   "source": [
    "# 클래스 메소드 2\n",
    "class Person:\n",
    "    def __init__(self, name, age):\n",
    "        self.name = name\n",
    "        self.age = age\n",
    "        \n",
    "    @classmethod\n",
    "    def tuple_object(cls, args): # cls >> Person\n",
    "        return cls(args[0], args[1]) # cls(args[], args[])로도 접근 가능\n",
    "    \n",
    "    \n",
    "name = 'kim'\n",
    "age = 24\n",
    "p = Person(name, age)\n",
    "\n",
    "info = name, age\n",
    "Person.tuple_object(info) # p객체 생성\n",
    "\n",
    "p.name"
   ]
  },
  {
   "cell_type": "code",
   "execution_count": 12,
   "id": "e82bf770-cda6-4461-9d47-b070c9487d2f",
   "metadata": {},
   "outputs": [
    {
     "data": {
      "text/plain": [
       "'객체 수: 3'"
      ]
     },
     "execution_count": 12,
     "metadata": {},
     "output_type": "execute_result"
    }
   ],
   "source": [
    "# 클래스 메소드 3\n",
    "class A:\n",
    "    # 붕어빵 몇 개? \n",
    "    cnt = 0\n",
    "    \n",
    "    def __init__(self):\n",
    "        A.cnt += 1 # 위치 주의!\n",
    "    \n",
    "    @classmethod\n",
    "    def count(cls):\n",
    "        return f'객체 수: {cls.cnt}'\n",
    "    \n",
    "    \n",
    "A()\n",
    "A()\n",
    "A()\n",
    "A.count()"
   ]
  },
  {
   "cell_type": "code",
   "execution_count": 13,
   "id": "18d763e7-461f-404c-bb07-face00a3c50d",
   "metadata": {},
   "outputs": [
    {
     "name": "stdout",
     "output_type": "stream",
     "text": [
      "hi\n"
     ]
    }
   ],
   "source": [
    "# 정적 메소드\n",
    "class Coyote:\n",
    "    @staticmethod\n",
    "    def says(): # self 없음, 딕셔너리에 변수 저장하는 것과 비슷함\n",
    "        print('hi')\n",
    "        \n",
    "        \n",
    "Coyote.says()"
   ]
  },
  {
   "cell_type": "code",
   "execution_count": 14,
   "id": "5c8bcf4c-5b32-4e38-aa7b-43a9b72b29ea",
   "metadata": {},
   "outputs": [
    {
     "data": {
      "text/plain": [
       "<__main__.Car at 0x7fb99321ac40>"
      ]
     },
     "execution_count": 14,
     "metadata": {},
     "output_type": "execute_result"
    }
   ],
   "source": [
    "# 추상 메소드\n",
    "from abc import *\n",
    "\n",
    "# 추상 클래스 설정하는 방법\n",
    "class Vehicle(metaclass=ABCMeta):\n",
    "    speed = '속도'\n",
    "    \n",
    "    @abstractmethod\n",
    "    def go(self):\n",
    "        print('탈 것이 간다.')\n",
    "    \"\"\"\n",
    "    def stop(self):\n",
    "    pass\n",
    "    \"\"\"\n",
    "        \n",
    "class Car(Vehicle):\n",
    "    def go(self): # override 필수!(안하면 인스턴스 생성 불가)\n",
    "        print(\"\")\n",
    "        \n",
    "Car()"
   ]
  },
  {
   "cell_type": "code",
   "execution_count": null,
   "id": "4de7de79-a1ab-4ca8-9c68-2ffad186e535",
   "metadata": {},
   "outputs": [],
   "source": []
  }
 ],
 "metadata": {
  "kernelspec": {
   "display_name": "Python 3 (ipykernel)",
   "language": "python",
   "name": "python3"
  },
  "language_info": {
   "codemirror_mode": {
    "name": "ipython",
    "version": 3
   },
   "file_extension": ".py",
   "mimetype": "text/x-python",
   "name": "python",
   "nbconvert_exporter": "python",
   "pygments_lexer": "ipython3",
   "version": "3.9.7"
  }
 },
 "nbformat": 4,
 "nbformat_minor": 5
}
