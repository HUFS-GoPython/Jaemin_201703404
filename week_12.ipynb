{
 "cells": [
  {
   "cell_type": "markdown",
   "id": "1c653751-dec1-42da-97b3-714a41630a32",
   "metadata": {},
   "source": [
    "### 매직 메서드\n",
    "- special method\n",
    "- '__'로 시작해서 '__'로 끝나는 형식\n",
    "- __str__, __repr__"
   ]
  },
  {
   "cell_type": "code",
   "execution_count": 3,
   "id": "c11905aa-4eca-41a7-8472-53757d12e56f",
   "metadata": {},
   "outputs": [
    {
     "data": {
      "text/plain": [
       "Customer(kim)"
      ]
     },
     "execution_count": 3,
     "metadata": {},
     "output_type": "execute_result"
    }
   ],
   "source": [
    "class Customer:\n",
    "    def __init__(self, name):\n",
    "        self.name = name\n",
    "        \n",
    "    def __str__(self):\n",
    "        # print() 함수로 나온 출력값을 변경하는 것\n",
    "        return self.name\n",
    "    \n",
    "    def __repr__(self):\n",
    "        # 설정 안하면 __str__과 동일\n",
    "        # 인스턴스를 출력하는 방식 >> 사용자가 이해하는 객체의 모습을 표현\n",
    "        return f'Customer({self.name})' # Customer(객체이름)\n",
    "    \n",
    "    \n",
    "c = Customer('kim')\n",
    "c"
   ]
  },
  {
   "cell_type": "code",
   "execution_count": 4,
   "id": "a6813046-a2ed-4181-b0d4-5ab5e9aeb945",
   "metadata": {},
   "outputs": [
    {
     "name": "stdout",
     "output_type": "stream",
     "text": [
      "kim\n",
      "Customer(kim)\n",
      "kim\n"
     ]
    }
   ],
   "source": [
    "print(c)\n",
    "print(repr(c))\n",
    "print(str(c))"
   ]
  },
  {
   "cell_type": "markdown",
   "id": "322b930e-eaf9-4e72-b778-d7746e4f7eef",
   "metadata": {},
   "source": [
    "### NamedTuple, DataClass\n",
    "- 객체보다 효율적임 (간단한 속성만 가진 클래스일 경우 활용)\n",
    "- 딕셔너리 키처럼 사용 가능\n",
    "- 불변 객체"
   ]
  },
  {
   "cell_type": "code",
   "execution_count": 5,
   "id": "aabd7942-c142-4600-b941-992d41c880d1",
   "metadata": {},
   "outputs": [
    {
     "data": {
      "text/plain": [
       "('lee', 44)"
      ]
     },
     "execution_count": 5,
     "metadata": {},
     "output_type": "execute_result"
    }
   ],
   "source": [
    "from collections import namedtuple\n",
    "\n",
    "Customer = namedtuple('Customer', 'name age') # (클래스명, 변수)\n",
    "a = Customer('lee', 44)\n",
    "a.name, a.age"
   ]
  },
  {
   "cell_type": "code",
   "execution_count": 6,
   "id": "61a94f4f-2085-4c1e-9570-fcea3e477eb0",
   "metadata": {},
   "outputs": [
    {
     "data": {
      "text/plain": [
       "('hong', 88, 'female')"
      ]
     },
     "execution_count": 6,
     "metadata": {},
     "output_type": "execute_result"
    }
   ],
   "source": [
    "from dataclasses import dataclass\n",
    "# python ver. 3.7 이상에서만 사용 가능\n",
    "\n",
    "@dataclass\n",
    "class Customer2:\n",
    "    name: str\n",
    "    age: int\n",
    "    gender: str\n",
    "    \n",
    "b = Customer2('hong', 88, 'female')\n",
    "b.name, b.age, b.gender"
   ]
  },
  {
   "cell_type": "markdown",
   "id": "5a1804d8-9039-4ea0-b277-562a4005a63d",
   "metadata": {},
   "source": [
    "### 함수 II\n",
    "- *, **\n",
    "- 일급객체\n",
    "- 내부함수, 클로저\n",
    "- 익명함수\n",
    "- 제너레이터\n",
    "- 재귀함수"
   ]
  },
  {
   "cell_type": "markdown",
   "id": "a0086d43-8658-48f0-9bb9-541d4a655a27",
   "metadata": {},
   "source": [
    "#### asterisk: *\n",
    "- 여러개의 인자를 하나로 묶어주는 '패킹' 가능"
   ]
  },
  {
   "cell_type": "code",
   "execution_count": 7,
   "id": "859551e9-75c3-40f7-a46c-6ed3ce0ef44a",
   "metadata": {},
   "outputs": [
    {
     "name": "stdout",
     "output_type": "stream",
     "text": [
      "(1, 2, 3, 4, 5, 6)\n"
     ]
    }
   ],
   "source": [
    "def print_args(*args): # 여러개의 인자 >> 패킹\n",
    "    print(args)\n",
    "    \n",
    "    \n",
    "print_args(1, 2, 3, 4, 5, 6)"
   ]
  },
  {
   "cell_type": "code",
   "execution_count": 8,
   "id": "a8a6bd43-e863-4420-8949-2ee3f50823cc",
   "metadata": {},
   "outputs": [
    {
     "name": "stdout",
     "output_type": "stream",
     "text": [
      "1 2 3 4 5 6\n"
     ]
    }
   ],
   "source": [
    "def print_args(*args):\n",
    "    print(*args) # 언패킹\n",
    "    \n",
    "    \n",
    "print_args(1, 2, 3, 4, 5, 6)"
   ]
  },
  {
   "cell_type": "code",
   "execution_count": 9,
   "id": "eb552003-86df-41bd-9a56-80c2406bb116",
   "metadata": {},
   "outputs": [
    {
     "name": "stdout",
     "output_type": "stream",
     "text": [
      "1 2\n",
      "optional\n",
      "\n",
      "3 4\n",
      "5 optional\n"
     ]
    }
   ],
   "source": [
    "def print_more(num1, num2, *args): # 앞의 두 인수는 필수\n",
    "    print(num1, num2)\n",
    "    print(*args, 'optional')\n",
    "    \n",
    "    \n",
    "print_more(1, 2)\n",
    "print()\n",
    "print_more(3, 4, 5)"
   ]
  },
  {
   "cell_type": "code",
   "execution_count": 10,
   "id": "8d91a5ae-7b41-4278-b82b-a9dcdd6ecd51",
   "metadata": {},
   "outputs": [
    {
     "name": "stdout",
     "output_type": "stream",
     "text": [
      "0 1 2 3 4 5 6 7 8 9\n"
     ]
    }
   ],
   "source": [
    "# 함수 외부에서도 사용 가능\n",
    "empty = list(range(10))\n",
    "print(*empty) # 언패킹되어 출력"
   ]
  },
  {
   "cell_type": "code",
   "execution_count": 11,
   "id": "028405c7-cf23-48a0-8601-e678b3aaa91d",
   "metadata": {},
   "outputs": [
    {
     "name": "stdout",
     "output_type": "stream",
     "text": [
      "(1, 3, 5)\n",
      "(2, 4, 6)\n"
     ]
    }
   ],
   "source": [
    "# 행렬, 테이블 데이터\n",
    "matrix = [\n",
    "    [1, 2], \n",
    "    [3, 4], \n",
    "    [5, 6]\n",
    "]\n",
    "\n",
    "\n",
    "# 1, 3, 5 / 2, 4, 6 (열만 타고 싶을 때)\n",
    "for item in zip(*matrix):\n",
    "    print(item)"
   ]
  },
  {
   "cell_type": "code",
   "execution_count": 12,
   "id": "3bef6609-ad76-49bd-bcc7-59ffd3304c94",
   "metadata": {},
   "outputs": [
    {
     "name": "stdout",
     "output_type": "stream",
     "text": [
      "(1, 3, 5)\n",
      "(2, 4, 6)\n"
     ]
    }
   ],
   "source": [
    "# 위와 같음\n",
    "for item in zip([1, 2], [3, 4], [5, 6]):\n",
    "    print(item)\n"
   ]
  },
  {
   "cell_type": "code",
   "execution_count": 13,
   "id": "4dcbbaf5-2b8b-4ac0-a62c-b95db33615d7",
   "metadata": {},
   "outputs": [
    {
     "name": "stdout",
     "output_type": "stream",
     "text": [
      "0\n",
      "1\n",
      "2\n",
      "3\n"
     ]
    }
   ],
   "source": [
    "# 키워드 전용 인수 선언시 사용\n",
    "def print_data(data, *, start, end): # start, end를 받고 싶은 경우\n",
    "    for item in data[start:end]:\n",
    "        print(item)\n",
    "        \n",
    "# 사용 예시\n",
    "print_data(empty, start=0, end=4)\n",
    "# print_data(empty, 0, 1) nope"
   ]
  },
  {
   "cell_type": "markdown",
   "id": "4632fedf-1836-40c5-b34f-788c32f449e2",
   "metadata": {},
   "source": [
    "#### kargs: **"
   ]
  },
  {
   "cell_type": "code",
   "execution_count": 14,
   "id": "b8daac31-36cc-43c2-9a8e-47ceb8c66baf",
   "metadata": {},
   "outputs": [
    {
     "name": "stdout",
     "output_type": "stream",
     "text": [
      "{'wine': 'crianza', 'drink': 'water'}\n"
     ]
    }
   ],
   "source": [
    "def print_kargs(**kargs): # 키: 값 >> 딕셔너리로 반환\n",
    "    print(kargs)\n",
    "    # print(**kargs) >> 언패킹 기능 없음!\n",
    "    \n",
    "    \n",
    "print_kargs(wine='crianza', drink='water')"
   ]
  },
  {
   "cell_type": "code",
   "execution_count": 15,
   "id": "6ed38888-dbe0-4c50-9c0b-63617e36a065",
   "metadata": {},
   "outputs": [
    {
     "name": "stdout",
     "output_type": "stream",
     "text": [
      "{'wine': 'cabernet', 'drink': 'water'}\n",
      "{'wine': 'crianza', 'drink': 'water'}\n",
      "{'wine': 'shiraz', 'drink': 'water'}\n"
     ]
    }
   ],
   "source": [
    "for wine in ['cabernet', 'crianza', 'shiraz']:\n",
    "    print_kargs(wine=wine, drink='water')"
   ]
  },
  {
   "cell_type": "code",
   "execution_count": 16,
   "id": "9f11ac59-6994-4e04-8110-0a1b0b8d8482",
   "metadata": {},
   "outputs": [
    {
     "name": "stdout",
     "output_type": "stream",
     "text": [
      "1 2\n",
      "18\n",
      "{'num': 4}\n"
     ]
    }
   ],
   "source": [
    "# *, **를 같이 사용 가능\n",
    "def print_all(num1, num2, *args, **kargs):\n",
    "    print(num1, num2)\n",
    "    print(sum(args))\n",
    "    print(kargs)\n",
    "    \n",
    "    \n",
    "print_all(1, 2, 3, 4, 5, 6, num=4)"
   ]
  },
  {
   "cell_type": "code",
   "execution_count": 17,
   "id": "a5a2f960-021b-44ab-8694-175f6531f431",
   "metadata": {},
   "outputs": [],
   "source": [
    "# 딕셔너리 조인\n",
    "a = {1: 'a', 2: 'b'}\n",
    "b = {2: 'c', 3: 'd'}\n",
    "c = {**a, **b}"
   ]
  },
  {
   "cell_type": "code",
   "execution_count": null,
   "id": "09529690-32fe-41b0-892c-ff063fb4ff0a",
   "metadata": {},
   "outputs": [],
   "source": []
  }
 ],
 "metadata": {
  "kernelspec": {
   "display_name": "Python 3 (ipykernel)",
   "language": "python",
   "name": "python3"
  },
  "language_info": {
   "codemirror_mode": {
    "name": "ipython",
    "version": 3
   },
   "file_extension": ".py",
   "mimetype": "text/x-python",
   "name": "python",
   "nbconvert_exporter": "python",
   "pygments_lexer": "ipython3",
   "version": "3.9.7"
  }
 },
 "nbformat": 4,
 "nbformat_minor": 5
}
