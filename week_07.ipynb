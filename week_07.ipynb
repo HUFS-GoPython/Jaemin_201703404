{
 "cells": [
  {
   "cell_type": "markdown",
   "id": "aea45f5f-26ff-46d4-81d8-c2fb28fd84f7",
   "metadata": {},
   "source": [
    "### 함수\n",
    "1. 정의\n",
    "2. 인수\n",
    "3. 호출 방식"
   ]
  },
  {
   "cell_type": "markdown",
   "id": "89a4f251-203a-4dfa-9f6e-238140be2e88",
   "metadata": {},
   "source": [
    "#### 1. 정의\n",
    "- 코드의 덩어리, 코드의 묶음\n",
    "- 간편한 재사용을 위해 한 줄로 재사용 가능\n",
    "- 정의(define) 부분 + 호출(call) 부분\n",
    "    - 정의하기\n",
    "    def 함수이름(매개변수1, 2, 3, ...):\n",
    "        수행문1\n",
    "        수행문2\n",
    "        ...\n",
    "        return 반환값\n",
    "    - 호출하기\n",
    "    함수이름(인수1, 2, 3, ...)\n",
    "- 4가지 케이스\n",
    "    1. 매개변수, 반환값 둘 다 없는\n",
    "    2. 매개변수, 반환값 둘 다 있는\n",
    "    3. 매개변수만 있는\n",
    "    4. 반환값만 있는"
   ]
  },
  {
   "cell_type": "code",
   "execution_count": 1,
   "id": "68f35c89-1458-4210-ac93-f8b5481cf622",
   "metadata": {},
   "outputs": [
    {
     "name": "stdout",
     "output_type": "stream",
     "text": [
      "quack\n"
     ]
    }
   ],
   "source": [
    "#1. print는 되지만 변수로 사용 불가\n",
    "def make_a_sound():\n",
    "    print('quack')\n",
    "    # return none\n",
    "    \n",
    "make_a_sound()"
   ]
  },
  {
   "cell_type": "code",
   "execution_count": 2,
   "id": "ce9aa0f2-c89c-4ca6-a3c9-eda5eec00522",
   "metadata": {},
   "outputs": [
    {
     "data": {
      "text/plain": [
       "5"
      ]
     },
     "execution_count": 2,
     "metadata": {},
     "output_type": "execute_result"
    }
   ],
   "source": [
    "#2. y = x + 1 # x = 매개변수, y = 반환값, x + 1 = 수행문\n",
    "\n",
    "def ex(x):\n",
    "    y = x + 1\n",
    "    return y\n",
    "\n",
    "ex(4)"
   ]
  },
  {
   "cell_type": "code",
   "execution_count": 3,
   "id": "968a0553-d380-4dac-ac3a-8e7fa528db52",
   "metadata": {},
   "outputs": [
    {
     "name": "stdout",
     "output_type": "stream",
     "text": [
      "yay\n"
     ]
    }
   ],
   "source": [
    "#3. 매개변수만 있는\n",
    "def make_a_sound(sound):\n",
    "    print(sound)\n",
    "    \n",
    "make_a_sound('yay')"
   ]
  },
  {
   "cell_type": "code",
   "execution_count": 4,
   "id": "2440e701-5aa9-4601-84c8-9f872a9ce337",
   "metadata": {},
   "outputs": [
    {
     "name": "stdout",
     "output_type": "stream",
     "text": [
      "Splendid\n"
     ]
    }
   ],
   "source": [
    "#4. 반환값만 있는\n",
    "def agree():\n",
    "    return True\n",
    "\n",
    "if agree():\n",
    "    print('Splendid')\n",
    "else:\n",
    "    print('unexpected!')"
   ]
  },
  {
   "cell_type": "markdown",
   "id": "07a0055c-1474-43de-89de-2956529a4e88",
   "metadata": {},
   "source": [
    "### 함수 이름 짓기\n",
    "    - 소문자만 사용\n",
    "        - splitWord (x)\n",
    "        - split_word (o)\n",
    "    - 동작과 관련되어 있기 때문에 \"동사+명사\"의 형태로 주로 사용\n",
    "    - i.e., 클래스는 주로 명사이기에 함수는 명사로 사용하지 않음 def word(): (x)\n",
    "    - 줄임말 쓰지 말것\n",
    "        - splt_word (x), calculate >> calc 사용 (o)"
   ]
  },
  {
   "cell_type": "markdown",
   "id": "1d2d3a41-238e-44d7-a5d7-621ab8c4fb5d",
   "metadata": {},
   "source": [
    "#### 2. 인수\n",
    "- 매개변수 vs. 인수\n",
    "    - 매개변수: 함수 내부 (\"interface\")에서 유효한 변수\n",
    "    - 인수: 실제 매개변수에 대입되는 변수\n",
    "    - 호출 시에 인수가 매개변수에 복제됨 yay >> sound\n",
    "- 위치 인수\n",
    "    - positional argument\n",
    "    - 매개변수를 값의 순서에 따라 복제\n",
    "- 키워드 인수\n",
    "    - keyword argument\n",
    "    - 매개변수 키워드에 맞는 인수로 지정 >> 위치 달라도 상관 없음\n",
    "- 디폴트 인수\n",
    "    - default argument\n",
    "    - 매개변수를 정의할 때 값을 미리 지정해 놓는 것\n",
    "    - 호출시 값이 입력되지 않으면 디폴트 값 사용\n",
    "    - 디폴트 값이 언디폴트 값보다 앞에 위치할 수 없음"
   ]
  },
  {
   "cell_type": "code",
   "execution_count": 5,
   "id": "7e6cb8c3-8c5b-4de9-89e7-e416590b6c2b",
   "metadata": {},
   "outputs": [
    {
     "name": "stdout",
     "output_type": "stream",
     "text": [
      "yay\n"
     ]
    }
   ],
   "source": [
    "def make_a_sound(sound): # sound = 매개변수, yay = 인수\n",
    "    print(sound)\n",
    "    \n",
    "yay = 'yay'\n",
    "make_a_sound(yay)"
   ]
  },
  {
   "cell_type": "code",
   "execution_count": 6,
   "id": "7d550e19-c465-4f11-8d63-c3759f4780b0",
   "metadata": {},
   "outputs": [
    {
     "data": {
      "text/plain": [
       "'black'"
      ]
     },
     "execution_count": 6,
     "metadata": {},
     "output_type": "execute_result"
    }
   ],
   "source": [
    "# 들여쓰기 주의\n",
    "def commentary(color):\n",
    "    if color == 'g':\n",
    "        return 'green'\n",
    "    else:\n",
    "        return 'black'\n",
    "    \n",
    "color = 'white'\n",
    "commentary(color)"
   ]
  },
  {
   "cell_type": "code",
   "execution_count": 7,
   "id": "a4c51a89-ee5b-49e8-b75b-180e3a93aa1d",
   "metadata": {},
   "outputs": [
    {
     "name": "stdout",
     "output_type": "stream",
     "text": [
      "green\n",
      "black\n",
      "black\n"
     ]
    }
   ],
   "source": [
    "# 함수 사용 예기\n",
    "colors = ['g', 'b', 't']\n",
    "\n",
    "for color in colors:\n",
    "    print(commentary(color))"
   ]
  },
  {
   "cell_type": "code",
   "execution_count": 8,
   "id": "37c83102-cff9-43a7-b2aa-36e64a4df246",
   "metadata": {},
   "outputs": [
    {
     "data": {
      "text/plain": [
       "{'wine': 'a', 'entree': 'b', 'dessert': 'c'}"
      ]
     },
     "execution_count": 8,
     "metadata": {},
     "output_type": "execute_result"
    }
   ],
   "source": [
    "# 위치 인수(위치에 맞게 순차적으로 설정)\n",
    "def menu(wine, entree, dessert):\n",
    "    return {'wine':wine, 'entree':entree, 'dessert':dessert}\n",
    "\n",
    "menu('a', 'b', 'c')"
   ]
  },
  {
   "cell_type": "code",
   "execution_count": 9,
   "id": "e878851a-bfc2-46fb-b50d-46c1361083b5",
   "metadata": {},
   "outputs": [
    {
     "data": {
      "text/plain": [
       "{'wine': 'c', 'entree': 'a', 'dessert': 'b'}"
      ]
     },
     "execution_count": 9,
     "metadata": {},
     "output_type": "execute_result"
    }
   ],
   "source": [
    "# 키워드 인수\n",
    "menu(entree = 'a', dessert = 'b', wine = 'c')"
   ]
  },
  {
   "cell_type": "code",
   "execution_count": 10,
   "id": "b0b44e86-fa1e-468d-9bed-6a68da0d9349",
   "metadata": {},
   "outputs": [
    {
     "data": {
      "text/plain": [
       "{'wine': 'rioja', 'entree': 'egg', 'dessert': 'strawberry'}"
      ]
     },
     "execution_count": 10,
     "metadata": {},
     "output_type": "execute_result"
    }
   ],
   "source": [
    "# 디폴트 인수(디폴트값이 언디폴트 값보다 앞에 위치할 수 없음)\n",
    "def menu2(wine, entree, dessert = 'strawberry'):\n",
    "    return {'wine':wine, 'entree':entree, 'dessert':dessert}\n",
    "\n",
    "# 인수를 안넣으면 디폴트 값\n",
    "menu2('rioja', 'egg')"
   ]
  },
  {
   "cell_type": "code",
   "execution_count": 11,
   "id": "738e654e-1dd1-4bcd-8dd1-e520b63e4a45",
   "metadata": {},
   "outputs": [
    {
     "data": {
      "text/plain": [
       "{'wine': 'rioja', 'entree': 'egg', 'dessert': 'kiwi'}"
      ]
     },
     "execution_count": 11,
     "metadata": {},
     "output_type": "execute_result"
    }
   ],
   "source": [
    "# 인수를 넣은 결과\n",
    "menu2('rioja', 'egg', 'kiwi')"
   ]
  },
  {
   "cell_type": "markdown",
   "id": "37a23e64-5453-444a-b383-91ff3cdbd04d",
   "metadata": {},
   "source": [
    "#### 3. 호출방식\n",
    "- 정의 부분은 호출시 실행\n",
    "- 메모리에 저장되어 있다가 호출시 실행되는 방식\n",
    "- 매개변수 vs. 인수\n",
    "    - 참조에 의한 호출(call by reference)\n",
    "    - \"매개변수 = 인수\" copy되기 떄문에 나타나는 문제점\n",
    "        - 리스트처럼 가변 객체일때 주소값을 공유하므로 값이 변함"
   ]
  },
  {
   "cell_type": "code",
   "execution_count": 12,
   "id": "2068d098-7250-4579-aa28-f8f2328af5c0",
   "metadata": {},
   "outputs": [
    {
     "name": "stdout",
     "output_type": "stream",
     "text": [
      "2\n",
      "3\n",
      "1\n",
      "4\n"
     ]
    }
   ],
   "source": [
    "# 코드가 돌아가는 순서 확인용\n",
    "def multiply(x, y):\n",
    "    print('1')\n",
    "    return x * y\n",
    "\n",
    "print('2')\n",
    "i = 2\n",
    "j = 4\n",
    "\n",
    "print('3')\n",
    "multiply(i, j) # i=2, j=4 >> x=i, y=j >> copy\n",
    "\n",
    "print('4')"
   ]
  },
  {
   "cell_type": "code",
   "execution_count": 13,
   "id": "22f933c9-e4c0-4fc1-8f96-c7ab647d21fa",
   "metadata": {},
   "outputs": [
    {
     "name": "stdout",
     "output_type": "stream",
     "text": [
      "['a']\n",
      "['b']\n"
     ]
    }
   ],
   "source": [
    "def buggy(arg, result = []):\n",
    "    result = [] # reset(빈 객체로 설정하지 않으면 값이 축적됨)\n",
    "    result.append(arg)\n",
    "    print(result)\n",
    "    \n",
    "a, b = 'a', 'b'\n",
    "buggy(a) # ['a']\n",
    "buggy(b) # ['b']"
   ]
  },
  {
   "cell_type": "code",
   "execution_count": 14,
   "id": "1c0337e1-706c-4454-8ce2-9cbcd06d44f0",
   "metadata": {},
   "outputs": [
    {
     "name": "stdout",
     "output_type": "stream",
     "text": [
      "['a']\n",
      "['b']\n",
      "['c', 'a']\n",
      "['c', 'a', 'b']\n"
     ]
    }
   ],
   "source": [
    "# 둘다 조건식으로 포함하는 함수로 변경\n",
    "def nonbuggy(arg, result = None):\n",
    "    # 리스트 없으면 빈 리스트 생성, 리스트 있으면 사용\n",
    "    if result is None: # == (value값 확인), is (id 확인)\n",
    "        result = []\n",
    "        \n",
    "    result.append(arg)\n",
    "    print(result)\n",
    "    \n",
    "# 디폴트 값이 None이라 쌓이지 않음\n",
    "nonbuggy('a')\n",
    "nonbuggy('b')\n",
    "\n",
    "# 쌓임\n",
    "empty = ['c']\n",
    "nonbuggy('a', empty)\n",
    "nonbuggy('b', empty)"
   ]
  },
  {
   "cell_type": "code",
   "execution_count": 15,
   "id": "63b3e0f2-2946-437a-bd3d-b1b71869bbb2",
   "metadata": {},
   "outputs": [
    {
     "name": "stdout",
     "output_type": "stream",
     "text": [
      "None\n"
     ]
    }
   ],
   "source": [
    "# None != True or False\n",
    "thing = None\n",
    "\n",
    "if thing:\n",
    "    print('True')\n",
    "elif thing == False:\n",
    "    print('False')\n",
    "else:\n",
    "    print('None')"
   ]
  },
  {
   "cell_type": "code",
   "execution_count": 16,
   "id": "c7245cdf-608a-4412-a79b-49f91596d0dd",
   "metadata": {},
   "outputs": [
    {
     "name": "stdout",
     "output_type": "stream",
     "text": [
      "london\n",
      "london\n"
     ]
    }
   ],
   "source": [
    "# 전역 변수 사용\n",
    "def fx():\n",
    "    global city # 전역 변수\n",
    "    city = 'london' # 지역 변수\n",
    "    print(city)\n",
    "    \n",
    "city = 'paris'\n",
    "fx()\n",
    "print(city)"
   ]
  },
  {
   "cell_type": "markdown",
   "id": "30cb9be0-3f73-4dc5-a9dc-0355f3982121",
   "metadata": {},
   "source": [
    "#### doc string\n",
    "- 함수 설명\n",
    "- 매개변수 타입, 의미, 함수 기능을 설명\n",
    "- 주석처리와 유사\n",
    "\"\"\"\n",
    "    독스트링\n",
    "\"\"\""
   ]
  },
  {
   "cell_type": "code",
   "execution_count": 17,
   "id": "22b0b6c1-6808-4589-b638-c2f331356ddb",
   "metadata": {},
   "outputs": [],
   "source": [
    "def buggy(arg, result = []):\n",
    "    \"\"\"\n",
    "    arg: str(type), 꽃 이름(매개변수)\n",
    "    result: list, xxxxx\n",
    "    꽃 이름을 리스트에 추가하는 함수\n",
    "    \"\"\"\n",
    "    if arg == thing: ###\n",
    "        new_list = []\n",
    "        new_list.append(arg)\n",
    "    else:\n",
    "        result.append(arg)"
   ]
  },
  {
   "cell_type": "code",
   "execution_count": 18,
   "id": "7a419751-12a2-4bc9-a0ce-8a9456730be5",
   "metadata": {},
   "outputs": [
    {
     "name": "stdout",
     "output_type": "stream",
     "text": [
      "Help on function buggy in module __main__:\n",
      "\n",
      "buggy(arg, result=[])\n",
      "    arg: str(type), 꽃 이름(매개변수)\n",
      "    result: list, xxxxx\n",
      "    꽃 이름을 리스트에 추가하는 함수\n",
      "\n"
     ]
    }
   ],
   "source": [
    "# 독스트링 확인하는 법\n",
    "help(buggy)"
   ]
  },
  {
   "cell_type": "code",
   "execution_count": 19,
   "id": "87c37abd-1cf1-4a99-9043-0b34af7a165d",
   "metadata": {},
   "outputs": [
    {
     "data": {
      "text/plain": [
       "'\\n    arg: str(type), 꽃 이름(매개변수)\\n    result: list, xxxxx\\n    꽃 이름을 리스트에 추가하는 함수\\n    '"
      ]
     },
     "execution_count": 19,
     "metadata": {},
     "output_type": "execute_result"
    }
   ],
   "source": [
    "# 독스트링 확인하는 법 2\n",
    "buggy.__doc__"
   ]
  },
  {
   "cell_type": "code",
   "execution_count": 21,
   "id": "15f5137a-fe15-4d2a-961f-4fde1335a508",
   "metadata": {},
   "outputs": [
    {
     "name": "stdin",
     "output_type": "stream",
     "text": [
      "나이:  20\n"
     ]
    },
    {
     "data": {
      "text/plain": [
       "2003"
      ]
     },
     "execution_count": 21,
     "metadata": {},
     "output_type": "execute_result"
    }
   ],
   "source": [
    "# 나이 >> 연도\n",
    "# 함수: 입력값 = 나이, 반환 = 연도\n",
    "# 나이 = input 받기\n",
    "def convert_year(age):\n",
    "    this_year = 2022\n",
    "    return this_year - age + 1\n",
    "    \n",
    "age = int(input(\"나이: \"))\n",
    "convert_year(age)"
   ]
  },
  {
   "cell_type": "markdown",
   "id": "5b418012-2dc7-48c3-98a7-9e0e834fbc61",
   "metadata": {},
   "source": [
    "## 브라운 정제"
   ]
  },
  {
   "cell_type": "code",
   "execution_count": 22,
   "id": "cf4976b8-6ae5-4576-b57c-956056b659ee",
   "metadata": {
    "collapsed": true,
    "jupyter": {
     "outputs_hidden": true
    },
    "tags": []
   },
   "outputs": [
    {
     "name": "stderr",
     "output_type": "stream",
     "text": [
      "[nltk_data] Downloading package brown to /Users/violet/nltk_data...\n",
      "[nltk_data]   Package brown is already up-to-date!\n"
     ]
    },
    {
     "data": {
      "text/plain": [
       "\"\\n\\n\\tThey/ppss neither/cc liked/vbd nor/cc disliked/vbd the/at Old/jj-tl Man/nn-tl ./.\\nTo/in them/ppo he/pps could/md have/hv been/ben the/at broken/vbn bell/nn in/in the/at church/nn tower/nn which/wdt rang/vbd before/in and/cc after/in Mass/nn-tl ,/, and/cc at/in noon/nn ,/, and/cc at/in six/cd each/dt evening/nn --/-- its/pp$ tone/nn ,/, repetitive/jj ,/, monotonous/jj ,/, never/rb breaking/vbg the/at boredom/nn of/in the/at streets/nns ./.\\nThe/at Old/jj-tl Man/nn-tl was/bedz unimportant/jj ./.\\n\\n\\n\\tYet/rb if/cs he/pps were/bed not/* there/rb ,/, they/ppss would/md have/hv missed/vbn him/ppo ,/, as/cs they/ppss would/md have/hv missed/vbn the/at sounds/nns of/in bees/nns buzzing/vbg against/in the/at screen/nn door/nn in/in early/jj June/np ;/. ;/.\\nor/cc the/at smell/nn of/in thick/jj tomato/nn paste/nn --/-- the/at ripe/jj smell/nn that/wps was/bedz both/abx sweet/jj and/cc sour/jj --/-- rising/vbg up/rp from/in aluminum/nn trays/nns wrapped/vbn in/in fly-dotted/jj cheesecloth/nn ./.\\nOr/cc the/at surging/vbg whirling/vbg sounds/nns of/in bats/nns at/in night/nn ,/, when/wrb their/pp$ black/jj bodies/nns dived/vbd into/in the/at blackness/nn above/in and/cc below/in the/at amber/jj street/nn lights/nns ./.\\nOr/cc the/at bay/nn of/in female/nn dogs/nns in/in heat/nn ./.\\n\\n\\n\\tThey/ppss never/rb called/vbd him/ppo by/in name/nn ,/, although/cs he/pps had/hvd one/pn ./.\\nFilippo/np Rossi/np ,/, that's/dt+bez what/wdt he/pps was/bedz called/vbn in/in the/at old/jj country/nn ;/. ;/.\\nbut/cc here/rb he/pps was/bedz just/rb Signore/np or/cc the/at Old/jj-tl Man/nn-tl ./.\\nBut/cc this/dt was/bedz not/* unusual/jj ,/, because/cs youth/nn in/in these/dts quarters/nns was/bedz always/rb pushed/vbn at/in a/at distance/nn from/in its/pp$ elders/nns ./.\\nYouth/nn obeyed/vbd when/wrb commanded/vbn ./.\\nIt/pps went/vbd to/in church/nn on/in Sunday/nr and/cc one/cd Saturday/nr a/at month/nn went/vbd to/in confession/nn ./.\\nBut/cc youth/nn asked/vbd nothing/pn of/in its/pp$ parents/nns --/-- not/* a/at touch/nn of/in the/at hand/nn or/cc a/at kiss/nn given/vbn in/in passing/vbg ./.\\n\\n\\n\\tThe/at only/ap thing/nn unusual/jj about/in the/at Old/jj-tl Man/nn-tl had/hvd long/jj since/rb happened/vbn ./.\\nBut/cc the/at past/nn was/bedz dead/jj here/rb as/cs the/at present/jj was/bedz dead/jj ./.\\nOnce/cs the/at Old/jj-tl Man/nn-tl had/hvd had/hvn a/at wife/nn ./.\\nAnd/cc once/cs she/pps ,/, too/rb ,/, ignored/vbd him/ppo ./.\\nWith/in a/at tiny/jj fur-piece/nn wrapped/vbd around/in her/pp$ shoulders/nns ,/, she/pps wiggled/vbd her/pp$ satin-covered/jj buttocks/nns down/in the/at street/nn before/in him/ppo and/cc didn't/dod* stop/vb ./.\\nIn/in one/cd hand/nn she/pps clutched/vbd a/at hundred/cd dollar/nn bill/nn and/cc in/in the/at other/ap a/at straw/nn suitcase/nn ./.\\nThe/at way/nn she/pps strutted/vbd down/in the/at street/nn ,/, the/at Old/jj-tl Man/nn-tl would/md have/hv been/ben blind/jj not/* to/to have/hv noticed/vbn both/abx ./.\\nWithout/in looking/vbg at/in him/ppo ,/, without/in looking/vbg at/in anything/pn except/in Drexel/np-tl Street/nn-tl directly/rb in/in front/nn of/in her/ppo ,/, she/pps climbed/vbd up/rp into/in one/cd of/in those/dts orange/jj streetcars/nns ,/, rode/vbd away/rb in/in it/ppo ,/, and/cc never/rb came/vbd back/rb ./.\\n\\n\\n\\t``/`` But/cc she/pps shouldn't/md* have/hv come/vbn here/rb in/in the/at first/od place/nn ''/'' ,/, the/at women/nns had/hvd said/vbn ./.\\n\\n\\n\\t``/`` No/rb ,/, no/rb ./.\\nNot/* that/dt one/pn ./.\\nShe/pps thought/vbd she/pps was/bedz bigger/jjr than/cs we/ppss are/ber because/cs she/pps came/vbd from/in Torino/np ''/'' ./.\\n\\n\\n\\t``/`` Eh/uh ,/, Torino/np !/. !/.\\nShe/pps gave/vbd herself/ppl fancy/jj airs/nns !/. !/.\\nJust/rb because/cs she/pps had/hvd a/at part/nn on/in the/at stage/nn in/in the/at old/jj country/nn ,/, she/pps thought/vbd she/pps could/md carry/vb her/pp$ head/nn higher/rbr than/cs ours/pp$$ ''/'' ./.\\nThey/ppss had/hvd slapped/vbn their/pp$ thighs/nns ./.\\n\\n\\n\\t``/`` It's/pps+bez not/* for/in making/vbg pretty/jj speeches/nns about/in Dante/np those/dts actresses/nns get/vb paid/vbn so/ql good/rb ''/'' ./.\\n\\n\\n\\t``/`` Henh/uh ''/'' !/. !/.\\nCalloused/vbn fingers/nns ,/, caressed/vbn only/rb by/in the/at smoothness/nn of/in polished/vbn rosaries/nns ,/, had/hvd swayed/vbn excitedly/rb beneath/in puckered/vbn chins/nns where/wrb tiny/jj black/jj hairs/nns sprouted/vbd ,/, never/rb to/to be/be tweezed/vbn away/rb ./.\\nMauve-colored/jj mouths/nns that/wps had/hvd never/rb known/vbn anything/pn sweeter/jjr than/cs the/at taste/nn of/in new/jj wine/nn and/cc the/at passion/nn of/in man's/nn$ tongue/nn had/hvd not/* smiled/vbn ,/, but/cc had/hvd condemned/vbn again/rb and/cc again/rb ./.\\n``/`` Puttana/fw-nn ''/'' !/. !/.\\n\\n\\n\\tBut/cc if/cs the/at Old/jj-tl Man/nn-tl even/rb thought/vbd about/in his/pp$ wife/nn now/rb ,/, nobody/pn cared/vbd a/at fig/nn ./.\\nIt/pps was/bedz enough/ap for/in people/nns to/to know/vb that/cs at/in one/cd time/nn he/pps had/hvd looked/vbn down/in the/at street/nn at/in the/at f\""
      ]
     },
     "execution_count": 22,
     "metadata": {},
     "output_type": "execute_result"
    }
   ],
   "source": [
    "import string # punctuation\n",
    "import nltk\n",
    "\n",
    "nltk.download('brown')\n",
    "brown = nltk.corpus.brown\n",
    "romance = brown.raw(categories = 'romance')[:5000]\n",
    "romance"
   ]
  },
  {
   "cell_type": "code",
   "execution_count": 23,
   "id": "42c45536-bb87-41db-a69d-e5a167d2e3ba",
   "metadata": {},
   "outputs": [
    {
     "name": "stdout",
     "output_type": "stream",
     "text": [
      "They/ppss neither/cc liked/vbd nor/cc disliked/vbd the/at Old/jj-tl Man/nn-tl .\n"
     ]
    }
   ],
   "source": [
    "sentences = [sent.strip() for sent in romance.split('/.')] # '/.' 기준 문장 분절\n",
    "sentences = [s for s in sentences if s != '!'] # '!' 삭제\n",
    "print(sentences[0])"
   ]
  },
  {
   "cell_type": "markdown",
   "id": "e0384de7-e5c0-45fe-890f-5aafad943468",
   "metadata": {},
   "source": [
    "#### 단어 분절\n",
    "- sentences >> POS 제거, 단어 분절"
   ]
  },
  {
   "cell_type": "code",
   "execution_count": 24,
   "id": "b95918c5-7312-409c-b54b-a8f45959b712",
   "metadata": {},
   "outputs": [
    {
     "data": {
      "text/plain": [
       "['They', 'neither', 'liked', 'nor', 'disliked', 'the', 'Old', 'Man', '.']"
      ]
     },
     "execution_count": 24,
     "metadata": {},
     "output_type": "execute_result"
    }
   ],
   "source": [
    "SLASH = '/'\n",
    "example = sentences[0]\n",
    "[word[:word.find(SLASH)] if word[:word.find(SLASH)] else word for word in example.split()]"
   ]
  },
  {
   "cell_type": "code",
   "execution_count": 25,
   "id": "1e4f46e8-839c-4387-89fb-b2522d4c1ee6",
   "metadata": {
    "tags": []
   },
   "outputs": [
    {
     "name": "stdout",
     "output_type": "stream",
     "text": [
      "[['They', 'neither', 'liked', 'nor', 'disliked', 'the', 'Old', 'Man', '.']]\n"
     ]
    }
   ],
   "source": [
    "# 전체 문장에 적용\n",
    "sentence_tokens = [[word[:word.find(SLASH)] \n",
    "                    if word[:word.find(SLASH)] else word \n",
    "                    for word in example.split()] for example in sentences]\n",
    "\n",
    "print(sentence_tokens[:1])"
   ]
  },
  {
   "cell_type": "code",
   "execution_count": 26,
   "id": "31d956a9-5bba-4da8-b798-714af89c3edf",
   "metadata": {
    "tags": []
   },
   "outputs": [
    {
     "name": "stdout",
     "output_type": "stream",
     "text": [
      "['!', '\"', '#', '$', '%', '&', \"'\", '(', ')', '*', '+', ',', '-', '.', '/', ':', ';', '<', '=', '>', '?', '@', '[', '\\\\', ']', '^', '_', '`', '{', '|', '}', '~']\n"
     ]
    }
   ],
   "source": [
    "# punctuation 리스트화\n",
    "punct = list(string.punctuation)\n",
    "print(punct)"
   ]
  },
  {
   "cell_type": "code",
   "execution_count": 27,
   "id": "f964da1c-a1bb-4999-9677-d6a91fe0b8d1",
   "metadata": {},
   "outputs": [
    {
     "data": {
      "text/plain": [
       "['They', 'neither', 'liked', 'nor', 'disliked', 'the', 'Old', 'Man']"
      ]
     },
     "execution_count": 27,
     "metadata": {},
     "output_type": "execute_result"
    }
   ],
   "source": [
    "# punctuation 골라내기\n",
    "[[word for word in sent\n",
    "    if word[0].isalnum() and word not in punct]\n",
    "        for sent in sentence_tokens][0]"
   ]
  },
  {
   "cell_type": "code",
   "execution_count": 28,
   "id": "af90fc6e-157f-4f97-9fcb-5e528d4de67f",
   "metadata": {},
   "outputs": [
    {
     "name": "stdout",
     "output_type": "stream",
     "text": [
      "{'--', \"''\", '``'}\n",
      "['!', '\"', '#', '$', '%', '&', \"'\", '(', ')', '*', '+', ',', '-', '.', '/', ':', ';', '<', '=', '>', '?', '@', '[', '\\\\', ']', '^', '_', '`', '{', '|', '}', '~', '--', \"''\", '``']\n"
     ]
    }
   ],
   "source": [
    "# punct에 없는 punctuation 찾아서 my_punct에 담은 후 punct에 extend\n",
    "my_punct = set([word\n",
    "                   for sent in sentence_tokens\n",
    "                       for word in sent\n",
    "                           if (not word[0].isalnum()) and (word not in punct)])\n",
    "\n",
    "print(my_punct)\n",
    "\n",
    "punct.extend(my_punct)\n",
    "print(punct)"
   ]
  },
  {
   "cell_type": "code",
   "execution_count": 29,
   "id": "ed623d9f-f197-4cb8-b517-5a4bc845cba2",
   "metadata": {},
   "outputs": [],
   "source": [
    "# 하이픈 fur-piece (split 이후 extend)\n",
    "'fur-piece'.split('-')\n",
    "\n",
    "# apostrophe 's (변수: index 만든 후 분리)\n",
    "word = 'she\\'s'\n",
    "index = word.find('\\'')"
   ]
  },
  {
   "cell_type": "markdown",
   "id": "43df2171-02ac-4bbd-b3ea-d2f832fe94e5",
   "metadata": {},
   "source": [
    "#### 함수 실습"
   ]
  },
  {
   "cell_type": "code",
   "execution_count": 30,
   "id": "e1bfcb5d-4346-40b8-8ddb-eca99074fdf0",
   "metadata": {},
   "outputs": [
    {
     "name": "stdout",
     "output_type": "stream",
     "text": [
      "['They', 'neither', 'liked', 'nor', 'disliked', 'the', 'Old', 'Man']\n"
     ]
    }
   ],
   "source": [
    "# 함수로: 문장이 들어왔을 때 POS 제거하고, punct 제거하고, 토큰 리스트로 반환\n",
    "def tokenize_word(sent):\n",
    "    return [word[:word.find(SLASH)]\n",
    "                for word in sent.split()\n",
    "                    if (word[0].isalnum()) and (word not in punct)]\n",
    "\n",
    "print(tokenize_word(sentences[0]))"
   ]
  },
  {
   "cell_type": "code",
   "execution_count": null,
   "id": "1b2c0b68-5939-4069-8147-a8575b95ed37",
   "metadata": {},
   "outputs": [],
   "source": []
  }
 ],
 "metadata": {
  "kernelspec": {
   "display_name": "Python 3 (ipykernel)",
   "language": "python",
   "name": "python3"
  },
  "language_info": {
   "codemirror_mode": {
    "name": "ipython",
    "version": 3
   },
   "file_extension": ".py",
   "mimetype": "text/x-python",
   "name": "python",
   "nbconvert_exporter": "python",
   "pygments_lexer": "ipython3",
   "version": "3.9.7"
  }
 },
 "nbformat": 4,
 "nbformat_minor": 5
}
