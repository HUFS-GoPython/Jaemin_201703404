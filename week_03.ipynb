{
 "cells": [
  {
   "cell_type": "markdown",
   "id": "418c6f67-3f7d-41a3-a144-5235bfccd025",
   "metadata": {},
   "source": [
    "## 중첩조건문 | nested conditional\n",
    "- if 블록 안에 또 if 블록이 만들어지는 경우\n",
    "    - ex) if ...\n",
    "            if ...\n",
    "                if ...\n",
    "    - 구분은 들여쓰기로 함\n",
    "    - 조건이 여러 개일 경우 사용\n",
    "    - 지양할 뿐"
   ]
  },
  {
   "cell_type": "code",
   "execution_count": 1,
   "id": "bb4c0167-1f1a-4ab2-8baf-aae5b13fc149",
   "metadata": {},
   "outputs": [
    {
     "name": "stdout",
     "output_type": "stream",
     "text": [
      "Block B\n"
     ]
    }
   ],
   "source": [
    "x = 0\n",
    "y = 4\n",
    "\n",
    "if x == y:\n",
    "    print(\"Block A\")\n",
    "else:\n",
    "    if x < y:\n",
    "        print(\"Block B\")\n",
    "    else:\n",
    "        print(\"Block C\")"
   ]
  },
  {
   "cell_type": "code",
   "execution_count": null,
   "id": "97a00a8c-3c88-4a57-b38c-4f178020459e",
   "metadata": {},
   "outputs": [],
   "source": [
    "# 방법 1\n",
    "if x == y:\n",
    "    # Block A\n",
    "elif x < y:\n",
    "    # Block B\n",
    "else:\n",
    "    # Block C"
   ]
  },
  {
   "cell_type": "code",
   "execution_count": 2,
   "id": "bf93f53b-a117-45eb-802b-907854cdf03a",
   "metadata": {},
   "outputs": [
    {
     "name": "stdout",
     "output_type": "stream",
     "text": [
      "Block B\n"
     ]
    }
   ],
   "source": [
    "# 0 < x < 10\n",
    "if x > 0:\n",
    "    if x < 10:\n",
    "        print(\"Blcok A\")\n",
    "    else:\n",
    "        print(\"Block B\")\n",
    "else:\n",
    "    print(\"Block B\")"
   ]
  },
  {
   "cell_type": "code",
   "execution_count": null,
   "id": "8a18be4b-81d8-422d-a9bf-9a254bd5ff97",
   "metadata": {},
   "outputs": [],
   "source": [
    "# 방법 1\n",
    "if (x > 0) and (x < 10): # 논리연산자를 사용하는 방법\n",
    "    # Block A\n",
    "else:\n",
    "    # Block B\n",
    "    \n",
    "# 방법 2\n",
    "if 0 < x < 10: # 파이썬에서만 가능한 방법\n",
    "    # Block A\n",
    "else:\n",
    "    # Block B"
   ]
  },
  {
   "cell_type": "markdown",
   "id": "c68e5b8f-1671-4a50-8fe2-4c3cf8c53918",
   "metadata": {},
   "source": [
    "### 논리연산자\n",
    "- 비교연산 조건을 여러 번 사용하는 경우\n",
    "    - x > 0, x < 10\n",
    "- and, or, not\n",
    "    - A and B: A 그리고 B, A와 B 둘 다 참일때 True(&)\n",
    "    - A or B: A 혹은 B. 둘 중 하나만 참이면 True(|)\n",
    "    - not A: A 참이면 False, 거짓이면 True(~)"
   ]
  },
  {
   "cell_type": "markdown",
   "id": "fc15e24b-77a4-4dce-9869-74d17300f857",
   "metadata": {},
   "source": [
    "### True/False\n",
    "- A = True\n",
    "- \"만약 A가 참이라면, ...\""
   ]
  },
  {
   "cell_type": "code",
   "execution_count": 3,
   "id": "fab12fa7-8112-4f07-9dc8-49e863f7502e",
   "metadata": {},
   "outputs": [
    {
     "name": "stdout",
     "output_type": "stream",
     "text": [
      "True\n",
      "True\n"
     ]
    }
   ],
   "source": [
    "a = True\n",
    "\n",
    "# 비추천\n",
    "if a == True:\n",
    "    print(\"True\")\n",
    "    \n",
    "# 추천\n",
    "if a:\n",
    "    print(\"True\")"
   ]
  },
  {
   "cell_type": "markdown",
   "id": "0ad07341-3adf-47e6-a9b6-592c959999c3",
   "metadata": {},
   "source": [
    "### in\n",
    "- membership operator\n",
    "- 요소가 안에 포함되어 있는지 or 비슷한 조건문이 여럿일 때\n",
    "- A in B = A가 B에 포함되어 있는지"
   ]
  },
  {
   "cell_type": "code",
   "execution_count": 4,
   "id": "c56670d5-c7fb-4b90-bfa5-b43e5d7f8b7b",
   "metadata": {},
   "outputs": [
    {
     "name": "stdout",
     "output_type": "stream",
     "text": [
      "자음\n"
     ]
    }
   ],
   "source": [
    "# ex1. 모음인지 아닌지 판별 (a, e, i, o, u)\n",
    "letter = \"k\"\n",
    "\n",
    "# if letter == \"a\" or letter == \"e\", ... >> 비추천\n",
    "if letter in ['a', 'e', 'i', 'o', 'u']:\n",
    "    print(\"모음\")\n",
    "else:\n",
    "    print(\"자음\")"
   ]
  },
  {
   "cell_type": "code",
   "execution_count": 5,
   "id": "9dd3a1bc-351f-47c7-8574-433c327c9335",
   "metadata": {},
   "outputs": [
    {
     "name": "stdout",
     "output_type": "stream",
     "text": [
      "Yes\n"
     ]
    }
   ],
   "source": [
    "# 단어에 모음이 있는지 확인\n",
    "word = 'apple'\n",
    "\n",
    "if 'a' or 'e' or 'i' or 'o' or 'u' in word:\n",
    "    print(\"Yes\")"
   ]
  },
  {
   "cell_type": "markdown",
   "id": "69736952-70e9-40fa-978a-4b41d266059b",
   "metadata": {},
   "source": [
    "### 코끼리연산자\n",
    "- walrus operator\n",
    "- := 와 같이 사용\n",
    "- 할당 + 테스트를 동시에 하는 기능"
   ]
  },
  {
   "cell_type": "code",
   "execution_count": 6,
   "id": "f191b7f3-d33b-4671-9d16-3671eae389e0",
   "metadata": {},
   "outputs": [
    {
     "data": {
      "text/plain": [
       "200"
      ]
     },
     "execution_count": 6,
     "metadata": {},
     "output_type": "execute_result"
    }
   ],
   "source": [
    "tweet_limit = 200\n",
    "tweet_sting = 'blah' * 50 # 4 * 50 = 200\n",
    "\n",
    "len(tweet_sting) # len() 함수 >> 길이 확인"
   ]
  },
  {
   "cell_type": "code",
   "execution_count": 7,
   "id": "ed68777a-68c1-4448-8c77-9899a1fffa78",
   "metadata": {},
   "outputs": [
    {
     "name": "stdout",
     "output_type": "stream",
     "text": [
      "No\n"
     ]
    }
   ],
   "source": [
    "diff = tweet_limit - len(tweet_sting)\n",
    "\n",
    "if diff > 0:\n",
    "    print(\"Yes\")\n",
    "else:\n",
    "    print(\"No\")"
   ]
  },
  {
   "cell_type": "code",
   "execution_count": 8,
   "id": "8de92f3f-0199-46f1-9771-133510ab614a",
   "metadata": {},
   "outputs": [
    {
     "name": "stdout",
     "output_type": "stream",
     "text": [
      "No\n"
     ]
    }
   ],
   "source": [
    "# 코끼리연산자 사용 예시\n",
    "if diff := tweet_limit - len(tweet_sting) > 0:\n",
    "    print(\"Yes\")\n",
    "else:\n",
    "    print(\"No\")"
   ]
  },
  {
   "cell_type": "markdown",
   "id": "0cd9aee6-a8a7-4ac1-bbfa-cf0f9c922016",
   "metadata": {},
   "source": [
    "### 퀴즈 1\n",
    "- 윤년 구하기\n",
    "    - 연도 입력받기\n",
    "    - 4로 나눠지면 윤년\n",
    "    - 100으로 나눠지면 안됨\n",
    "    - 400으로 나눠지면 윤년\n",
    "- 출력: '{}년은 윤년입니다. '/' 윤년이 아닙니다'"
   ]
  },
  {
   "cell_type": "code",
   "execution_count": 9,
   "id": "7d95f10a-10f0-4236-a313-56324e6f1d94",
   "metadata": {},
   "outputs": [
    {
     "name": "stdin",
     "output_type": "stream",
     "text": [
      "연도:  2022\n"
     ]
    },
    {
     "name": "stdout",
     "output_type": "stream",
     "text": [
      "2022년은 윤년이 아닙니다.\n"
     ]
    }
   ],
   "source": [
    "year = int(input(\"연도: \"))\n",
    "\n",
    "if (year % 4 == 0) and (year % 100 != 0) or (year % 400 == 0):\n",
    "    print(f\"{year}년은 윤년입니다.\")\n",
    "else:\n",
    "    print(f\"{year}년은 윤년이 아닙니다.\")"
   ]
  },
  {
   "cell_type": "markdown",
   "id": "2a15bf50-8f7e-4705-9445-283791602031",
   "metadata": {},
   "source": [
    "## String | 문자열\n",
    "- 시스템에서 가장 작은 단위\n",
    "- 불변적인 성격을 가짐(immutable)\n",
    "    - ex) jack >> jeck\n",
    "- ', \"으로 선언함\n",
    "    - ex) \"25.5\"\n",
    "    - ''', \"\"\" 주석\n",
    "- 형 변환은 str()\n",
    "\n",
    "### escape character | 이스케이프 문자\n",
    "- 특수한 형태의 문자열 / 눈에 보이는 대로 인식되지 않는 문자\n",
    "- \\ + ch\n",
    "- ex) \\n, \\t, \\b, \\', \\\", ...\n",
    "    - \\n 그대로 출력하고 싶으면 '\\'하나 더 사용 or r'' 사용\n",
    "- 다른 스트링을 만드는 것이 아님"
   ]
  },
  {
   "cell_type": "code",
   "execution_count": 10,
   "id": "165de823-5dde-4932-96a7-fd05305745aa",
   "metadata": {},
   "outputs": [
    {
     "name": "stdout",
     "output_type": "stream",
     "text": [
      "hello\n",
      "world\n"
     ]
    }
   ],
   "source": [
    "sent = \"hello\\nworld\"\n",
    "\n",
    "print(sent)"
   ]
  },
  {
   "cell_type": "code",
   "execution_count": 11,
   "id": "570b9b85-61aa-423b-99b1-b873eac1881d",
   "metadata": {},
   "outputs": [
    {
     "name": "stdout",
     "output_type": "stream",
     "text": [
      "hello\tworld\n"
     ]
    }
   ],
   "source": [
    "sent = \"hello\\tworld\"\n",
    "\n",
    "print(sent)"
   ]
  },
  {
   "cell_type": "code",
   "execution_count": 12,
   "id": "bdab8b64-f489-4a06-9bf7-a6a4bd154e8e",
   "metadata": {},
   "outputs": [
    {
     "name": "stdout",
     "output_type": "stream",
     "text": [
      "hellworld\n"
     ]
    }
   ],
   "source": [
    "sent = \"hello\\bworld\"\n",
    "\n",
    "print(sent)"
   ]
  },
  {
   "cell_type": "code",
   "execution_count": 13,
   "id": "c6a2dc8e-0d5b-4b76-afab-e83490ffd1f2",
   "metadata": {},
   "outputs": [
    {
     "name": "stdout",
     "output_type": "stream",
     "text": [
      "hello\\nworld\n",
      "hello\\nworld\n"
     ]
    }
   ],
   "source": [
    "# \\n 그대로 출력\n",
    "sent = \"hello\\\\nworld\"\n",
    "\n",
    "print(sent)\n",
    "\n",
    "# raw string 사용\n",
    "sent = r\"hello\\nworld\"\n",
    "\n",
    "print(sent)"
   ]
  },
  {
   "cell_type": "code",
   "execution_count": 14,
   "id": "fb4451c2-bf1f-4b3a-b04c-a990302e750a",
   "metadata": {},
   "outputs": [
    {
     "data": {
      "text/plain": [
       "\"I'm a student\""
      ]
     },
     "execution_count": 14,
     "metadata": {},
     "output_type": "execute_result"
    }
   ],
   "source": [
    "'I\\'m a student'"
   ]
  },
  {
   "cell_type": "markdown",
   "id": "bf26c64e-1aed-449d-9f23-30ddde5a1302",
   "metadata": {},
   "source": [
    "### 연산\n",
    "- concatenatation\n",
    "    - \"\" + \"\" >> 공백 없이 결합하는 방법\n",
    "- 곱하기\n",
    "    - \"\" * 5 >> 복제"
   ]
  },
  {
   "cell_type": "code",
   "execution_count": 15,
   "id": "9b933483-246a-47c5-a6fa-091ab98a4cbb",
   "metadata": {},
   "outputs": [
    {
     "data": {
      "text/plain": [
       "'jackjack'"
      ]
     },
     "execution_count": 15,
     "metadata": {},
     "output_type": "execute_result"
    }
   ],
   "source": [
    "name = 'jack'\n",
    "\n",
    "name + name"
   ]
  },
  {
   "cell_type": "code",
   "execution_count": 16,
   "id": "9dd7eb11-b952-40d4-b025-6bb9b74ee32c",
   "metadata": {},
   "outputs": [
    {
     "data": {
      "text/plain": [
       "'jackjackjackjack'"
      ]
     },
     "execution_count": 16,
     "metadata": {},
     "output_type": "execute_result"
    }
   ],
   "source": [
    "name * 4"
   ]
  },
  {
   "cell_type": "code",
   "execution_count": 17,
   "id": "f76a2bc8-13bd-48e3-9389-805cd9300c32",
   "metadata": {},
   "outputs": [
    {
     "ename": "TypeError",
     "evalue": "'str' object does not support item assignment",
     "output_type": "error",
     "traceback": [
      "\u001b[0;31m---------------------------------------------------------------------------\u001b[0m",
      "\u001b[0;31mTypeError\u001b[0m                                 Traceback (most recent call last)",
      "\u001b[0;32m/var/folders/qv/869nctd5709b62173q7l0mxh0000gn/T/ipykernel_51756/961727862.py\u001b[0m in \u001b[0;36m<module>\u001b[0;34m\u001b[0m\n\u001b[1;32m      1\u001b[0m \u001b[0;31m# immutable(불변적인 성격)\u001b[0m\u001b[0;34m\u001b[0m\u001b[0;34m\u001b[0m\u001b[0m\n\u001b[0;32m----> 2\u001b[0;31m \u001b[0mname\u001b[0m\u001b[0;34m[\u001b[0m\u001b[0;36m1\u001b[0m\u001b[0;34m]\u001b[0m \u001b[0;34m=\u001b[0m \u001b[0;34m'e'\u001b[0m\u001b[0;34m\u001b[0m\u001b[0;34m\u001b[0m\u001b[0m\n\u001b[0m",
      "\u001b[0;31mTypeError\u001b[0m: 'str' object does not support item assignment"
     ]
    }
   ],
   "source": [
    "# immutable(불변적인 성격)\n",
    "name[1] = 'e'"
   ]
  },
  {
   "cell_type": "markdown",
   "id": "00e62510-f79b-4ba5-9444-bbe43832baf2",
   "metadata": {},
   "source": [
    "### 슬라이싱, 추출\n",
    "- 문자열의 일부분을 떼어내는 작업\n",
    "- 대괄호 사용, 그 안에 오프셋을 지정\n",
    "- 오프셋은 0부터 시작함(맨 첫 글자)\n",
    "    - 0123\n",
    "    - jack\n",
    "    - -4 -3 -2 -1\n",
    "- 음수도 가능함 but -1부터 시작\n",
    "- 오프셋은 [시작:끝:스텝] # step = 1\n",
    "- 시작은 포함, 끝은 포함하지 않음(이상 : 미만)"
   ]
  },
  {
   "cell_type": "code",
   "execution_count": 18,
   "id": "0e786cc2-725f-434f-a37c-56b600c4a34d",
   "metadata": {},
   "outputs": [
    {
     "data": {
      "text/plain": [
       "'k'"
      ]
     },
     "execution_count": 18,
     "metadata": {},
     "output_type": "execute_result"
    }
   ],
   "source": [
    "name = 'jack'\n",
    "\n",
    "name[-1]"
   ]
  },
  {
   "cell_type": "code",
   "execution_count": 19,
   "id": "6d08c9f7-299e-46a2-b67c-10f9ff180380",
   "metadata": {},
   "outputs": [
    {
     "data": {
      "text/plain": [
       "'hello\\\\nworld'"
      ]
     },
     "execution_count": 19,
     "metadata": {},
     "output_type": "execute_result"
    }
   ],
   "source": [
    "sent"
   ]
  },
  {
   "cell_type": "code",
   "execution_count": 20,
   "id": "724b8c3d-2fbb-4357-80f8-501846f44ddc",
   "metadata": {},
   "outputs": [
    {
     "data": {
      "text/plain": [
       "'l'"
      ]
     },
     "execution_count": 20,
     "metadata": {},
     "output_type": "execute_result"
    }
   ],
   "source": [
    "# l 추출\n",
    "sent[3:4]"
   ]
  },
  {
   "cell_type": "code",
   "execution_count": 21,
   "id": "3993b649-90df-4c28-8618-a3876725a175",
   "metadata": {},
   "outputs": [
    {
     "data": {
      "text/plain": [
       "'hello\\\\'"
      ]
     },
     "execution_count": 21,
     "metadata": {},
     "output_type": "execute_result"
    }
   ],
   "source": [
    "# 처음부터 5까지 출력\n",
    "sent[:6]"
   ]
  },
  {
   "cell_type": "code",
   "execution_count": 22,
   "id": "b8e1a94a-a78f-4410-b329-6b29b19080b2",
   "metadata": {},
   "outputs": [
    {
     "data": {
      "text/plain": [
       "'hlonol'"
      ]
     },
     "execution_count": 22,
     "metadata": {},
     "output_type": "execute_result"
    }
   ],
   "source": [
    "# 처음부터 끝까지 2스텝씩 출력\n",
    "sent[::2]"
   ]
  },
  {
   "cell_type": "code",
   "execution_count": 23,
   "id": "65aca250-1dc8-492d-abdd-be96c6122503",
   "metadata": {},
   "outputs": [
    {
     "data": {
      "text/plain": [
       "'dlrown\\\\olleh'"
      ]
     },
     "execution_count": 23,
     "metadata": {},
     "output_type": "execute_result"
    }
   ],
   "source": [
    "# 모든 글자를 거꾸로 출력\n",
    "sent[::-1]"
   ]
  },
  {
   "cell_type": "markdown",
   "id": "1a297fee-7cca-4510-8524-77772656fb63",
   "metadata": {},
   "source": [
    "## NLTK"
   ]
  },
  {
   "cell_type": "markdown",
   "id": "fceeb116-dbd7-4b34-842e-04d66a60c797",
   "metadata": {},
   "source": [
    "- natural language toolkit\n",
    "- 자연어 분석을 위해 교육용으로 배포된 패키지\n",
    "- 내장함수, 기능들이 추가됨\n",
    "    - 토크나이즈, 파싱, 태깅, ..."
   ]
  },
  {
   "cell_type": "code",
   "execution_count": 24,
   "id": "30ca8b25-5a76-44da-9555-5d10f66fa07d",
   "metadata": {},
   "outputs": [],
   "source": [
    "# !pip install nltk # 설치"
   ]
  },
  {
   "cell_type": "code",
   "execution_count": 25,
   "id": "d0ec3b14-ff66-4eed-9234-cf68139b8a7d",
   "metadata": {},
   "outputs": [
    {
     "data": {
      "text/plain": [
       "True"
      ]
     },
     "execution_count": 25,
     "metadata": {},
     "output_type": "execute_result"
    }
   ],
   "source": [
    "import nltk # 가져오기\n",
    "nltk.download('book', quiet = True) # 부분적으로 다운받기"
   ]
  },
  {
   "cell_type": "code",
   "execution_count": 26,
   "id": "1532a222-96da-4c5d-a960-5caa97ae428a",
   "metadata": {},
   "outputs": [
    {
     "name": "stdout",
     "output_type": "stream",
     "text": [
      "*** Introductory Examples for the NLTK Book ***\n",
      "Loading text1, ..., text9 and sent1, ..., sent9\n",
      "Type the name of the text or sentence to view it.\n",
      "Type: 'texts()' or 'sents()' to list the materials.\n",
      "text1: Moby Dick by Herman Melville 1851\n",
      "text2: Sense and Sensibility by Jane Austen 1811\n",
      "text3: The Book of Genesis\n",
      "text4: Inaugural Address Corpus\n",
      "text5: Chat Corpus\n",
      "text6: Monty Python and the Holy Grail\n",
      "text7: Wall Street Journal\n",
      "text8: Personals Corpus\n",
      "text9: The Man Who Was Thursday by G . K . Chesterton 1908\n"
     ]
    }
   ],
   "source": [
    "from nltk import book # 가져오기"
   ]
  },
  {
   "cell_type": "code",
   "execution_count": 27,
   "id": "71b91fc5-6dbe-4580-8e60-219bf1c262a8",
   "metadata": {},
   "outputs": [
    {
     "data": {
      "text/plain": [
       "['[',\n",
       " 'Moby',\n",
       " 'Dick',\n",
       " 'by',\n",
       " 'Herman',\n",
       " 'Melville',\n",
       " '1851',\n",
       " ']',\n",
       " 'ETYMOLOGY',\n",
       " '.']"
      ]
     },
     "execution_count": 27,
     "metadata": {},
     "output_type": "execute_result"
    }
   ],
   "source": [
    "moby = book.text1 # book에 접근하는 방법\n",
    "moby.tokens[:10] # 토큰에 접근하는 방법\n",
    "# 토큰: 프로그래밍에서 사용하는 단어의 단위\n",
    "# ex1) hello world >> hello, world \n",
    "# ex2) I'm not a coward >> I'm / I, 'm / I, am"
   ]
  },
  {
   "cell_type": "code",
   "execution_count": 28,
   "id": "5f2bcb4f-1bf3-4ed2-9e44-13c4f4c79090",
   "metadata": {},
   "outputs": [
    {
     "data": {
      "text/plain": [
       "260819"
      ]
     },
     "execution_count": 28,
     "metadata": {},
     "output_type": "execute_result"
    }
   ],
   "source": [
    "# 1. 길이 세기 길이\n",
    "len(moby) # 26만자"
   ]
  },
  {
   "cell_type": "code",
   "execution_count": 29,
   "id": "15b73776-b3b0-43a5-b9c7-8344f360c11d",
   "metadata": {},
   "outputs": [
    {
     "data": {
      "text/plain": [
       "19317"
      ]
     },
     "execution_count": 29,
     "metadata": {},
     "output_type": "execute_result"
    }
   ],
   "source": [
    "# 2. 중복 없이 단어 몇 개? 집합 함수 set()\n",
    "len(set(moby)) # 1.9만자"
   ]
  },
  {
   "cell_type": "markdown",
   "id": "4f53a958-7643-4811-b601-92d658376960",
   "metadata": {},
   "source": [
    "- list\n",
    "    - ['a', a, True]\n",
    "    - 순서가 있음\n",
    "    - 중복 허용\n",
    "    - list()\n",
    "- set\n",
    "    - {'a', 2, True}\n",
    "    - 순서 없음\n",
    "    - 중복 허용 안됨\n",
    "    - set()\n",
    "    - 수학의 집합 개념"
   ]
  },
  {
   "cell_type": "code",
   "execution_count": 30,
   "id": "927ca308-7bb6-459f-b8b8-19185ffb966c",
   "metadata": {},
   "outputs": [
    {
     "data": {
      "text/plain": [
       "['kia', 'hyundai', 'renault', 'benz', 'benz', 'kia']"
      ]
     },
     "execution_count": 30,
     "metadata": {},
     "output_type": "execute_result"
    }
   ],
   "source": [
    "cars = ['kia', 'hyundai', 'renault', 'benz', 'benz', 'kia']\n",
    "\n",
    "cars"
   ]
  },
  {
   "cell_type": "code",
   "execution_count": 31,
   "id": "53408147-d1c5-474d-891c-c395103158c7",
   "metadata": {},
   "outputs": [
    {
     "data": {
      "text/plain": [
       "{'benz', 'hyundai', 'kia', 'renault'}"
      ]
     },
     "execution_count": 31,
     "metadata": {},
     "output_type": "execute_result"
    }
   ],
   "source": [
    "set(cars)"
   ]
  },
  {
   "cell_type": "code",
   "execution_count": 32,
   "id": "ac368529-7cef-4ebf-a2b0-f6ae24225df7",
   "metadata": {},
   "outputs": [
    {
     "data": {
      "text/plain": [
       "0.07406285585022564"
      ]
     },
     "execution_count": 32,
     "metadata": {},
     "output_type": "execute_result"
    }
   ],
   "source": [
    "# lexical diversity(얼마나 다양한 언어를 썼는지 확인 가능)\n",
    "len(set(moby)) / len(moby)"
   ]
  },
  {
   "cell_type": "code",
   "execution_count": 33,
   "id": "bf4ceb84-d151-4ecf-bb97-18e3ead4ac9c",
   "metadata": {},
   "outputs": [
    {
     "data": {
      "text/plain": [
       "['benz', 'benz', 'hyundai', 'kia', 'kia', 'renault']"
      ]
     },
     "execution_count": 33,
     "metadata": {},
     "output_type": "execute_result"
    }
   ],
   "source": [
    "# 정렬\n",
    "sorted(cars)"
   ]
  },
  {
   "cell_type": "code",
   "execution_count": 34,
   "id": "1e460083-1ab6-4231-be26-d093117ba44a",
   "metadata": {},
   "outputs": [
    {
     "data": {
      "text/plain": [
       "['renault', 'kia', 'kia', 'hyundai', 'benz', 'benz']"
      ]
     },
     "execution_count": 34,
     "metadata": {},
     "output_type": "execute_result"
    }
   ],
   "source": [
    "# 역순으로 정렬\n",
    "sorted(cars, reverse = True)"
   ]
  },
  {
   "cell_type": "code",
   "execution_count": 35,
   "id": "066104b2-8e4c-4ae8-ab1e-5919fecc172d",
   "metadata": {},
   "outputs": [
    {
     "data": {
      "text/plain": [
       "['.',\n",
       " '1851',\n",
       " 'Dick',\n",
       " 'ETYMOLOGY',\n",
       " 'Herman',\n",
       " 'Melville',\n",
       " 'Moby',\n",
       " '[',\n",
       " ']',\n",
       " 'by']"
      ]
     },
     "execution_count": 35,
     "metadata": {},
     "output_type": "execute_result"
    }
   ],
   "source": [
    "# 처음부터 10개까지 추출하여 정렬\n",
    "sorted(moby[:10])"
   ]
  },
  {
   "cell_type": "code",
   "execution_count": 36,
   "id": "7036d550-a752-477c-a22f-a6167c075782",
   "metadata": {},
   "outputs": [
    {
     "data": {
      "text/plain": [
       "['!', '!', '!', '!', '!', '!', '!', '!', '!', '!']"
      ]
     },
     "execution_count": 36,
     "metadata": {},
     "output_type": "execute_result"
    }
   ],
   "source": [
    "# 정렬하고 처음부터 10개까지 추출\n",
    "sorted(moby)[:10]"
   ]
  },
  {
   "cell_type": "markdown",
   "id": "4ec66527-7f3b-4566-9648-19e41c0c60c9",
   "metadata": {},
   "source": [
    "#### Quiz 1\n",
    "- text6 가져와서 토큰을 변수에 담고\n",
    "- 중복없는 셋으로 저장하고 내림차순\n",
    "    - 앞에서 10개 단어 출력\n",
    "    - 단어에 z가 있으면 z를 대문자로 바꾸시오\n",
    "    - z가 없는데 4자 이상이면 끝 글자를 대문자로 바꾸라"
   ]
  },
  {
   "cell_type": "code",
   "execution_count": 37,
   "id": "9ff1e284-ef7a-450d-a726-979264e3f2de",
   "metadata": {},
   "outputs": [
    {
     "name": "stdout",
     "output_type": "stream",
     "text": [
      "['zoosh', 'zoop', 'zoo', 'zone', 'zhiv', 'yourself', 'yours', 'your', 'young', 'you']\n",
      "Zoosh\n",
      "Zoop\n",
      "Zoo\n",
      "Zone\n",
      "Zhiv\n",
      "yourselF\n",
      "yourS\n",
      "youR\n",
      "younG\n",
      "younG\n"
     ]
    }
   ],
   "source": [
    "words = book.text6\n",
    "words = sorted(set(words), reverse = True)[:10]\n",
    "\n",
    "print(words)\n",
    "\n",
    "for word in words:\n",
    "    if \"z\" in word:\n",
    "        words = word.replace(\"z\", \"Z\")\n",
    "    elif len(word) >= 4:\n",
    "        words = word.replace(word[-1], word[-1].upper())\n",
    "        \n",
    "    print(words)"
   ]
  },
  {
   "cell_type": "markdown",
   "id": "2bd0ca5e-0519-4716-997c-022432102c16",
   "metadata": {
    "tags": []
   },
   "source": [
    "#### Quiz 2\n",
    "- 주민번호, 휴대폰 번호, 이메일 주소 입력받는다\n",
    "- 주민번호, 휴대폰 번호는 숫자만 입력받는다(- 없이)\n",
    "- 이메일주소는 아이디만 입력받음(@xx 없이)\n",
    "    - 1. \"당신은 {}년 {}월 {}일 출생의 {남성/여성}입니다.\"\n",
    "    - 2. 휴대폰 번호: 000-0000-0000\n",
    "    - 3. 이메일주소: xxxx@gmail.com"
   ]
  },
  {
   "cell_type": "code",
   "execution_count": 38,
   "id": "ec5d0004-8fe9-48bb-8ddb-a734bfbe858f",
   "metadata": {},
   "outputs": [
    {
     "name": "stdin",
     "output_type": "stream",
     "text": [
      "주민번호:  9701271000000\n",
      "전화번호:  01091502793\n",
      "이메일:  mincho\n"
     ]
    },
    {
     "name": "stdout",
     "output_type": "stream",
     "text": [
      "당신은 1997년 01월 27일 출생의 남성입니다.\n",
      "휴대폰 번호: 010-9150-2793\n",
      "이메일 주소: mincho@gmail.com\n"
     ]
    }
   ],
   "source": [
    "idNum = input(\"주민번호: \")\n",
    "phoneNum = input(\"전화번호: \")\n",
    "email = input(\"이메일: \")\n",
    "\n",
    "month = idNum[2:4]\n",
    "day = idNum[4:6]\n",
    "\n",
    "firstNum = \"010\"\n",
    "frontNum = phoneNum[3:7]\n",
    "backNum = phoneNum[7:]\n",
    "\n",
    "emailId = email[:]\n",
    "\n",
    "if idNum[6] == \"1\" or idNum == \"2\":\n",
    "    year = \"19\" + idNum[:2]\n",
    "elif idNum[6] == \"3\" or idNum == \"4\":\n",
    "    year = \"20\" + idNum[:2]\n",
    "else:\n",
    "    print(\"다시 입력해주세요.\")\n",
    "    \n",
    "if idNum[6] == \"1\" or idNum == \"3\":\n",
    "    gender = \"남성\"\n",
    "elif idNum[6] == \"2\" or idNum == \"4\":\n",
    "    gender = \"여성\"\n",
    "    \n",
    "print(f\"당신은 {year}년 {month}월 {day}일 출생의 {gender}입니다.\")\n",
    "print(f\"휴대폰 번호: {firstNum}-{frontNum}-{backNum}\")\n",
    "print(f\"이메일 주소: {emailId}@gmail.com\")"
   ]
  },
  {
   "cell_type": "code",
   "execution_count": null,
   "id": "4e9874b3-0b62-4860-93da-cb1ea88b8b27",
   "metadata": {},
   "outputs": [],
   "source": []
  }
 ],
 "metadata": {
  "kernelspec": {
   "display_name": "Python 3 (ipykernel)",
   "language": "python",
   "name": "python3"
  },
  "language_info": {
   "codemirror_mode": {
    "name": "ipython",
    "version": 3
   },
   "file_extension": ".py",
   "mimetype": "text/x-python",
   "name": "python",
   "nbconvert_exporter": "python",
   "pygments_lexer": "ipython3",
   "version": "3.9.7"
  }
 },
 "nbformat": 4,
 "nbformat_minor": 5
}
