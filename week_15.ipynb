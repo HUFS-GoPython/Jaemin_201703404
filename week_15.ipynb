{
 "cells": [
  {
   "cell_type": "markdown",
   "id": "bde76514-4a67-4c7d-b4d4-22921a4bc216",
   "metadata": {},
   "source": [
    "## 파일과 디렉터리\n",
    "- 디렉터리: 폴더의 다른 말로, 파일이 논리적으로 묶인 단위\n",
    "- 파일: 컴퓨터를 실행하는 기본 단위\n",
    "    - 파일명 + 확장자\n",
    "    - 확장자는 파일의 쓰임을 구분\n",
    "        - ex) .pdf, .xlxs, .txt\n",
    "    - 파일의 종류\n",
    "        1. 바이너리: 이진 정보로 저장되어있는 파일\n",
    "            - ex) pdf, xlsx, ...\n",
    "            - 사용자가 내용을 확인할 수 없음\n",
    "            - 확인하기 위해서는 해당 확장자를 열 수 있는 프로그램이 필요함\n",
    "            - 따라서 효율적이지만, 사용자에게는 살짝 불편\n",
    "        2. 텍스트: 사람이 이해할수 있는 문자열로 저장됨\n",
    "            - ex) txt, html, py\n",
    "            - 변경 기준은 아스키코드 or 유니코드\n",
    "            - 위와 같이 표준에 맞취 저장을 하는 것이 인코딩(encoding)\n",
    "                - utf-8\n",
    "                - cp949"
   ]
  },
  {
   "cell_type": "markdown",
   "id": "c6986d2f-aa31-40f1-b8cb-3813f5727e3f",
   "metadata": {},
   "source": [
    "#### 파일 열기\n",
    "- open(파일명, 모드)\n",
    "- 모드\n",
    "    1. 읽기\n",
    "        - r: read(default)\n",
    "    2. 쓰기\n",
    "        - w: 파일이 있으면 덮어쓰고, 없으면 생성\n",
    "        - x: 파일이 없을때만 생성(기존의 데이터를 날릴 위험 없음)\n",
    "        - a: 파일이 있을 때 마지막 라인에 추가하는 기능(adding)\n",
    "- 추가 모드\n",
    "    1. b: binary\n",
    "    2. t: text(default)\n",
    "    - rb: 바이너리, rt: 텍스트"
   ]
  },
  {
   "cell_type": "code",
   "execution_count": 2,
   "id": "07e845e2-042d-44df-a74c-a07249f480c7",
   "metadata": {},
   "outputs": [
    {
     "data": {
      "text/plain": [
       "<_io.TextIOWrapper name='text.txt' mode='r' encoding='UTF-8'>"
      ]
     },
     "execution_count": 2,
     "metadata": {},
     "output_type": "execute_result"
    }
   ],
   "source": [
    "# 1. 파일이 같은 directory 안에 있는 경우\n",
    "file = 'text.txt'\n",
    "f = open(file, 'r')\n",
    "\n",
    "f"
   ]
  },
  {
   "cell_type": "markdown",
   "id": "c441b48f-f876-4b0e-a59b-ae3d5de6fae2",
   "metadata": {},
   "source": [
    "### 파일 읽기\n",
    "- read(n): 전체를 하나의 str\n",
    "    - n: 개수\n",
    "- readline(): 한줄만 str\n",
    "- readlines(): 각 줄이 한 str으로 들어간 전체를 list\n",
    "- read의 특성\n",
    "    1. read는 포인터가 있음\n",
    "    2. 파일이 클 경우, 전체를 다 읽으려면 시간이 오래 걸림(유용)"
   ]
  },
  {
   "cell_type": "code",
   "execution_count": 3,
   "id": "0bc2af27-784f-4c1b-8a47-3815a18f931e",
   "metadata": {},
   "outputs": [
    {
     "name": "stdout",
     "output_type": "stream",
     "text": [
      "hello\n"
     ]
    }
   ],
   "source": [
    "print(f.read(5))"
   ]
  },
  {
   "cell_type": "code",
   "execution_count": 4,
   "id": "e4e34c28-a646-4e5d-8619-bd4f76363823",
   "metadata": {},
   "outputs": [],
   "source": [
    "f.close()"
   ]
  },
  {
   "cell_type": "code",
   "execution_count": 6,
   "id": "2a5afaae-b57f-40ba-a500-666f04a19e82",
   "metadata": {},
   "outputs": [
    {
     "data": {
      "text/plain": [
       "'hello world\\n'"
      ]
     },
     "execution_count": 6,
     "metadata": {},
     "output_type": "execute_result"
    }
   ],
   "source": [
    "file = 'text.txt'\n",
    "f = open(file, 'r')\n",
    "f.readline()"
   ]
  },
  {
   "cell_type": "code",
   "execution_count": 7,
   "id": "65fd254d-5c87-47c7-b417-4fc00eb48fc6",
   "metadata": {},
   "outputs": [],
   "source": [
    "f.close()"
   ]
  },
  {
   "cell_type": "code",
   "execution_count": 8,
   "id": "669ac82d-4b5c-493e-89a8-cdf3a1ff4347",
   "metadata": {},
   "outputs": [
    {
     "data": {
      "text/plain": [
       "['hello world\\n', \"I'm reading a book.\\n\"]"
      ]
     },
     "execution_count": 8,
     "metadata": {},
     "output_type": "execute_result"
    }
   ],
   "source": [
    "file = 'text.txt'\n",
    "f = open(file, 'r')\n",
    "f.readlines()"
   ]
  },
  {
   "cell_type": "code",
   "execution_count": 9,
   "id": "cbf2eb32-bc08-450f-8cc6-672f0419398f",
   "metadata": {},
   "outputs": [],
   "source": [
    "f.close()"
   ]
  },
  {
   "cell_type": "markdown",
   "id": "e45d0dff-6ff6-425f-8c59-1d7c1d17f9d2",
   "metadata": {},
   "source": [
    "#### 파일 닫기\n",
    "- 파일 여는 즉시 닫기\n",
    "- 여는 것보다 닫는 것을 더 신경 써야 함\n",
    "- 자원 해제\n",
    "- 메모리 절약, 에러가 날 수도 있음"
   ]
  },
  {
   "cell_type": "code",
   "execution_count": 10,
   "id": "212549b0-3e2f-45b1-a41e-150993c10d0c",
   "metadata": {},
   "outputs": [],
   "source": [
    "f = open(file, 'r')\n",
    "\n",
    "sents = f.readlines()\n",
    "sents = [s.strip() for s in sents]\n",
    "f.close()"
   ]
  },
  {
   "cell_type": "code",
   "execution_count": 11,
   "id": "37b57c38-65ad-4fe4-bd7d-b626a9f6ea7c",
   "metadata": {},
   "outputs": [
    {
     "data": {
      "text/plain": [
       "['hello world', \"I'm reading a book.\"]"
      ]
     },
     "execution_count": 11,
     "metadata": {},
     "output_type": "execute_result"
    }
   ],
   "source": [
    "sents"
   ]
  },
  {
   "cell_type": "code",
   "execution_count": 12,
   "id": "f53d9314-c7d4-4076-a444-6930f84b5458",
   "metadata": {},
   "outputs": [],
   "source": [
    "# 파일 닫는 것이 귀찮을 때\n",
    "with open (file, 'r') as f:\n",
    "    # open()이 적용되는 블록\n",
    "    content = f.read()\n",
    "# close 하지 않아도 파일이 자동으로 닫힘"
   ]
  },
  {
   "cell_type": "code",
   "execution_count": 13,
   "id": "049a94ad-5314-4f02-b7c8-f3e734f2e0d5",
   "metadata": {},
   "outputs": [
    {
     "name": "stdout",
     "output_type": "stream",
     "text": [
      "hello world\n",
      "I'm reading a book.\n",
      "\n"
     ]
    }
   ],
   "source": [
    "print(content)"
   ]
  },
  {
   "cell_type": "markdown",
   "id": "5680f5cb-7d1e-465f-8fb2-dbc2033a62db",
   "metadata": {},
   "source": [
    "#### 실습\n",
    "readline 파일 읽는데, while 사용해서 한줄씩 읽고 strip()해서 리스트로 반환하는 함수 만들기"
   ]
  },
  {
   "cell_type": "code",
   "execution_count": 15,
   "id": "3e422445-b41a-4b37-b134-9e0f8e8b8c22",
   "metadata": {},
   "outputs": [
    {
     "data": {
      "text/plain": [
       "['hello world', \"I'm reading a book.\"]"
      ]
     },
     "execution_count": 15,
     "metadata": {},
     "output_type": "execute_result"
    }
   ],
   "source": [
    "def make_readlines(file):\n",
    "    sent = []\n",
    "    with open(file, 'r') as f:\n",
    "        while content := f.readline().strip():\n",
    "            sent.append(content)\n",
    "            \n",
    "    return sent\n",
    "\n",
    "make_readlines('text.txt')"
   ]
  },
  {
   "cell_type": "markdown",
   "id": "469b0ff4-3dab-46ba-9de1-fd8d15d80533",
   "metadata": {},
   "source": [
    "#### 쓰기\n",
    "- 인코딩 유의"
   ]
  },
  {
   "cell_type": "code",
   "execution_count": 16,
   "id": "4316befa-b4dd-4197-bf2c-97470c458c9e",
   "metadata": {},
   "outputs": [],
   "source": [
    "with open('text2.txt', 'w', encoding = 'utf-8') as f:\n",
    "    for i in range(1, 11):\n",
    "        data = f'{i}번째 줄입니다.\\n'\n",
    "        f.write(data)"
   ]
  },
  {
   "cell_type": "code",
   "execution_count": 17,
   "id": "85d4d416-57de-46a5-8f1e-bea15d327876",
   "metadata": {},
   "outputs": [],
   "source": [
    "# print 함수로 파일에 저장하는 방법\n",
    "file_out = open('text.txt', 'a', encoding = 'utf-8')\n",
    "\n",
    "# 파일을 열어서 print할 때, 파일에 print\n",
    "print('한 줄 추가했습니다.', file = file_out)\n",
    "\n",
    "file_out.close()"
   ]
  },
  {
   "cell_type": "code",
   "execution_count": 26,
   "id": "85e46d5c-56ea-49f6-9354-a900facd4561",
   "metadata": {},
   "outputs": [],
   "source": [
    "# 하위 폴더를 만들어서 추가하는 방법\n",
    "# 폴더를 만들어야 함\n",
    "# 그 다음에 접근\n",
    "\n",
    "import os\n",
    "os.mkdir('folder2')\n",
    "\n",
    "with open('./folder2/text2.txt', 'w', encoding = 'utf-8') as f:\n",
    "    for i in range(1, 11):\n",
    "        data = f'{i}번째 줄입니다.\\n'\n",
    "        f.write(data)"
   ]
  },
  {
   "cell_type": "code",
   "execution_count": 27,
   "id": "3c168aa8-91d0-4974-b6f8-e3e65b338a54",
   "metadata": {},
   "outputs": [],
   "source": [
    "path = 'folder2'\n",
    "\n",
    "# 확인\n",
    "if not os.path.isdir(path): # 있는지 확인\n",
    "    os.mkdir(path)\n",
    "    \n",
    "dir_name = os.path.join(path, 'text2.txt')\n",
    "\n",
    "if not os.path.exists(dir_name):\n",
    "    with open(dir_name, 'w') as f: # 덮어쓸 가능성 배제\n",
    "        f.write('한 줄 더 추가')"
   ]
  },
  {
   "cell_type": "markdown",
   "id": "b17245c0-dffa-48de-9e40-e7adb120432f",
   "metadata": {},
   "source": [
    "#### 지우기\n",
    "- os\n",
    "    1. 파일 지우기 remove\n",
    "    2. 폴더 지우기 rmdir(단, 이 경우 폴더 안에 파일이 있으면 삭제 못함)\n",
    "- shutil\n",
    "    - 강제로 전부 삭제"
   ]
  },
  {
   "cell_type": "code",
   "execution_count": 28,
   "id": "c0746e15-e9a6-4773-93b5-3b5673eca894",
   "metadata": {},
   "outputs": [
    {
     "ename": "FileNotFoundError",
     "evalue": "[Errno 2] No such file or directory: 'text.txt'",
     "output_type": "error",
     "traceback": [
      "\u001b[0;31m---------------------------------------------------------------------------\u001b[0m",
      "\u001b[0;31mFileNotFoundError\u001b[0m                         Traceback (most recent call last)",
      "\u001b[0;32m/var/folders/qv/869nctd5709b62173q7l0mxh0000gn/T/ipykernel_36821/2330741195.py\u001b[0m in \u001b[0;36m<module>\u001b[0;34m\u001b[0m\n\u001b[0;32m----> 1\u001b[0;31m \u001b[0mos\u001b[0m\u001b[0;34m.\u001b[0m\u001b[0mremove\u001b[0m\u001b[0;34m(\u001b[0m\u001b[0;34m'text.txt'\u001b[0m\u001b[0;34m)\u001b[0m \u001b[0;31m# 파일 삭제\u001b[0m\u001b[0;34m\u001b[0m\u001b[0;34m\u001b[0m\u001b[0m\n\u001b[0m",
      "\u001b[0;31mFileNotFoundError\u001b[0m: [Errno 2] No such file or directory: 'text.txt'"
     ]
    }
   ],
   "source": [
    "os.remove('text.txt') # 파일 삭제"
   ]
  },
  {
   "cell_type": "code",
   "execution_count": 29,
   "id": "766b8359-693c-46fd-98ef-a537c7d82402",
   "metadata": {},
   "outputs": [
    {
     "ename": "OSError",
     "evalue": "[Errno 66] Directory not empty: 'folder2'",
     "output_type": "error",
     "traceback": [
      "\u001b[0;31m---------------------------------------------------------------------------\u001b[0m",
      "\u001b[0;31mOSError\u001b[0m                                   Traceback (most recent call last)",
      "\u001b[0;32m/var/folders/qv/869nctd5709b62173q7l0mxh0000gn/T/ipykernel_36821/2441335020.py\u001b[0m in \u001b[0;36m<module>\u001b[0;34m\u001b[0m\n\u001b[1;32m      1\u001b[0m \u001b[0;31m# 폴더 안에 파일이 있는 경우, 삭제 못함\u001b[0m\u001b[0;34m\u001b[0m\u001b[0;34m\u001b[0m\u001b[0m\n\u001b[1;32m      2\u001b[0m \u001b[0;31m# OSError: [Errno 66] Directory not empty: 'folder2'\u001b[0m\u001b[0;34m\u001b[0m\u001b[0;34m\u001b[0m\u001b[0m\n\u001b[0;32m----> 3\u001b[0;31m \u001b[0mos\u001b[0m\u001b[0;34m.\u001b[0m\u001b[0mrmdir\u001b[0m\u001b[0;34m(\u001b[0m\u001b[0;34m'folder2'\u001b[0m\u001b[0;34m)\u001b[0m\u001b[0;34m\u001b[0m\u001b[0;34m\u001b[0m\u001b[0m\n\u001b[0m",
      "\u001b[0;31mOSError\u001b[0m: [Errno 66] Directory not empty: 'folder2'"
     ]
    }
   ],
   "source": [
    "# 폴더 안에 파일이 있는 경우, 삭제 못함\n",
    "# OSError: [Errno 66] Directory not empty: 'folder2'\n",
    "os.rmdir('folder2')"
   ]
  },
  {
   "cell_type": "code",
   "execution_count": 30,
   "id": "379c4e47-ebb9-4243-bd22-3be52e9fbeee",
   "metadata": {},
   "outputs": [],
   "source": [
    "import shutil\n",
    "\n",
    "shutil.rmtree('folder2') # 강제로 삭제"
   ]
  },
  {
   "cell_type": "markdown",
   "id": "e4c862fd-f992-4195-b4c6-7189f25d3859",
   "metadata": {},
   "source": [
    "#### 실습2\n",
    "1. 폴더를 새로 만들어서\n",
    "2. 파일에 내용 쓰기(있으면 쓰고, 없으면 만들어라: w)\n",
    "3. 파일 열기(파일을 쓴 다음에 닫고, 다시 접근할 수 있는지 확인)"
   ]
  },
  {
   "cell_type": "code",
   "execution_count": 34,
   "id": "2ebb6f85-d21a-4f44-b18d-df770bfc9eb9",
   "metadata": {},
   "outputs": [
    {
     "name": "stdin",
     "output_type": "stream",
     "text": [
      " hello\n",
      " how are you\n",
      " bye\n",
      " \n"
     ]
    },
    {
     "name": "stdout",
     "output_type": "stream",
     "text": [
      "<built-in method read of _io.TextIOWrapper object at 0x7fb8f2be7110>\n"
     ]
    }
   ],
   "source": [
    "# 1. \n",
    "path = 'folder'\n",
    "if not os.path.isdir(path):\n",
    "    os.mkdir(path)\n",
    "    \n",
    "# 2. \n",
    "my_test = os.path.join(path, 'my_test.txt')\n",
    "with open(my_test, 'w', encoding = 'utf-8') as f:\n",
    "    while sent := input():\n",
    "        f.write(sent + '\\n')\n",
    "        \n",
    "# 3. \n",
    "with open(my_test, 'r', encoding = 'utf-8') as f:\n",
    "    final_test = f.read\n",
    "    \n",
    "print(final_test)"
   ]
  },
  {
   "cell_type": "markdown",
   "id": "25913b38-8bba-4c4d-9d61-569eab7974a5",
   "metadata": {},
   "source": [
    "#### os 기능\n",
    "- os.getcwd(): 내가 있는 dir 확인 가능\n",
    "- os.chdir('..'): dir 상위로 올라가기"
   ]
  },
  {
   "cell_type": "markdown",
   "id": "7719269d-e70d-45f7-9c72-46799d9dcd5e",
   "metadata": {},
   "source": [
    "### pickle\n",
    "- 객체를 파일로 저장하는 기능 제공\n",
    "    - 리스트, 클래스 등\n",
    "- 어떤 작업을 많이 했을 때, 중간에 사용했던 각각의 변수를 저장해서 쓰고 싶을 때 사용\n",
    "- 확장자: .pickle\n",
    "- 바이너리로 써야 함(wb, rb)\n",
    "- 예약어\n",
    "    1. dump: 넘길 때\n",
    "    2. load: 읽을 때"
   ]
  },
  {
   "cell_type": "code",
   "execution_count": 37,
   "id": "2253343b-e0b0-4a53-a510-9d74ec8fcb44",
   "metadata": {},
   "outputs": [],
   "source": [
    "import pickle\n",
    "\n",
    "nums = list(range(27))\n",
    "nums # 리스트 객체\n",
    "\n",
    "with open('test.pickle', 'wb') as f:\n",
    "    pickle.dump(nums, f)"
   ]
  },
  {
   "cell_type": "code",
   "execution_count": 38,
   "id": "6c927074-e68c-49e7-9840-79940d3df055",
   "metadata": {},
   "outputs": [
    {
     "data": {
      "text/plain": [
       "[0,\n",
       " 1,\n",
       " 2,\n",
       " 3,\n",
       " 4,\n",
       " 5,\n",
       " 6,\n",
       " 7,\n",
       " 8,\n",
       " 9,\n",
       " 10,\n",
       " 11,\n",
       " 12,\n",
       " 13,\n",
       " 14,\n",
       " 15,\n",
       " 16,\n",
       " 17,\n",
       " 18,\n",
       " 19,\n",
       " 20,\n",
       " 21,\n",
       " 22,\n",
       " 23,\n",
       " 24,\n",
       " 25,\n",
       " 26]"
      ]
     },
     "execution_count": 38,
     "metadata": {},
     "output_type": "execute_result"
    }
   ],
   "source": [
    "with open('test.pickle', 'rb') as f:\n",
    "    number = pickle.load(f)\n",
    "    \n",
    "number"
   ]
  },
  {
   "cell_type": "code",
   "execution_count": null,
   "id": "2453c6a1-4c6a-4944-9369-3fedd2e9c410",
   "metadata": {},
   "outputs": [],
   "source": []
  }
 ],
 "metadata": {
  "kernelspec": {
   "display_name": "Python 3 (ipykernel)",
   "language": "python",
   "name": "python3"
  },
  "language_info": {
   "codemirror_mode": {
    "name": "ipython",
    "version": 3
   },
   "file_extension": ".py",
   "mimetype": "text/x-python",
   "name": "python",
   "nbconvert_exporter": "python",
   "pygments_lexer": "ipython3",
   "version": "3.9.7"
  }
 },
 "nbformat": 4,
 "nbformat_minor": 5
}
