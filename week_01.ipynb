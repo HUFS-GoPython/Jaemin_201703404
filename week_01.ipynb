{
 "cells": [
  {
   "cell_type": "code",
   "execution_count": null,
   "id": "5da13d9c-60c7-4e7a-9510-5ddfeb74153e",
   "metadata": {},
   "outputs": [],
   "source": [
    "# insert cell : b\n",
    "# run : shift + enter\n",
    "# delete : dd\n",
    "# markdown : m\n",
    "# code : y\n",
    "# raw : r"
   ]
  },
  {
   "cell_type": "markdown",
   "id": "9811b5ce-36af-4413-b07c-165e65ab3fe4",
   "metadata": {
    "tags": []
   },
   "source": [
    "## 프로그래밍이란?\n",
    "- 프로그래밍 언어를 사용하여 프로그램을 개발하는 것\n",
    "- 논리적인 사고를 가질 수 있음\n",
    "\n",
    "## programming language?\n",
    "- 프로그램을 개발할 때 사용하는 도구\n",
    "- 인간이 원하는 것을 컴퓨터에게 명령할 때 사용하는 컴퓨터가 이해할 수 있는 언어\n",
    "- 인간이 이해하기 쉬울수록 학습에 용이하고, 컴퓨터가 이해하기 쉬울수록 인간에게 난해함\n",
    "\n",
    "## 파이썬?\n",
    "- 쉽고 간결함\n",
    "- 라이브러리가 많음(추가적인 기능을 쉽게 수행할 수 있게 도와주는 것)"
   ]
  },
  {
   "cell_type": "markdown",
   "id": "7e0b60fb-fef0-4107-8ce0-f6535a7681f4",
   "metadata": {
    "tags": []
   },
   "source": [
    "## Chapter 2. Data: Types, Values, Variables, and Names"
   ]
  },
  {
   "cell_type": "code",
   "execution_count": 1,
   "id": "35203b86-d609-4141-807b-91b811880996",
   "metadata": {},
   "outputs": [
    {
     "data": {
      "text/plain": [
       "2"
      ]
     },
     "execution_count": 1,
     "metadata": {},
     "output_type": "execute_result"
    }
   ],
   "source": [
    "a = 2\n",
    "a"
   ]
  },
  {
   "cell_type": "code",
   "execution_count": 2,
   "id": "47bdbfce-f31c-4dbe-a96f-ea277133d3fe",
   "metadata": {},
   "outputs": [
    {
     "data": {
      "text/plain": [
       "True"
      ]
     },
     "execution_count": 2,
     "metadata": {},
     "output_type": "execute_result"
    }
   ],
   "source": [
    "a == 2"
   ]
  },
  {
   "cell_type": "code",
   "execution_count": 3,
   "id": "97e3fd16-b19e-4d54-a45c-8fa3d8b30367",
   "metadata": {},
   "outputs": [
    {
     "data": {
      "text/plain": [
       "False"
      ]
     },
     "execution_count": 3,
     "metadata": {},
     "output_type": "execute_result"
    }
   ],
   "source": [
    "a == 3"
   ]
  },
  {
   "cell_type": "markdown",
   "id": "6a4f8b86-7c1a-46bd-9406-f772b0cbd11f",
   "metadata": {},
   "source": [
    "- 변수(Variable): 특정 값을 저장하는 공간 # a가 해당\n",
    "- 값(Value): 공간에 저장된 특정 값 # a라는 공간에 저장된 값\n",
    "- 할당(Assign): 변수에 값을 넣는 것 # a라는 공간에 2라는 값을 할당\n",
    "- 자료형(Type): 데이터의 형태 # 데이터 a의 형태는 integer"
   ]
  },
  {
   "cell_type": "code",
   "execution_count": 4,
   "id": "a085bda5-36e7-4da5-9fd5-c3474eeb2ed2",
   "metadata": {},
   "outputs": [
    {
     "name": "stdout",
     "output_type": "stream",
     "text": [
      "2\n"
     ]
    }
   ],
   "source": [
    "print(a)"
   ]
  },
  {
   "cell_type": "code",
   "execution_count": 5,
   "id": "0b9f3636-da02-4e3e-a312-eeffb9a632cc",
   "metadata": {},
   "outputs": [
    {
     "data": {
      "text/plain": [
       "2"
      ]
     },
     "execution_count": 5,
     "metadata": {},
     "output_type": "execute_result"
    }
   ],
   "source": [
    "a"
   ]
  },
  {
   "cell_type": "code",
   "execution_count": 6,
   "id": "00ab969d-b725-4bed-b93b-f773a8876030",
   "metadata": {},
   "outputs": [
    {
     "data": {
      "text/plain": [
       "int"
      ]
     },
     "execution_count": 6,
     "metadata": {},
     "output_type": "execute_result"
    }
   ],
   "source": [
    "type(a)"
   ]
  },
  {
   "cell_type": "code",
   "execution_count": 7,
   "id": "8f8710a0-3361-44d8-b1e8-7fdbbda2f8ac",
   "metadata": {},
   "outputs": [
    {
     "data": {
      "text/plain": [
       "bool"
      ]
     },
     "execution_count": 7,
     "metadata": {},
     "output_type": "execute_result"
    }
   ],
   "source": [
    "type(a == 2)"
   ]
  },
  {
   "cell_type": "code",
   "execution_count": 8,
   "id": "39c5df42-555a-4023-9fea-4969c17f3535",
   "metadata": {},
   "outputs": [
    {
     "data": {
      "text/plain": [
       "bool"
      ]
     },
     "execution_count": 8,
     "metadata": {},
     "output_type": "execute_result"
    }
   ],
   "source": [
    "type(a == 3)"
   ]
  },
  {
   "cell_type": "markdown",
   "id": "51277ba1-e981-466b-811f-105985671d6b",
   "metadata": {},
   "source": [
    "### Type\n",
    "- integer(정수): 1, 2, 3, ... # int\n",
    "- floating point number(부동소수점): 0.1, 0.2, ... , 1.0, 2.0, ... # float\n",
    "- string(문자열): \"alpha\", \"beta\", ... # str\n",
    "- boolean(불리언): True, False # bool"
   ]
  },
  {
   "cell_type": "code",
   "execution_count": 9,
   "id": "daeee19f-7ade-45e0-bf84-6b680af4ea58",
   "metadata": {},
   "outputs": [
    {
     "data": {
      "text/plain": [
       "str"
      ]
     },
     "execution_count": 9,
     "metadata": {},
     "output_type": "execute_result"
    }
   ],
   "source": [
    "type(\"120\")"
   ]
  },
  {
   "cell_type": "code",
   "execution_count": 10,
   "id": "da16c0dd-e37b-4875-a6f2-ea932731b920",
   "metadata": {},
   "outputs": [
    {
     "data": {
      "text/plain": [
       "str"
      ]
     },
     "execution_count": 10,
     "metadata": {},
     "output_type": "execute_result"
    }
   ],
   "source": [
    "type(\"alpha\")"
   ]
  },
  {
   "cell_type": "code",
   "execution_count": 11,
   "id": "8ef3192a-f4bd-4c1a-918c-9bfb102e8a0a",
   "metadata": {},
   "outputs": [
    {
     "ename": "NameError",
     "evalue": "name 'alpha' is not defined",
     "output_type": "error",
     "traceback": [
      "\u001b[0;31m---------------------------------------------------------------------------\u001b[0m",
      "\u001b[0;31mNameError\u001b[0m                                 Traceback (most recent call last)",
      "\u001b[0;32m/var/folders/qv/869nctd5709b62173q7l0mxh0000gn/T/ipykernel_32372/1674956578.py\u001b[0m in \u001b[0;36m<module>\u001b[0;34m\u001b[0m\n\u001b[0;32m----> 1\u001b[0;31m \u001b[0mtype\u001b[0m\u001b[0;34m(\u001b[0m\u001b[0malpha\u001b[0m\u001b[0;34m)\u001b[0m\u001b[0;34m\u001b[0m\u001b[0;34m\u001b[0m\u001b[0m\n\u001b[0m",
      "\u001b[0;31mNameError\u001b[0m: name 'alpha' is not defined"
     ]
    }
   ],
   "source": [
    "type(alpha)"
   ]
  },
  {
   "cell_type": "code",
   "execution_count": 12,
   "id": "ae9640c7-af6e-4b99-8f54-9232f0bc1fe9",
   "metadata": {},
   "outputs": [],
   "source": [
    "name = \"kim\""
   ]
  },
  {
   "cell_type": "code",
   "execution_count": 13,
   "id": "7fd998e2-8eb7-420f-b5f7-0fec2a100c24",
   "metadata": {},
   "outputs": [
    {
     "name": "stdout",
     "output_type": "stream",
     "text": [
      "kim\n"
     ]
    }
   ],
   "source": [
    "print(name)"
   ]
  },
  {
   "cell_type": "code",
   "execution_count": 14,
   "id": "8ca79fe3-a2a0-40e9-abe1-ae684861a41e",
   "metadata": {},
   "outputs": [
    {
     "data": {
      "text/plain": [
       "str"
      ]
     },
     "execution_count": 14,
     "metadata": {},
     "output_type": "execute_result"
    }
   ],
   "source": [
    "type(name)"
   ]
  },
  {
   "cell_type": "markdown",
   "id": "aed4c08f-2731-4098-ac17-b14628935843",
   "metadata": {},
   "source": [
    "### '할당'이란\n",
    "- '=' 기호를 통해 변수에 값을 할당\n",
    "- 수학에서는 '양변이 같다'라는 의미로 사용되지만 프로그래밍에서는 '할당하다'라는 의미로 사용\n",
    "- '=' 오른쪽 값(int, float, str 값)을 '=' 왼쪽(저장공간, 변수)에 할당한다는 뜻\n",
    "- 변수는 값을 가져야 함(초기화)\n",
    "- 같은 변수에 다른 값을 넣을 수 있음"
   ]
  },
  {
   "cell_type": "code",
   "execution_count": 15,
   "id": "8b922c31-44df-4051-9d08-82973e8a10c6",
   "metadata": {},
   "outputs": [],
   "source": [
    "x = 4 # x라는 변수에 4라는 값을 할당(변수 x 초기화)\n",
    "y = x + 3"
   ]
  },
  {
   "cell_type": "code",
   "execution_count": 16,
   "id": "d8d508b7-0a43-4b83-b20f-324139cb2932",
   "metadata": {},
   "outputs": [
    {
     "data": {
      "text/plain": [
       "(4, 7)"
      ]
     },
     "execution_count": 16,
     "metadata": {},
     "output_type": "execute_result"
    }
   ],
   "source": [
    "x, y"
   ]
  },
  {
   "cell_type": "code",
   "execution_count": 17,
   "id": "15db2c86-d771-498d-b9d0-d1cd56f97894",
   "metadata": {},
   "outputs": [],
   "source": [
    "name1 = \"kim\"\n",
    "name1 = \"lee\"\n",
    "name1 = \"park\"\n",
    "name1 = 4"
   ]
  },
  {
   "cell_type": "code",
   "execution_count": 18,
   "id": "030e21e1-c60c-4950-ae9e-51aea3b55b24",
   "metadata": {},
   "outputs": [
    {
     "name": "stdout",
     "output_type": "stream",
     "text": [
      "4\n"
     ]
    }
   ],
   "source": [
    "print(name1)"
   ]
  },
  {
   "cell_type": "code",
   "execution_count": 19,
   "id": "1bea2b3d-e52c-4e86-8bee-011cbfbbc57d",
   "metadata": {},
   "outputs": [],
   "source": [
    "name2 = 4\n",
    "name2 = \"park\"\n",
    "name2 = \"lee\"\n",
    "name2 = \"kim\""
   ]
  },
  {
   "cell_type": "code",
   "execution_count": 21,
   "id": "f71040c7-cdab-4cbd-ac40-72ea68d0476e",
   "metadata": {},
   "outputs": [
    {
     "name": "stdout",
     "output_type": "stream",
     "text": [
      "kim\n"
     ]
    }
   ],
   "source": [
    "print(name2) # 마지막에 할당한 값이 도출됨, 변수명을 동일하게 사용하지 않는 것이 좋음"
   ]
  },
  {
   "cell_type": "markdown",
   "id": "fda5438b-09f0-4a9d-9049-c92b8e771ad0",
   "metadata": {},
   "source": [
    "### 변수명 정하기\n",
    "- 나쁜 변수명은 자양할 것(a, b, c, a1, b1, ...)\n",
    "- 이해하기 쉬운 변수명을 지향\n",
    "- 소문자, 대문자, 숫자, 언더바를 사용(name, name2, my_name, myName, ...)"
   ]
  },
  {
   "cell_type": "code",
   "execution_count": 29,
   "id": "fdb1d284-d4ab-444c-bed8-cecc777e4567",
   "metadata": {},
   "outputs": [
    {
     "name": "stdout",
     "output_type": "stream",
     "text": [
      "jaemin, juliette, violet, jessica\n"
     ]
    }
   ],
   "source": [
    "name = 'jaemin'\n",
    "name1 = 'juliette'\n",
    "my_name = \"violet\"\n",
    "myName = \"jessica\" # 카멜표기법(낙타 등)\n",
    "\n",
    "print(name, name1, my_name, myName, sep=', ') # sep = 값을 나누는 방법"
   ]
  },
  {
   "cell_type": "markdown",
   "id": "23edfe71-2491-423c-8564-7ffe1c5274f7",
   "metadata": {},
   "source": [
    "- 변수명으로 지정해서는 안되는 것\n",
    "    - 숫자로 시작할 수 없음 ex)100name, 100_name\n",
    "    - 예약어로 선언할 수 없음(아래 예약어 확인)"
   ]
  },
  {
   "cell_type": "code",
   "execution_count": 30,
   "id": "17a5b520-65aa-4d40-ae30-e07ad35f403e",
   "metadata": {},
   "outputs": [
    {
     "name": "stdout",
     "output_type": "stream",
     "text": [
      "\n",
      "Here is a list of the Python keywords.  Enter any keyword to get more help.\n",
      "\n",
      "False               break               for                 not\n",
      "None                class               from                or\n",
      "True                continue            global              pass\n",
      "__peg_parser__      def                 if                  raise\n",
      "and                 del                 import              return\n",
      "as                  elif                in                  try\n",
      "assert              else                is                  while\n",
      "async               except              lambda              with\n",
      "await               finally             nonlocal            yield\n",
      "\n"
     ]
    }
   ],
   "source": [
    "help(\"keywords\") # 예약어 확인"
   ]
  },
  {
   "cell_type": "markdown",
   "id": "ef08d71c-8b23-4bfb-ba78-496cbe85c655",
   "metadata": {},
   "source": [
    "- 변수명으로 지정할 때 조심해야 할 이름(다른 특별한 용도가 있음)\n",
    "    - 언더바로 시작하는 변수명 ex) _name\n",
    "    - 더블 언더바로 시작하고 끝나는 변수명 ex) name__\n",
    "    - 대문자로 시작하는 변수명 ex) Name\n",
    "    - 전체 대문자 ex) NAME"
   ]
  },
  {
   "cell_type": "code",
   "execution_count": 31,
   "id": "5c991623-89fe-4ec8-baee-2c08852ce376",
   "metadata": {},
   "outputs": [
    {
     "data": {
      "text/plain": [
       "False"
      ]
     },
     "execution_count": 31,
     "metadata": {},
     "output_type": "execute_result"
    }
   ],
   "source": [
    "# 대소문자 차이가 있으면 다른 변수\n",
    "num = 10\n",
    "Num = 100\n",
    "\n",
    "num == Num"
   ]
  },
  {
   "cell_type": "code",
   "execution_count": 32,
   "id": "4bf2020d-1a3f-40d6-becc-8facc6337a2e",
   "metadata": {},
   "outputs": [
    {
     "data": {
      "text/plain": [
       "True"
      ]
     },
     "execution_count": 32,
     "metadata": {},
     "output_type": "execute_result"
    }
   ],
   "source": [
    "num = \"Number\"\n",
    "Num = \"number\"\n",
    "\n",
    "num != Num"
   ]
  },
  {
   "cell_type": "code",
   "execution_count": null,
   "id": "7b326cbd-8cfb-4ba1-9b35-d6a1851da756",
   "metadata": {},
   "outputs": [],
   "source": []
  }
 ],
 "metadata": {
  "kernelspec": {
   "display_name": "Python 3 (ipykernel)",
   "language": "python",
   "name": "python3"
  },
  "language_info": {
   "codemirror_mode": {
    "name": "ipython",
    "version": 3
   },
   "file_extension": ".py",
   "mimetype": "text/x-python",
   "name": "python",
   "nbconvert_exporter": "python",
   "pygments_lexer": "ipython3",
   "version": "3.9.7"
  }
 },
 "nbformat": 4,
 "nbformat_minor": 5
}
