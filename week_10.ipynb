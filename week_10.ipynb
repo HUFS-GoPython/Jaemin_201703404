{
 "cells": [
  {
   "cell_type": "markdown",
   "id": "4c2fa7c1-dd53-4377-ba79-fd3112b08d31",
   "metadata": {
    "tags": []
   },
   "source": [
    "## 10. 객체와 클래스\n",
    "- object\n",
    "- 객체지향프로그래밍\n",
    "- 속성과 행동을 가지는 개념(실존하는 물체일 수도 있음)\n",
    "        - 예: 자동차, 강아지, 꽃, ...thing\n",
    "        - 속성: 브랜드, 색, 속도, 모델, ... >> 변수\n",
    "            - 이름, 종, 색, 무게, ...\n",
    "        - 행동: 가다, 서다, 회전, 주차, ... >> 메소드(함수)\n",
    "            - 뛰다, 짖다, 자다, 핥다, ...\n",
    "            \n",
    "- 편의점 >> \"고객이 편의점에서 과자를 샀다\"\n",
    "    - 고객(사람): 이름, 돈 / 물건 사다, 돈 내다\n",
    "    - 편의점: 재고, 수익 / 팔다, 수익 남기다, 물건 등록\n",
    "    - 과자(물건): 이름, 브랜드, 가격 / 행동 설정 안해도 됨\n",
    "\n",
    "    > 위 세 가지의 상호작용으로 코드를 구성하는 것"
   ]
  },
  {
   "cell_type": "markdown",
   "id": "38656ac1-ff47-45c9-bcde-178a02f0ee1b",
   "metadata": {},
   "source": [
    "### 클래스 선언\n",
    "- 첫글자는 대문자\n",
    "- nice car >> Nice_car (x)\n",
    "- NiceCar (o) >> 카멜 표기법 사용\n",
    "\n",
    "- 정의부, 선언부가 존재\n",
    "    - 정의부 = 붕어빵 틀\n",
    "    - 선언부 = 붕어빵"
   ]
  },
  {
   "cell_type": "code",
   "execution_count": 1,
   "id": "d3fb360f-6470-45cf-931a-3b7da2207a86",
   "metadata": {},
   "outputs": [
    {
     "data": {
      "text/plain": [
       "<__main__.Car at 0x7fe73c9e5f70>"
      ]
     },
     "execution_count": 1,
     "metadata": {},
     "output_type": "execute_result"
    }
   ],
   "source": [
    "# 정의부\n",
    "class Car:\n",
    "    pass\n",
    "\n",
    "# 선언부\n",
    "my_car = Car()\n",
    "my_car # instance(붕어빵)"
   ]
  },
  {
   "cell_type": "code",
   "execution_count": 2,
   "id": "b9be16af-4090-44d6-bcab-1d58acbf5643",
   "metadata": {},
   "outputs": [
    {
     "data": {
      "text/plain": [
       "'bmw'"
      ]
     },
     "execution_count": 2,
     "metadata": {},
     "output_type": "execute_result"
    }
   ],
   "source": [
    "my_car.name = 'bmw'\n",
    "my_car.color = 'white'\n",
    "\n",
    "my_car.name # 접근 방법"
   ]
  },
  {
   "cell_type": "code",
   "execution_count": 3,
   "id": "59540c7a-b090-454f-b1a7-d562c2bf8df8",
   "metadata": {},
   "outputs": [],
   "source": [
    "# name 변경하기에 번거로움이 있음\n",
    "class Car:\n",
    "    name = 'BMW'"
   ]
  },
  {
   "cell_type": "code",
   "execution_count": 4,
   "id": "7a799cdb-33f7-4300-85df-c045c5e30d70",
   "metadata": {},
   "outputs": [
    {
     "data": {
      "text/plain": [
       "'Kia'"
      ]
     },
     "execution_count": 4,
     "metadata": {},
     "output_type": "execute_result"
    }
   ],
   "source": [
    "# 접근하기 번거로움\n",
    "your_car = Car()\n",
    "your_car.name = 'Kia'\n",
    "your_car.name"
   ]
  },
  {
   "cell_type": "code",
   "execution_count": 5,
   "id": "6d7e34f3-5b1d-4f7a-afb2-4f506530c09d",
   "metadata": {},
   "outputs": [],
   "source": [
    "# ex\n",
    "class Car:\n",
    "    def __init__(self, name): # 속성 초기화 함수\n",
    "        # 객체 만들 때 들어오는 값으로 이름을 설정하고 싶을때\n",
    "        self.name = name\n",
    "        # self == instance: 나 자신(인스턴스 자신)"
   ]
  },
  {
   "cell_type": "code",
   "execution_count": 6,
   "id": "eb362887-3ab8-481c-83c6-542a6cf98eac",
   "metadata": {},
   "outputs": [
    {
     "data": {
      "text/plain": [
       "'Hyundai'"
      ]
     },
     "execution_count": 6,
     "metadata": {},
     "output_type": "execute_result"
    }
   ],
   "source": [
    "her_car = Car(name = 'Hyundai') # name 초기화\n",
    "her_car.name"
   ]
  },
  {
   "cell_type": "code",
   "execution_count": 7,
   "id": "c8786bf6-830f-4d7d-81dc-32b1af115425",
   "metadata": {},
   "outputs": [
    {
     "data": {
      "text/plain": [
       "'Toyota'"
      ]
     },
     "execution_count": 7,
     "metadata": {},
     "output_type": "execute_result"
    }
   ],
   "source": [
    "car2 = Car('Toyota') # name 초기화(2)\n",
    "car2.name"
   ]
  },
  {
   "cell_type": "code",
   "execution_count": 8,
   "id": "ab5885e6-5f6d-480c-bbe8-43186b31e0b1",
   "metadata": {},
   "outputs": [
    {
     "name": "stdout",
     "output_type": "stream",
     "text": [
      "Kia SM6 black\n",
      "차가 갑니다\n",
      "Kia가 갑니다\n",
      "차가 섭니다\n",
      "matt black\n"
     ]
    }
   ],
   "source": [
    "#1 {차 이름}가 출발합니다\n",
    "#2 gray로 바꾼다.\n",
    "#3 color 받아서 그걸로 지정\n",
    "#4 color 들어오면 그 값으로 설정, 아니면 'black'으로\n",
    "#5 model 생성할 때 안넣어도 되게 설정\n",
    "\n",
    "class Car:\n",
    "    def __init__(self, name, model = None, color = 'black'):\n",
    "        self.name = name\n",
    "        self.model = model\n",
    "        self.color = color\n",
    "        \n",
    "    def drive(self):\n",
    "        print('차가 갑니다')\n",
    "        print(f'{self.name}가 갑니다')\n",
    "        \n",
    "    def stop(self):\n",
    "        print('차가 섭니다')\n",
    "        \n",
    "    def change_color(self, new_color):\n",
    "        self.color = new_color\n",
    "        \n",
    "        \n",
    "car3 = Car('Kia', 'SM6', 'black')\n",
    "\n",
    "print(car3.name, car3.model, car3.color)\n",
    "car3.drive()\n",
    "car3.stop()\n",
    "car3.change_color('matt black')\n",
    "print(car3.color)"
   ]
  },
  {
   "cell_type": "markdown",
   "id": "77b764df-c122-4660-8a0f-076248aaad84",
   "metadata": {},
   "source": [
    "### 캡슐화, 정보 은닉\n",
    "- public >> private로 바꾸는 작업(java)\n",
    "- getter, setter(C)"
   ]
  },
  {
   "cell_type": "code",
   "execution_count": 9,
   "id": "68ecd48d-4a4b-49f2-ba3a-7f8217b6e074",
   "metadata": {},
   "outputs": [
    {
     "data": {
      "text/plain": [
       "'red'"
      ]
     },
     "execution_count": 9,
     "metadata": {},
     "output_type": "execute_result"
    }
   ],
   "source": [
    "# ex\n",
    "class Fruit:\n",
    "    color = 'red'\n",
    "    \n",
    "kiwi = Fruit()\n",
    "kiwi.color"
   ]
  },
  {
   "cell_type": "code",
   "execution_count": 10,
   "id": "c9cb177c-dbde-44da-8320-7933a3a5961d",
   "metadata": {},
   "outputs": [
    {
     "data": {
      "text/plain": [
       "'black'"
      ]
     },
     "execution_count": 10,
     "metadata": {},
     "output_type": "execute_result"
    }
   ],
   "source": [
    "Fruit.color = 'black' # 기존 color을 덮어버림\n",
    "apple = Fruit()\n",
    "apple.color"
   ]
  },
  {
   "cell_type": "markdown",
   "id": "8499887b-382f-4205-8ecc-ca532a407f77",
   "metadata": {},
   "source": [
    "#### get set\n",
    "- getter: 클래스 내 객체 변수 반환\n",
    "- setter: == 변수 설정"
   ]
  },
  {
   "cell_type": "code",
   "execution_count": 11,
   "id": "8455516d-fa86-4952-b19c-e3eeb14778ad",
   "metadata": {},
   "outputs": [
    {
     "name": "stdout",
     "output_type": "stream",
     "text": [
      "name1\n",
      "name2\n",
      "name3\n"
     ]
    }
   ],
   "source": [
    "#1. java\n",
    "class Car:\n",
    "    def __init__(self, input_name):\n",
    "        self.name = input_name\n",
    "        \n",
    "    def get_name(self):\n",
    "        # 변수 반환\n",
    "        return self.name\n",
    "    \n",
    "    def set_name(self, input_name):\n",
    "        # return 값 없음\n",
    "        self.name = input_name\n",
    "        \n",
    "        \n",
    "c = Car('name1')\n",
    "print(c.get_name())\n",
    "\n",
    "c.set_name('name2')\n",
    "print(c.name)\n",
    "\n",
    "c.name = 'name3'\n",
    "print(c.name)"
   ]
  },
  {
   "cell_type": "code",
   "execution_count": 12,
   "id": "56456cf9-adc2-4618-a9a3-5329f8ef13d3",
   "metadata": {},
   "outputs": [
    {
     "data": {
      "text/plain": [
       "'name_1'"
      ]
     },
     "execution_count": 12,
     "metadata": {},
     "output_type": "execute_result"
    }
   ],
   "source": [
    "#2. python\n",
    "class Car:\n",
    "    def __init__(self, input_name):\n",
    "        self.hidden_name = input_name\n",
    "        \n",
    "    def get_name(self):\n",
    "        # 변수 반환\n",
    "        return self.hidden_name\n",
    "    \n",
    "    def set_name(self, input_name):\n",
    "        self.hidden_name = input_name\n",
    "        \n",
    "    # name 지정, property 사용\n",
    "    name = property(get_name, set_name)\n",
    "    \n",
    "    \n",
    "d = Car('name_1')\n",
    "d.name"
   ]
  },
  {
   "cell_type": "code",
   "execution_count": 13,
   "id": "dc886dfc-ffc5-4115-af06-394f406a9fba",
   "metadata": {},
   "outputs": [
    {
     "data": {
      "text/plain": [
       "'name a'"
      ]
     },
     "execution_count": 13,
     "metadata": {},
     "output_type": "execute_result"
    }
   ],
   "source": [
    "#3. 완성형(밖에서 쉽게 바꾸지 못하도록 가리는 작업)\n",
    "class Car:\n",
    "    def __init__(self, input_name):\n",
    "        self.hidden_name = input_name\n",
    "        \n",
    "    @property # getter\n",
    "    def name(self):\n",
    "        # 변수 반환\n",
    "        return self.hidden_name\n",
    "    \n",
    "    @name.setter # setter\n",
    "    def set_name(self, input_name):\n",
    "        self.hidden_name = input_name\n",
    "        \n",
    "        \n",
    "e = Car('name a')\n",
    "e.name"
   ]
  },
  {
   "cell_type": "code",
   "execution_count": 14,
   "id": "99727373-66ba-4006-878b-77ea2f0d91bd",
   "metadata": {},
   "outputs": [
    {
     "data": {
      "text/plain": [
       "'name a'"
      ]
     },
     "execution_count": 14,
     "metadata": {},
     "output_type": "execute_result"
    }
   ],
   "source": [
    "# 아예 못가리는 것은 아님\n",
    "e.hidden_name"
   ]
  },
  {
   "cell_type": "code",
   "execution_count": 15,
   "id": "8c9c5096-e2b7-4099-9bb0-d57bec15bb38",
   "metadata": {},
   "outputs": [
    {
     "ename": "AttributeError",
     "evalue": "'Car' object has no attribute '__name'",
     "output_type": "error",
     "traceback": [
      "\u001b[0;31m---------------------------------------------------------------------------\u001b[0m",
      "\u001b[0;31mAttributeError\u001b[0m                            Traceback (most recent call last)",
      "\u001b[0;32m/var/folders/qv/869nctd5709b62173q7l0mxh0000gn/T/ipykernel_64463/1447048146.py\u001b[0m in \u001b[0;36m<module>\u001b[0;34m\u001b[0m\n\u001b[1;32m     16\u001b[0m \u001b[0;31m# 오류\u001b[0m\u001b[0;34m\u001b[0m\u001b[0;34m\u001b[0m\u001b[0m\n\u001b[1;32m     17\u001b[0m \u001b[0mf\u001b[0m \u001b[0;34m=\u001b[0m \u001b[0mCar\u001b[0m\u001b[0;34m(\u001b[0m\u001b[0;34m'name b'\u001b[0m\u001b[0;34m)\u001b[0m\u001b[0;34m\u001b[0m\u001b[0;34m\u001b[0m\u001b[0m\n\u001b[0;32m---> 18\u001b[0;31m \u001b[0mf\u001b[0m\u001b[0;34m.\u001b[0m\u001b[0m__name\u001b[0m\u001b[0;34m\u001b[0m\u001b[0;34m\u001b[0m\u001b[0m\n\u001b[0m",
      "\u001b[0;31mAttributeError\u001b[0m: 'Car' object has no attribute '__name'"
     ]
    }
   ],
   "source": [
    "#4. 아예 바꾸지(접근) 못하게 하는 방법 \"언더바*2 + 변수\"\n",
    "class Car:\n",
    "    def __init__(self, input_name):\n",
    "        self.__name = input_name\n",
    "        \n",
    "    @property # getter\n",
    "    def name(self):\n",
    "        # 변수 반환\n",
    "        return self.__name\n",
    "    \n",
    "    @name.setter # setter\n",
    "    def set_name(self, input_name):\n",
    "        self.__name = input_name\n",
    "        \n",
    "        \n",
    "# 오류\n",
    "f = Car('name b')\n",
    "f.__name"
   ]
  },
  {
   "cell_type": "code",
   "execution_count": 16,
   "id": "15bfa1df-ebb5-4284-9c44-f504e49e1f61",
   "metadata": {},
   "outputs": [
    {
     "name": "stdout",
     "output_type": "stream",
     "text": [
      "10\n",
      "38\n"
     ]
    }
   ],
   "source": [
    "class Circle:\n",
    "    def __init__(self, radius):\n",
    "        self.radius = radius\n",
    "        \n",
    "    @property\n",
    "    def parameter(self):\n",
    "        return self.radius * 2\n",
    "    \n",
    "    \n",
    "ex = Circle(5)\n",
    "print(ex.parameter)\n",
    "\n",
    "ex.radius = 19\n",
    "print(ex.parameter)"
   ]
  },
  {
   "cell_type": "markdown",
   "id": "72a63b91-d9ba-4e67-ba51-d3a34b6ec3f0",
   "metadata": {},
   "source": [
    "### 실습\n",
    "- 메모장, 메모 구현하기\n",
    "- 메모장\n",
    "    - 속성: 제목, 페이지번호, 메모\n",
    "    - 메모 추가하다, 메모 삭제하다, 페이지번호 확인하다\n",
    "- 메모\n",
    "    - 속성: 글귀\n",
    "    - 행동: 쓰다, 지우다\n",
    "    \n",
    "- 사용:\n",
    "    - 메모 쓴다\n",
    "    - 메모장에 추가\n",
    "        - 페이지 번호가 늘어난다\n",
    "    - 메모 삭제\n",
    "        - 페이지 번호 줄어든다\n",
    "    - 메모장 >> 제목만 은닉"
   ]
  },
  {
   "cell_type": "code",
   "execution_count": 78,
   "id": "18d32cb0-8eb0-4432-9cb2-ba0643f5437e",
   "metadata": {},
   "outputs": [],
   "source": [
    "class Notebook:\n",
    "    def __init__(self, title = None, page = 0, memo = []):\n",
    "        self.__title = title\n",
    "        self.page = page\n",
    "        self.memo = memo\n",
    "        \n",
    "    @property\n",
    "    def get_title(self):\n",
    "        return self.__title\n",
    "        \n",
    "    def add_note(self, note = []):\n",
    "        self.memo.extend(note)\n",
    "        self.page += 1\n",
    "    \n",
    "    def delete_note(self, note):\n",
    "        self.memo.remove(note)\n",
    "        self.page -= 1\n",
    "    \n",
    "    def get_page(self):\n",
    "        return self.page\n",
    "    \n",
    "    def print_book(self):\n",
    "        for page, line in enumerate(self.memo):\n",
    "            print(f\"Page {page}\\n{line}\")\n",
    "    \n",
    "class Note:\n",
    "    def __init__(self, memo = []):\n",
    "        self.memo = memo\n",
    "        \n",
    "    def write(self, sentence):\n",
    "        self.memo.append(sentence)\n",
    "    \n",
    "    def erase(self, sentence):\n",
    "        self.memo.remove(sentence)\n",
    "        \n",
    "    def print_note(self):\n",
    "        for page, line in enumerate(self.memo):\n",
    "            print(f\"Page {page}\\n{line}\")\n",
    "        \n",
    "        \n",
    "# 사용\n",
    "line1 = '우리 모두 스스로가 원하는 리더가 됩시다.'\n",
    "line2 = '모두가 함께 앞으로 나아가면 성공은 저절로 따라옵니다.'\n",
    "line3 = '혼자서는 작은 한 방울이지만 함께 모이면 바다를 이룹니다.'"
   ]
  },
  {
   "cell_type": "code",
   "execution_count": 79,
   "id": "f614d4c6-128a-4f88-b9c0-f1151f028a00",
   "metadata": {},
   "outputs": [
    {
     "name": "stdout",
     "output_type": "stream",
     "text": [
      "Page 0\n",
      "우리 모두 스스로가 원하는 리더가 됩시다.\n",
      "Page 1\n",
      "모두가 함께 앞으로 나아가면 성공은 저절로 따라옵니다.\n",
      "Page 2\n",
      "혼자서는 작은 한 방울이지만 함께 모이면 바다를 이룹니다.\n",
      "Page 3\n",
      "우리 모두 스스로가 원하는 리더가 됩시다.\n",
      "Page 4\n",
      "모두가 함께 앞으로 나아가면 성공은 저절로 따라옵니다.\n",
      "Page 5\n",
      "혼자서는 작은 한 방울이지만 함께 모이면 바다를 이룹니다.\n"
     ]
    }
   ],
   "source": [
    "# 메모 생성\n",
    "my_note = Note()\n",
    "my_note.write(line1)\n",
    "my_note.write(line2)\n",
    "my_note.write(line3)\n",
    "my_note.write(line1)\n",
    "my_note.write(line2)\n",
    "my_note.write(line3)\n",
    "my_note.print_note()"
   ]
  },
  {
   "cell_type": "code",
   "execution_count": 80,
   "id": "22bdf68e-c857-47f2-85ff-e425f32c5ed8",
   "metadata": {},
   "outputs": [
    {
     "name": "stdout",
     "output_type": "stream",
     "text": [
      "Page 0\n",
      "모두가 함께 앞으로 나아가면 성공은 저절로 따라옵니다.\n",
      "Page 1\n",
      "혼자서는 작은 한 방울이지만 함께 모이면 바다를 이룹니다.\n",
      "Page 2\n",
      "우리 모두 스스로가 원하는 리더가 됩시다.\n",
      "Page 3\n",
      "모두가 함께 앞으로 나아가면 성공은 저절로 따라옵니다.\n",
      "Page 4\n",
      "혼자서는 작은 한 방울이지만 함께 모이면 바다를 이룹니다.\n"
     ]
    }
   ],
   "source": [
    "# 메모 삭제\n",
    "my_note.erase(line1)\n",
    "my_note.print_note()"
   ]
  },
  {
   "cell_type": "code",
   "execution_count": 81,
   "id": "fa12f9ea-a284-47ef-a4d2-ec0406323a6b",
   "metadata": {},
   "outputs": [
    {
     "name": "stdout",
     "output_type": "stream",
     "text": [
      "Page 0\n",
      "모두가 함께 앞으로 나아가면 성공은 저절로 따라옵니다.\n",
      "Page 1\n",
      "혼자서는 작은 한 방울이지만 함께 모이면 바다를 이룹니다.\n",
      "Page 2\n",
      "우리 모두 스스로가 원하는 리더가 됩시다.\n",
      "Page 3\n",
      "모두가 함께 앞으로 나아가면 성공은 저절로 따라옵니다.\n",
      "Page 4\n",
      "혼자서는 작은 한 방울이지만 함께 모이면 바다를 이룹니다.\n"
     ]
    }
   ],
   "source": [
    "# 메모장 생성\n",
    "my_book = Notebook('메모장')\n",
    "my_book.add_note(my_note.memo)\n",
    "my_book.print_book()"
   ]
  },
  {
   "cell_type": "code",
   "execution_count": 82,
   "id": "98ca3188-5ddc-4444-9e22-e1b4f32ee167",
   "metadata": {},
   "outputs": [
    {
     "name": "stdout",
     "output_type": "stream",
     "text": [
      "Page 0\n",
      "혼자서는 작은 한 방울이지만 함께 모이면 바다를 이룹니다.\n",
      "Page 1\n",
      "우리 모두 스스로가 원하는 리더가 됩시다.\n",
      "Page 2\n",
      "모두가 함께 앞으로 나아가면 성공은 저절로 따라옵니다.\n",
      "Page 3\n",
      "혼자서는 작은 한 방울이지만 함께 모이면 바다를 이룹니다.\n"
     ]
    }
   ],
   "source": [
    "# 메모장 삭제\n",
    "my_book.delete_note(line2)\n",
    "my_book.print_book()"
   ]
  },
  {
   "cell_type": "code",
   "execution_count": 83,
   "id": "6380704b-71d8-4dd1-9398-2e6a3f3dd0dc",
   "metadata": {},
   "outputs": [
    {
     "data": {
      "text/plain": [
       "0"
      ]
     },
     "execution_count": 83,
     "metadata": {},
     "output_type": "execute_result"
    }
   ],
   "source": [
    "# 페이지 확인\n",
    "my_book.get_page()"
   ]
  },
  {
   "cell_type": "code",
   "execution_count": null,
   "id": "de9330b9-30e2-482c-b712-fa20ec10a0a9",
   "metadata": {},
   "outputs": [],
   "source": []
  }
 ],
 "metadata": {
  "kernelspec": {
   "display_name": "Python 3 (ipykernel)",
   "language": "python",
   "name": "python3"
  },
  "language_info": {
   "codemirror_mode": {
    "name": "ipython",
    "version": 3
   },
   "file_extension": ".py",
   "mimetype": "text/x-python",
   "name": "python",
   "nbconvert_exporter": "python",
   "pygments_lexer": "ipython3",
   "version": "3.9.7"
  }
 },
 "nbformat": 4,
 "nbformat_minor": 5
}
